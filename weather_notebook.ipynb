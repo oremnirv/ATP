{
 "cells": [
  {
   "cell_type": "markdown",
   "metadata": {},
   "source": [
    "## start here"
   ]
  },
  {
   "cell_type": "code",
   "execution_count": 3,
   "metadata": {},
   "outputs": [],
   "source": [
    "from model import atp_graph, losses\n",
    "from data_wrangler import synthetic_data_gen, feature_extractor, dataset_preparer\n",
    "import keras\n",
    "import numpy as np\n",
    "import pandas as pd\n",
    "import tensorflow as tf\n",
    "from model import atp_pipeline\n",
    "import argparse\n",
    "from Tutorials.helper import batcher\n",
    "import os"
   ]
  },
  {
   "cell_type": "code",
   "execution_count": 19,
   "metadata": {},
   "outputs": [],
   "source": [
    "x_train, y_train, x_val, y_val, x_test, y_test = dataset_preparer.weather_processor(path_to_weather_data=\"datasets/weather.csv\") \n",
    "save_dir = \"weights/forecasting/ETT/atp\"\n",
    "    "
   ]
  },
  {
   "cell_type": "code",
   "execution_count": 20,
   "metadata": {},
   "outputs": [],
   "source": [
    "n_C = 100\n",
    "n_T = 100\n",
    "\n",
    "opt = tf.keras.optimizers.Adam(3e-4)\n",
    "batch_size = 32"
   ]
  },
  {
   "cell_type": "code",
   "execution_count": 21,
   "metadata": {},
   "outputs": [],
   "source": [
    "from model import atp_pipeline\n",
    "from comparison_models.tnp import tnp_pipeline\n",
    "import argparse\n",
    "from Tutorials.helper import batcher"
   ]
  },
  {
   "cell_type": "markdown",
   "metadata": {},
   "source": [
    "## Training"
   ]
  },
  {
   "cell_type": "code",
   "execution_count": 22,
   "metadata": {},
   "outputs": [],
   "source": [
    "import matplotlib.pyplot as plt"
   ]
  },
  {
   "cell_type": "code",
   "execution_count": 23,
   "metadata": {},
   "outputs": [],
   "source": [
    "train_loglik = []\n",
    "val_loglik = []\n",
    "\n"
   ]
  },
  {
   "cell_type": "code",
   "execution_count": 24,
   "metadata": {},
   "outputs": [],
   "source": [
    "step = 1\n",
    "run= 51 + 0\n",
    "tf.random.set_seed(run)\n",
    "atp_model = atp_pipeline.instantiate_atp(\"ETT\")\n",
    "tr_step = atp_graph.build_graph()\n",
    "name_comp = 'run_' + str(run)\n",
    "folder = save_dir + '/ckpt/check_' + name_comp\n",
    "if not os.path.exists(folder): os.mkdir(folder)\n",
    "ckpt = tf.train.Checkpoint(step=tf.Variable(1), optimizer=opt, net=atp_model)\n",
    "manager = tf.train.CheckpointManager(ckpt, folder, max_to_keep=1)\n",
    "ckpt.restore(manager.latest_checkpoint) \n",
    "sum_mse_tot = 0; sum_nll_tot = 0\n",
    "mini = 50000\n",
    "opt = tf.keras.optimizers.Adam(3e-4)\n"
   ]
  },
  {
   "cell_type": "code",
   "execution_count": 25,
   "metadata": {
    "collapsed": true,
    "jupyter": {
     "outputs_hidden": true
    },
    "scrolled": true
   },
   "outputs": [
    {
     "name": "stdout",
     "output_type": "stream",
     "text": [
      "(32, 100, None, 1)\n",
      "(32, 100, None, 1)\n"
     ]
    },
    {
     "ename": "TypeError",
     "evalue": "in user code:\n\n    File \"/Users/omernivron/Documents/ATP/model/atp_graph.py\", line 13, in train_step  *\n        μ, log_σ = atp_model([x, y, n_C, n_T, training])\n    File \"/Users/omernivron/miniforge3/envs/tf_m1_n/lib/python3.8/site-packages/keras/utils/traceback_utils.py\", line 67, in error_handler  **\n        raise e.with_traceback(filtered_tb) from None\n\n    TypeError: Exception encountered when calling layer \"atp_pipeline_2\" (type atp_pipeline).\n    \n    in user code:\n    \n        File \"/Users/omernivron/Documents/ATP/model/atp_pipeline.py\", line 51, in call  *\n            y_diff, x_diff, d, x_n, y_n = self._DE([y, x, n_C, n_T, training])\n        File \"/Users/omernivron/miniforge3/envs/tf_m1_n/lib/python3.8/site-packages/keras/utils/traceback_utils.py\", line 67, in error_handler  **\n            raise e.with_traceback(filtered_tb) from None\n    \n        TypeError: Exception encountered when calling layer \"de_2\" (type DE).\n        \n        in user code:\n        \n            File \"/Users/omernivron/Documents/ATP/data_wrangler/feature_extractor.py\", line 80, in call  *\n                y_diff,  x_diff,  d,  x_n,  y_n = self.derivative_function([y,  x,  n_C,  n_T])\n            File \"/Users/omernivron/Documents/ATP/data_wrangler/feature_extractor.py\", line 164, in derivative_function  *\n                ix = tf.argsort(tf.cast(tf.math.reduce_euclidean_norm((current_x - x_temp),\n        \n            TypeError: Input 'y' of 'AddV2' Op has type int32 that does not match type float32 of argument 'x'.\n        \n        \n        Call arguments received:\n          • inputs=['tf.Tensor(shape=(32, None, 1), dtype=float32)', 'tf.Tensor(shape=(32, None, 1), dtype=float32)', 'tf.Tensor(shape=(), dtype=int32)', 'tf.Tensor(shape=(), dtype=int32)', 'tf.Tensor(shape=(), dtype=bool)']\n    \n    \n    Call arguments received:\n      • inputs=['tf.Tensor(shape=(32, 200, 1), dtype=float32)', 'tf.Tensor(shape=(32, 200, 1), dtype=float32)', 'tf.Tensor(shape=(), dtype=int32)', 'tf.Tensor(shape=(), dtype=int32)', 'tf.Tensor(shape=(), dtype=bool)']\n",
     "output_type": "error",
     "traceback": [
      "\u001b[0;31m---------------------------------------------------------------------------\u001b[0m",
      "\u001b[0;31mTypeError\u001b[0m                                 Traceback (most recent call last)",
      "File \u001b[0;32m<timed exec>:4\u001b[0m, in \u001b[0;36m<module>\u001b[0;34m\u001b[0m\n",
      "File \u001b[0;32m~/miniforge3/envs/tf_m1_n/lib/python3.8/site-packages/tensorflow/python/util/traceback_utils.py:153\u001b[0m, in \u001b[0;36mfilter_traceback.<locals>.error_handler\u001b[0;34m(*args, **kwargs)\u001b[0m\n\u001b[1;32m    151\u001b[0m \u001b[38;5;28;01mexcept\u001b[39;00m \u001b[38;5;167;01mException\u001b[39;00m \u001b[38;5;28;01mas\u001b[39;00m e:\n\u001b[1;32m    152\u001b[0m   filtered_tb \u001b[38;5;241m=\u001b[39m _process_traceback_frames(e\u001b[38;5;241m.\u001b[39m__traceback__)\n\u001b[0;32m--> 153\u001b[0m   \u001b[38;5;28;01mraise\u001b[39;00m e\u001b[38;5;241m.\u001b[39mwith_traceback(filtered_tb) \u001b[38;5;28;01mfrom\u001b[39;00m \u001b[38;5;28mNone\u001b[39m\n\u001b[1;32m    154\u001b[0m \u001b[38;5;28;01mfinally\u001b[39;00m:\n\u001b[1;32m    155\u001b[0m   \u001b[38;5;28;01mdel\u001b[39;00m filtered_tb\n",
      "File \u001b[0;32m~/miniforge3/envs/tf_m1_n/lib/python3.8/site-packages/tensorflow/python/framework/func_graph.py:1147\u001b[0m, in \u001b[0;36mfunc_graph_from_py_func.<locals>.autograph_handler\u001b[0;34m(*args, **kwargs)\u001b[0m\n\u001b[1;32m   1145\u001b[0m \u001b[38;5;28;01mexcept\u001b[39;00m \u001b[38;5;167;01mException\u001b[39;00m \u001b[38;5;28;01mas\u001b[39;00m e:  \u001b[38;5;66;03m# pylint:disable=broad-except\u001b[39;00m\n\u001b[1;32m   1146\u001b[0m   \u001b[38;5;28;01mif\u001b[39;00m \u001b[38;5;28mhasattr\u001b[39m(e, \u001b[38;5;124m\"\u001b[39m\u001b[38;5;124mag_error_metadata\u001b[39m\u001b[38;5;124m\"\u001b[39m):\n\u001b[0;32m-> 1147\u001b[0m     \u001b[38;5;28;01mraise\u001b[39;00m e\u001b[38;5;241m.\u001b[39mag_error_metadata\u001b[38;5;241m.\u001b[39mto_exception(e)\n\u001b[1;32m   1148\u001b[0m   \u001b[38;5;28;01melse\u001b[39;00m:\n\u001b[1;32m   1149\u001b[0m     \u001b[38;5;28;01mraise\u001b[39;00m\n",
      "\u001b[0;31mTypeError\u001b[0m: in user code:\n\n    File \"/Users/omernivron/Documents/ATP/model/atp_graph.py\", line 13, in train_step  *\n        μ, log_σ = atp_model([x, y, n_C, n_T, training])\n    File \"/Users/omernivron/miniforge3/envs/tf_m1_n/lib/python3.8/site-packages/keras/utils/traceback_utils.py\", line 67, in error_handler  **\n        raise e.with_traceback(filtered_tb) from None\n\n    TypeError: Exception encountered when calling layer \"atp_pipeline_2\" (type atp_pipeline).\n    \n    in user code:\n    \n        File \"/Users/omernivron/Documents/ATP/model/atp_pipeline.py\", line 51, in call  *\n            y_diff, x_diff, d, x_n, y_n = self._DE([y, x, n_C, n_T, training])\n        File \"/Users/omernivron/miniforge3/envs/tf_m1_n/lib/python3.8/site-packages/keras/utils/traceback_utils.py\", line 67, in error_handler  **\n            raise e.with_traceback(filtered_tb) from None\n    \n        TypeError: Exception encountered when calling layer \"de_2\" (type DE).\n        \n        in user code:\n        \n            File \"/Users/omernivron/Documents/ATP/data_wrangler/feature_extractor.py\", line 80, in call  *\n                y_diff,  x_diff,  d,  x_n,  y_n = self.derivative_function([y,  x,  n_C,  n_T])\n            File \"/Users/omernivron/Documents/ATP/data_wrangler/feature_extractor.py\", line 164, in derivative_function  *\n                ix = tf.argsort(tf.cast(tf.math.reduce_euclidean_norm((current_x - x_temp),\n        \n            TypeError: Input 'y' of 'AddV2' Op has type int32 that does not match type float32 of argument 'x'.\n        \n        \n        Call arguments received:\n          • inputs=['tf.Tensor(shape=(32, None, 1), dtype=float32)', 'tf.Tensor(shape=(32, None, 1), dtype=float32)', 'tf.Tensor(shape=(), dtype=int32)', 'tf.Tensor(shape=(), dtype=int32)', 'tf.Tensor(shape=(), dtype=bool)']\n    \n    \n    Call arguments received:\n      • inputs=['tf.Tensor(shape=(32, 200, 1), dtype=float32)', 'tf.Tensor(shape=(32, 200, 1), dtype=float32)', 'tf.Tensor(shape=(), dtype=int32)', 'tf.Tensor(shape=(), dtype=int32)', 'tf.Tensor(shape=(), dtype=bool)']\n"
     ]
    }
   ],
   "source": [
    "%%time\n",
    "\n",
    "for i in range(5000):\n",
    "    idx_list = list(range(x_train.shape[0] - (n_C+n_T)))\n",
    "    x,y,_ = batcher(x_train,y_train,idx_list,window=n_C+n_T) ####### generalise for not weather\n",
    "    _,_, nll_pp_tr , _ = tr_step(atp_model, opt, x,y,n_C,n_T, training=True)\n",
    "\n",
    "    if i % 100 == 0:\n",
    "        \n",
    "        train_loglik.append(nll_pp_tr)\n",
    "        \n",
    "        \n",
    "        idx_list = list(range(x_val.shape[0]- (n_C+n_T)))\n",
    "        t_te,y_te,_ = batcher(x_val,y_val,idx_list,batch_s = 100,window=n_C+n_T)\n",
    "        μ, log_σ = atp_model([t_te, y_te, n_C, n_T, False])\n",
    "        _,_,_, nll_pp_te, msex_te = losses.nll(y_te[:, n_C:n_C+n_T], μ, log_σ)\n",
    "        \n",
    "        val_loglik.append(nll_pp_te)\n",
    "        \n",
    "        plt.plot(train_loglik)\n",
    "        plt.plot(val_loglik)\n",
    "        print(nll_pp_te)\n",
    "        print(min(val_loglik))\n",
    "        plt.show()"
   ]
  },
  {
   "cell_type": "code",
   "execution_count": 27,
   "metadata": {
    "scrolled": true
   },
   "outputs": [
    {
     "name": "stdout",
     "output_type": "stream",
     "text": [
      "10340\n",
      "100\n",
      "10240\n",
      "100\n",
      "10140\n",
      "100\n",
      "10040\n",
      "100\n",
      "9940\n",
      "100\n",
      "9840\n",
      "100\n",
      "9740\n",
      "100\n",
      "9640\n",
      "100\n",
      "9540\n",
      "100\n",
      "9440\n",
      "100\n",
      "9340\n",
      "100\n",
      "9240\n",
      "100\n",
      "9140\n",
      "100\n",
      "9040\n",
      "100\n",
      "8940\n",
      "100\n",
      "8840\n",
      "100\n",
      "8740\n",
      "100\n",
      "8640\n",
      "100\n",
      "8540\n",
      "100\n",
      "8440\n",
      "100\n",
      "8340\n",
      "100\n",
      "8240\n",
      "100\n",
      "8140\n",
      "100\n",
      "8040\n",
      "100\n",
      "7940\n",
      "100\n",
      "7840\n",
      "100\n",
      "7740\n",
      "100\n",
      "7640\n",
      "100\n",
      "7540\n",
      "100\n",
      "7440\n",
      "100\n",
      "7340\n",
      "100\n",
      "7240\n",
      "100\n",
      "7140\n",
      "100\n",
      "7040\n",
      "100\n",
      "6940\n",
      "100\n",
      "6840\n",
      "100\n",
      "6740\n",
      "100\n",
      "6640\n",
      "100\n",
      "6540\n",
      "100\n",
      "6440\n",
      "100\n",
      "6340\n",
      "100\n",
      "6240\n",
      "100\n",
      "6140\n",
      "100\n",
      "6040\n",
      "100\n",
      "5940\n",
      "100\n",
      "5840\n",
      "100\n",
      "5740\n",
      "100\n",
      "5640\n",
      "100\n",
      "5540\n",
      "100\n",
      "5440\n",
      "100\n",
      "5340\n",
      "100\n",
      "5240\n",
      "100\n",
      "5140\n",
      "100\n",
      "5040\n",
      "100\n",
      "4940\n",
      "100\n",
      "4840\n",
      "100\n",
      "4740\n",
      "100\n",
      "4640\n",
      "100\n",
      "4540\n",
      "100\n",
      "4440\n",
      "100\n",
      "4340\n",
      "100\n",
      "4240\n",
      "100\n",
      "4140\n",
      "100\n",
      "4040\n",
      "100\n",
      "3940\n",
      "100\n",
      "3840\n",
      "100\n",
      "3740\n",
      "100\n",
      "3640\n",
      "100\n",
      "3540\n",
      "100\n",
      "3440\n",
      "100\n",
      "3340\n",
      "100\n",
      "3240\n",
      "100\n",
      "3140\n",
      "100\n",
      "3040\n",
      "100\n",
      "2940\n",
      "100\n",
      "2840\n",
      "100\n",
      "2740\n",
      "100\n",
      "2640\n",
      "100\n",
      "2540\n",
      "100\n",
      "2440\n",
      "100\n",
      "2340\n",
      "100\n",
      "2240\n",
      "100\n",
      "2140\n",
      "100\n",
      "2040\n",
      "100\n",
      "1940\n",
      "100\n",
      "1840\n",
      "100\n",
      "1740\n",
      "100\n",
      "1640\n",
      "100\n",
      "1540\n",
      "100\n",
      "1440\n",
      "100\n",
      "1340\n",
      "100\n",
      "1240\n",
      "100\n",
      "1140\n",
      "100\n",
      "1040\n",
      "100\n",
      "940\n",
      "100\n",
      "840\n",
      "100\n",
      "740\n",
      "100\n",
      "640\n",
      "100\n",
      "540\n",
      "100\n",
      "440\n",
      "100\n",
      "340\n",
      "100\n",
      "240\n",
      "100\n",
      "140\n",
      "100\n",
      "40\n",
      "100\n"
     ]
    },
    {
     "ename": "ValueError",
     "evalue": "Cannot take a larger sample than population when 'replace=False'",
     "output_type": "error",
     "traceback": [
      "\u001b[0;31m---------------------------------------------------------------------------\u001b[0m",
      "\u001b[0;31mValueError\u001b[0m                                Traceback (most recent call last)",
      "Input \u001b[0;32mIn [27]\u001b[0m, in \u001b[0;36m<cell line: 6>\u001b[0;34m()\u001b[0m\n\u001b[1;32m      8\u001b[0m \u001b[38;5;28mprint\u001b[39m(\u001b[38;5;28mlen\u001b[39m(idx_list))\n\u001b[1;32m      9\u001b[0m \u001b[38;5;28mprint\u001b[39m(test_batch_s)\n\u001b[0;32m---> 10\u001b[0m t_te,y_te,idx_list \u001b[38;5;241m=\u001b[39m \u001b[43mbatcher\u001b[49m\u001b[43m(\u001b[49m\u001b[43mx_test\u001b[49m\u001b[43m,\u001b[49m\u001b[43m \u001b[49m\u001b[43my_test\u001b[49m\u001b[43m,\u001b[49m\u001b[43m \u001b[49m\u001b[43midx_list\u001b[49m\u001b[43m,\u001b[49m\u001b[43mbatch_s\u001b[49m\u001b[43m \u001b[49m\u001b[38;5;241;43m=\u001b[39;49m\u001b[43m \u001b[49m\u001b[43mtest_batch_s\u001b[49m\u001b[43m,\u001b[49m\u001b[43m \u001b[49m\u001b[43mwindow\u001b[49m\u001b[38;5;241;43m=\u001b[39;49m\u001b[43mn_C\u001b[49m\u001b[38;5;241;43m+\u001b[39;49m\u001b[43mn_T\u001b[49m\u001b[43m)\u001b[49m\n\u001b[1;32m     11\u001b[0m μ, log_σ \u001b[38;5;241m=\u001b[39m atp_model([t_te, y_te, n_C, n_T, \u001b[38;5;28;01mFalse\u001b[39;00m])\n\u001b[1;32m     12\u001b[0m _, sum_mse, sum_nll, _, _ \u001b[38;5;241m=\u001b[39m losses\u001b[38;5;241m.\u001b[39mnll(y_te[:, n_C:n_C\u001b[38;5;241m+\u001b[39mn_T], μ, log_σ)\n",
      "File \u001b[0;32m/data/hpcdata/users/rapart57/ATP/Tutorials/helper.py:21\u001b[0m, in \u001b[0;36mbatcher\u001b[0;34m(t, y, idx_list, batch_s, window)\u001b[0m\n\u001b[1;32m     17\u001b[0m     \u001b[38;5;28mprint\u001b[39m(\u001b[38;5;124m\"\u001b[39m\u001b[38;5;124mwarning- you didn\u001b[39m\u001b[38;5;124m'\u001b[39m\u001b[38;5;124mt loop over the correct range\u001b[39m\u001b[38;5;124m\"\u001b[39m)\n\u001b[1;32m     20\u001b[0m batch_s \u001b[38;5;241m=\u001b[39m \u001b[38;5;28mmin\u001b[39m(batch_s, y\u001b[38;5;241m.\u001b[39mshape[\u001b[38;5;241m0\u001b[39m]\u001b[38;5;241m-\u001b[39mwindow)    \n\u001b[0;32m---> 21\u001b[0m idx \u001b[38;5;241m=\u001b[39m \u001b[43mnp\u001b[49m\u001b[38;5;241;43m.\u001b[39;49m\u001b[43mrandom\u001b[49m\u001b[38;5;241;43m.\u001b[39;49m\u001b[43mchoice\u001b[49m\u001b[43m(\u001b[49m\u001b[38;5;28;43mlen\u001b[39;49m\u001b[43m(\u001b[49m\u001b[43midx_list\u001b[49m\u001b[43m)\u001b[49m\u001b[43m,\u001b[49m\u001b[43m \u001b[49m\u001b[43mbatch_s\u001b[49m\u001b[43m,\u001b[49m\u001b[43m \u001b[49m\u001b[43mreplace\u001b[49m\u001b[43m \u001b[49m\u001b[38;5;241;43m=\u001b[39;49m\u001b[43m \u001b[49m\u001b[38;5;28;43;01mFalse\u001b[39;49;00m\u001b[43m)\u001b[49m\n\u001b[1;32m     23\u001b[0m y \u001b[38;5;241m=\u001b[39m np\u001b[38;5;241m.\u001b[39marray([np\u001b[38;5;241m.\u001b[39marray(y)[idx_list[i]:idx_list[i]\u001b[38;5;241m+\u001b[39mwindow, :, :] \u001b[38;5;28;01mfor\u001b[39;00m i \u001b[38;5;129;01min\u001b[39;00m idx])\n\u001b[1;32m     24\u001b[0m t \u001b[38;5;241m=\u001b[39m np\u001b[38;5;241m.\u001b[39marray([np\u001b[38;5;241m.\u001b[39marray(t)[idx_list[i]:idx_list[i]\u001b[38;5;241m+\u001b[39mwindow, :, :] \u001b[38;5;28;01mfor\u001b[39;00m i \u001b[38;5;129;01min\u001b[39;00m idx])\n",
      "File \u001b[0;32mmtrand.pyx:965\u001b[0m, in \u001b[0;36mnumpy.random.mtrand.RandomState.choice\u001b[0;34m()\u001b[0m\n",
      "\u001b[0;31mValueError\u001b[0m: Cannot take a larger sample than population when 'replace=False'"
     ]
    }
   ],
   "source": [
    "test_batch_s = 100\n",
    "\n",
    "idx_list = list(range(x_test.shape[0] - (n_C+n_T)))\n",
    "num_batches = x_test.shape[0]//test_batch_s\n",
    "\n",
    "for _ in range(num_batches): #### specify correct number of batches for the batcher #####\n",
    "    if(_ == (num_batches-1)): test_batch_s = len(idx_list)    \n",
    "    print(len(idx_list))\n",
    "    print(test_batch_s)\n",
    "    t_te,y_te,idx_list = batcher(x_test, y_test, idx_list,batch_s = test_batch_s, window=n_C+n_T)\n",
    "    μ, log_σ = atp_model([t_te, y_te, n_C, n_T, False])\n",
    "    _, sum_mse, sum_nll, _, _ = losses.nll(y_te[:, n_C:n_C+n_T], μ, log_σ)\n",
    "    sum_nll_tot += sum_nll / n_T\n",
    "    sum_mse_tot += sum_mse / n_T\n",
    "\n",
    "nllx =  sum_nll_tot / (test_batch_s * x_test.shape[0]//test_batch_s)\n",
    "msex =  sum_mse_tot / (test_batch_s * x_test.shape[0]//test_batch_s)\n",
    "\n",
    "\n",
    "nll_list.append(nllx.numpy())\n",
    "mse_list.append(msex.numpy())\n",
    "\n",
    "#     np.save(save_dir + '/nll_list.npy', nll_list)    \n",
    "#     np.save(save_dir + '/mse_list.npy', mse_list)  "
   ]
  },
  {
   "cell_type": "code",
   "execution_count": 31,
   "metadata": {},
   "outputs": [],
   "source": [
    "nllx =  sum_nll_tot / (test_batch_s * x_test.shape[0]//test_batch_s)\n",
    "msex =  sum_mse_tot / (test_batch_s * x_test.shape[0]//test_batch_s)\n"
   ]
  },
  {
   "cell_type": "code",
   "execution_count": 30,
   "metadata": {},
   "outputs": [
    {
     "data": {
      "text/plain": [
       "<tf.Tensor: shape=(), dtype=float32, numpy=0.19502912>"
      ]
     },
     "execution_count": 30,
     "metadata": {},
     "output_type": "execute_result"
    }
   ],
   "source": [
    "nllx"
   ]
  },
  {
   "cell_type": "code",
   "execution_count": 32,
   "metadata": {},
   "outputs": [
    {
     "data": {
      "text/plain": [
       "<tf.Tensor: shape=(), dtype=float32, numpy=0.030019429>"
      ]
     },
     "execution_count": 32,
     "metadata": {},
     "output_type": "execute_result"
    }
   ],
   "source": [
    "msex"
   ]
  },
  {
   "cell_type": "code",
   "execution_count": 56,
   "metadata": {},
   "outputs": [
    {
     "name": "stdout",
     "output_type": "stream",
     "text": [
      "10340\n",
      "100\n",
      "10240\n",
      "100\n",
      "10140\n",
      "100\n",
      "10040\n",
      "100\n",
      "9940\n",
      "100\n",
      "9840\n",
      "100\n",
      "9740\n",
      "100\n",
      "9640\n",
      "100\n",
      "9540\n",
      "100\n",
      "9440\n",
      "100\n",
      "9340\n",
      "100\n",
      "9240\n",
      "100\n",
      "9140\n",
      "100\n",
      "9040\n",
      "100\n",
      "8940\n",
      "100\n",
      "8840\n",
      "100\n",
      "8740\n",
      "100\n",
      "8640\n",
      "100\n",
      "8540\n",
      "100\n",
      "8440\n",
      "100\n",
      "8340\n",
      "100\n",
      "8240\n",
      "100\n",
      "8140\n",
      "100\n",
      "8040\n",
      "100\n",
      "7940\n",
      "100\n",
      "7840\n",
      "100\n",
      "7740\n",
      "100\n",
      "7640\n",
      "100\n",
      "7540\n",
      "100\n",
      "7440\n",
      "100\n",
      "7340\n",
      "100\n",
      "7240\n",
      "100\n",
      "7140\n",
      "100\n",
      "7040\n",
      "100\n",
      "6940\n",
      "100\n",
      "6840\n",
      "100\n",
      "6740\n",
      "100\n",
      "6640\n",
      "100\n",
      "6540\n",
      "100\n",
      "6440\n",
      "100\n",
      "6340\n",
      "100\n",
      "6240\n",
      "100\n",
      "6140\n",
      "100\n",
      "6040\n",
      "100\n",
      "5940\n",
      "100\n",
      "5840\n",
      "100\n",
      "5740\n",
      "100\n",
      "5640\n",
      "100\n",
      "5540\n",
      "100\n",
      "5440\n",
      "100\n",
      "5340\n",
      "100\n",
      "5240\n",
      "100\n",
      "5140\n",
      "100\n",
      "5040\n",
      "100\n",
      "4940\n",
      "100\n",
      "4840\n",
      "100\n",
      "4740\n",
      "100\n",
      "4640\n",
      "100\n",
      "4540\n",
      "100\n",
      "4440\n",
      "100\n",
      "4340\n",
      "100\n",
      "4240\n",
      "100\n",
      "4140\n",
      "100\n",
      "4040\n",
      "100\n",
      "3940\n",
      "100\n",
      "3840\n",
      "100\n",
      "3740\n",
      "100\n",
      "3640\n",
      "100\n",
      "3540\n",
      "100\n",
      "3440\n",
      "100\n",
      "3340\n",
      "100\n",
      "3240\n",
      "100\n",
      "3140\n",
      "100\n",
      "3040\n",
      "100\n",
      "2940\n",
      "100\n",
      "2840\n",
      "100\n",
      "2740\n",
      "100\n",
      "2640\n",
      "100\n",
      "2540\n",
      "100\n",
      "2440\n",
      "100\n",
      "2340\n",
      "100\n",
      "2240\n",
      "100\n",
      "2140\n",
      "100\n",
      "2040\n",
      "100\n",
      "1940\n",
      "100\n",
      "1840\n",
      "100\n",
      "1740\n",
      "100\n",
      "1640\n",
      "100\n",
      "1540\n",
      "100\n",
      "1440\n",
      "100\n",
      "1340\n",
      "100\n",
      "1240\n",
      "100\n",
      "1140\n",
      "100\n",
      "1040\n",
      "100\n",
      "940\n",
      "100\n",
      "840\n",
      "100\n",
      "740\n",
      "100\n",
      "640\n",
      "100\n",
      "540\n",
      "100\n",
      "440\n",
      "100\n",
      "340\n",
      "100\n",
      "240\n",
      "100\n",
      "140\n",
      "100\n",
      "40\n",
      "100\n"
     ]
    },
    {
     "ename": "ValueError",
     "evalue": "Cannot take a larger sample than population when 'replace=False'",
     "output_type": "error",
     "traceback": [
      "\u001b[0;31m---------------------------------------------------------------------------\u001b[0m",
      "\u001b[0;31mValueError\u001b[0m                                Traceback (most recent call last)",
      "Input \u001b[0;32mIn [56]\u001b[0m, in \u001b[0;36m<cell line: 6>\u001b[0;34m()\u001b[0m\n\u001b[1;32m      8\u001b[0m \u001b[38;5;28mprint\u001b[39m(\u001b[38;5;28mlen\u001b[39m(idx_list))\n\u001b[1;32m      9\u001b[0m \u001b[38;5;28mprint\u001b[39m(test_batch_s)\n\u001b[0;32m---> 10\u001b[0m t_te,y_te,idx_list \u001b[38;5;241m=\u001b[39m \u001b[43mbatcher\u001b[49m\u001b[43m(\u001b[49m\u001b[43mx_test\u001b[49m\u001b[43m,\u001b[49m\u001b[43m \u001b[49m\u001b[43my_test\u001b[49m\u001b[43m,\u001b[49m\u001b[43m \u001b[49m\u001b[43midx_list\u001b[49m\u001b[43m,\u001b[49m\u001b[43mbatch_s\u001b[49m\u001b[43m \u001b[49m\u001b[38;5;241;43m=\u001b[39;49m\u001b[43m \u001b[49m\u001b[43mtest_batch_s\u001b[49m\u001b[43m,\u001b[49m\u001b[43m \u001b[49m\u001b[43mwindow\u001b[49m\u001b[38;5;241;43m=\u001b[39;49m\u001b[43mn_C\u001b[49m\u001b[38;5;241;43m+\u001b[39;49m\u001b[43mn_T\u001b[49m\u001b[43m)\u001b[49m\n\u001b[1;32m     12\u001b[0m mean_prediction \u001b[38;5;241m=\u001b[39m np\u001b[38;5;241m.\u001b[39mmean(y_te[:,:n_C],axis\u001b[38;5;241m=\u001b[39m\u001b[38;5;241m1\u001b[39m)\n\u001b[1;32m     13\u001b[0m mean_prediction_repeat \u001b[38;5;241m=\u001b[39m np\u001b[38;5;241m.\u001b[39mrepeat(mean_prediction[np\u001b[38;5;241m.\u001b[39mnewaxis,:,:],axis\u001b[38;5;241m=\u001b[39m\u001b[38;5;241m0\u001b[39m,repeats\u001b[38;5;241m=\u001b[39m\u001b[38;5;241m100\u001b[39m)    \n",
      "File \u001b[0;32m/data/hpcdata/users/rapart57/ATP/Tutorials/helper.py:21\u001b[0m, in \u001b[0;36mbatcher\u001b[0;34m(t, y, idx_list, batch_s, window)\u001b[0m\n\u001b[1;32m     17\u001b[0m     \u001b[38;5;28mprint\u001b[39m(\u001b[38;5;124m\"\u001b[39m\u001b[38;5;124mwarning- you didn\u001b[39m\u001b[38;5;124m'\u001b[39m\u001b[38;5;124mt loop over the correct range\u001b[39m\u001b[38;5;124m\"\u001b[39m)\n\u001b[1;32m     20\u001b[0m batch_s \u001b[38;5;241m=\u001b[39m \u001b[38;5;28mmin\u001b[39m(batch_s, y\u001b[38;5;241m.\u001b[39mshape[\u001b[38;5;241m0\u001b[39m]\u001b[38;5;241m-\u001b[39mwindow)    \n\u001b[0;32m---> 21\u001b[0m idx \u001b[38;5;241m=\u001b[39m \u001b[43mnp\u001b[49m\u001b[38;5;241;43m.\u001b[39;49m\u001b[43mrandom\u001b[49m\u001b[38;5;241;43m.\u001b[39;49m\u001b[43mchoice\u001b[49m\u001b[43m(\u001b[49m\u001b[38;5;28;43mlen\u001b[39;49m\u001b[43m(\u001b[49m\u001b[43midx_list\u001b[49m\u001b[43m)\u001b[49m\u001b[43m,\u001b[49m\u001b[43m \u001b[49m\u001b[43mbatch_s\u001b[49m\u001b[43m,\u001b[49m\u001b[43m \u001b[49m\u001b[43mreplace\u001b[49m\u001b[43m \u001b[49m\u001b[38;5;241;43m=\u001b[39;49m\u001b[43m \u001b[49m\u001b[38;5;28;43;01mFalse\u001b[39;49;00m\u001b[43m)\u001b[49m\n\u001b[1;32m     23\u001b[0m y \u001b[38;5;241m=\u001b[39m np\u001b[38;5;241m.\u001b[39marray([np\u001b[38;5;241m.\u001b[39marray(y)[idx_list[i]:idx_list[i]\u001b[38;5;241m+\u001b[39mwindow, :, :] \u001b[38;5;28;01mfor\u001b[39;00m i \u001b[38;5;129;01min\u001b[39;00m idx])\n\u001b[1;32m     24\u001b[0m t \u001b[38;5;241m=\u001b[39m np\u001b[38;5;241m.\u001b[39marray([np\u001b[38;5;241m.\u001b[39marray(t)[idx_list[i]:idx_list[i]\u001b[38;5;241m+\u001b[39mwindow, :, :] \u001b[38;5;28;01mfor\u001b[39;00m i \u001b[38;5;129;01min\u001b[39;00m idx])\n",
      "File \u001b[0;32mmtrand.pyx:965\u001b[0m, in \u001b[0;36mnumpy.random.mtrand.RandomState.choice\u001b[0;34m()\u001b[0m\n",
      "\u001b[0;31mValueError\u001b[0m: Cannot take a larger sample than population when 'replace=False'"
     ]
    }
   ],
   "source": [
    "test_batch_s = 100\n",
    "\n",
    "idx_list = list(range(x_test.shape[0] - (n_C+n_T)))\n",
    "num_batches = x_test.shape[0]//test_batch_s\n",
    "\n",
    "for _ in range(num_batches): #### specify correct number of batches for the batcher #####\n",
    "    if(_ == (num_batches-1)): test_batch_s = len(idx_list)    \n",
    "    print(len(idx_list))\n",
    "    print(test_batch_s)\n",
    "    t_te,y_te,idx_list = batcher(x_test, y_test, idx_list,batch_s = test_batch_s, window=n_C+n_T)\n",
    "\n",
    "    mean_prediction = np.mean(y_te[:,:n_C],axis=1)\n",
    "    mean_prediction_repeat = np.repeat(mean_prediction[np.newaxis,:,:],axis=0,repeats=100)    \n",
    "    \n",
    "    mse = np.sum((mean_prediction - y_te[:,n_C:n_C+n_T])**2)\n",
    "    \n",
    "    sum_mse_tot += mse / n_T"
   ]
  },
  {
   "cell_type": "code",
   "execution_count": 57,
   "metadata": {},
   "outputs": [
    {
     "name": "stdout",
     "output_type": "stream",
     "text": [
      "tf.Tensor(0.8527205, shape=(), dtype=float32)\n"
     ]
    }
   ],
   "source": [
    "msex =  sum_mse_tot / (test_batch_s * x_test.shape[0]//test_batch_s)\n",
    "print(msex)"
   ]
  },
  {
   "cell_type": "code",
   "execution_count": 18,
   "metadata": {},
   "outputs": [
    {
     "name": "stdout",
     "output_type": "stream",
     "text": [
      "tf.Tensor(-0.59912556, shape=(), dtype=float32)\n"
     ]
    }
   ],
   "source": [
    "print(min(val_loglik))"
   ]
  },
  {
   "cell_type": "code",
   "execution_count": 10,
   "metadata": {},
   "outputs": [
    {
     "name": "stdout",
     "output_type": "stream",
     "text": [
      "Model: \"atp_pipeline\"\n",
      "_________________________________________________________________\n",
      " Layer (type)                Output Shape              Param #   \n",
      "=================================================================\n",
      " feature_wrapper (feature_wr  multiple                 0         \n",
      " apper)                                                          \n",
      "                                                                 \n",
      " atp (ATP)                   multiple                  76562     \n",
      "                                                                 \n",
      " de (DE)                     multiple                  4         \n",
      "                                                                 \n",
      "=================================================================\n",
      "Total params: 76,566\n",
      "Trainable params: 76,564\n",
      "Non-trainable params: 2\n",
      "_________________________________________________________________\n"
     ]
    }
   ],
   "source": [
    "atp_model.summary()"
   ]
  },
  {
   "cell_type": "code",
   "execution_count": null,
   "metadata": {},
   "outputs": [],
   "source": []
  },
  {
   "cell_type": "code",
   "execution_count": null,
   "metadata": {},
   "outputs": [],
   "source": []
  },
  {
   "cell_type": "code",
   "execution_count": 14,
   "metadata": {},
   "outputs": [
    {
     "data": {
      "text/plain": [
       "(36887, 1, 1)"
      ]
     },
     "execution_count": 14,
     "metadata": {},
     "output_type": "execute_result"
    }
   ],
   "source": [
    "y_train.shape"
   ]
  },
  {
   "cell_type": "code",
   "execution_count": 15,
   "metadata": {},
   "outputs": [
    {
     "data": {
      "text/plain": [
       "(32, 200, 1)"
      ]
     },
     "execution_count": 15,
     "metadata": {},
     "output_type": "execute_result"
    }
   ],
   "source": [
    "y.shape"
   ]
  },
  {
   "cell_type": "code",
   "execution_count": 34,
   "metadata": {},
   "outputs": [
    {
     "data": {
      "text/plain": [
       "[<matplotlib.lines.Line2D at 0x7fe1d04b7670>]"
      ]
     },
     "execution_count": 34,
     "metadata": {},
     "output_type": "execute_result"
    },
    {
     "data": {
      "image/png": "[encoded data removed]",
      "text/plain": [
       "<Figure size 640x480 with 1 Axes>"
      ]
     },
     "metadata": {},
     "output_type": "display_data"
    }
   ],
   "source": [
    "plt.plot(data[:,4:5].astype(\"float32\")[:])"
   ]
  },
  {
   "cell_type": "markdown",
   "metadata": {},
   "source": [
    "## TNP"
   ]
  },
  {
   "cell_type": "code",
   "execution_count": null,
   "metadata": {},
   "outputs": [],
   "source": [
    "### set this up for training and saving best models adn then loading it and calculating loglik."
   ]
  },
  {
   "cell_type": "code",
   "execution_count": 9,
   "metadata": {},
   "outputs": [
    {
     "name": "stdout",
     "output_type": "stream",
     "text": [
      "Model: \"tnp_pipeline\"\n",
      "_________________________________________________________________\n",
      " Layer (type)                Output Shape              Param #   \n",
      "=================================================================\n",
      " feature_wrapper (feature_wr  multiple                 0 (unused)\n",
      " apper)                                                          \n",
      "                                                                 \n",
      " tnp__decoder (TNP_Decoder)  multiple                  87450     \n",
      "                                                                 \n",
      "=================================================================\n",
      "Total params: 87,450\n",
      "Trainable params: 87,450\n",
      "Non-trainable params: 0\n",
      "_________________________________________________________________\n"
     ]
    }
   ],
   "source": [
    "model.summary()"
   ]
  },
  {
   "cell_type": "code",
   "execution_count": 7,
   "metadata": {},
   "outputs": [],
   "source": [
    "step = 1\n",
    "run= 49 + 0\n",
    "tf.random.set_seed(run)\n",
    "model = tnp_pipeline.instantiate_tnp(\"weather\")\n",
    "tr_step = atp_graph.build_graph()\n",
    "\n",
    "name_comp = 'run_' + str(run)\n",
    "folder = save_dir + '/ckpt/check_' + name_comp\n",
    "if not os.path.exists(folder): os.mkdir(folder)\n",
    "ckpt = tf.train.Checkpoint(step=tf.Variable(1), optimizer=opt, net=model)\n",
    "manager = tf.train.CheckpointManager(ckpt, folder, max_to_keep=1)\n",
    "ckpt.restore(manager.latest_checkpoint) \n",
    "sum_mse_tot = 0; sum_nll_tot = 0\n",
    "mini = 50000\n",
    "opt = tf.keras.optimizers.Adam(3e-4)\n",
    "\n"
   ]
  },
  {
   "cell_type": "code",
   "execution_count": null,
   "metadata": {},
   "outputs": [],
   "source": []
  },
  {
   "cell_type": "code",
   "execution_count": 8,
   "metadata": {},
   "outputs": [
    {
     "name": "stderr",
     "output_type": "stream",
     "text": [
      "2023-05-03 17:51:36.124626: I tensorflow/compiler/xla/stream_executor/cuda/cuda_dnn.cc:428] Loaded cuDNN version 8401\n",
      "2023-05-03 17:51:36.241643: I tensorflow/compiler/xla/service/service.cc:173] XLA service 0x7f4bc521f400 initialized for platform CUDA (this does not guarantee that XLA will be used). Devices:\n",
      "2023-05-03 17:51:36.241703: I tensorflow/compiler/xla/service/service.cc:181]   StreamExecutor device (0): Quadro P4000, Compute Capability 6.1\n",
      "2023-05-03 17:51:36.246396: I tensorflow/compiler/mlir/tensorflow/utils/dump_mlir_util.cc:268] disabling MLIR crash reproducer, set env var `MLIR_CRASH_REPRODUCER_DIRECTORY` to enable.\n",
      "2023-05-03 17:51:36.662247: I tensorflow/compiler/jit/xla_compilation_cache.cc:477] Compiled cluster using XLA!  This line is logged at most once for the lifetime of the process.\n"
     ]
    },
    {
     "name": "stdout",
     "output_type": "stream",
     "text": [
      "tf.Tensor(0.6671719, shape=(), dtype=float32)\n",
      "tf.Tensor(0.6671719, shape=(), dtype=float32)\n"
     ]
    },
    {
     "data": {
      "image/png": "[encoded data removed]",
      "text/plain": [
       "<Figure size 640x480 with 1 Axes>"
      ]
     },
     "metadata": {},
     "output_type": "display_data"
    },
    {
     "name": "stdout",
     "output_type": "stream",
     "text": [
      "tf.Tensor(0.63576925, shape=(), dtype=float32)\n",
      "tf.Tensor(0.63576925, shape=(), dtype=float32)\n"
     ]
    },
    {
     "data": {
      "image/png": "[encoded data removed]",
      "text/plain": [
       "<Figure size 640x480 with 1 Axes>"
      ]
     },
     "metadata": {},
     "output_type": "display_data"
    },
    {
     "name": "stdout",
     "output_type": "stream",
     "text": [
      "tf.Tensor(-0.04432409, shape=(), dtype=float32)\n",
      "tf.Tensor(-0.04432409, shape=(), dtype=float32)\n"
     ]
    },
    {
     "data": {
      "image/png": "[encoded data removed]",
      "text/plain": [
       "<Figure size 640x480 with 1 Axes>"
      ]
     },
     "metadata": {},
     "output_type": "display_data"
    },
    {
     "name": "stdout",
     "output_type": "stream",
     "text": [
      "tf.Tensor(0.033502664, shape=(), dtype=float32)\n",
      "tf.Tensor(-0.04432409, shape=(), dtype=float32)\n"
     ]
    },
    {
     "data": {
      "image/png": "[encoded data removed]",
      "text/plain": [
       "<Figure size 640x480 with 1 Axes>"
      ]
     },
     "metadata": {},
     "output_type": "display_data"
    },
    {
     "name": "stdout",
     "output_type": "stream",
     "text": [
      "tf.Tensor(0.009663195, shape=(), dtype=float32)\n",
      "tf.Tensor(-0.04432409, shape=(), dtype=float32)\n"
     ]
    },
    {
     "data": {
      "image/png": "[encoded data removed]",
      "text/plain": [
       "<Figure size 640x480 with 1 Axes>"
      ]
     },
     "metadata": {},
     "output_type": "display_data"
    },
    {
     "name": "stdout",
     "output_type": "stream",
     "text": [
      "tf.Tensor(-0.04248213, shape=(), dtype=float32)\n",
      "tf.Tensor(-0.04432409, shape=(), dtype=float32)\n"
     ]
    },
    {
     "data": {
      "image/png": "[encoded data removed]",
      "text/plain": [
       "<Figure size 640x480 with 1 Axes>"
      ]
     },
     "metadata": {},
     "output_type": "display_data"
    },
    {
     "name": "stdout",
     "output_type": "stream",
     "text": [
      "tf.Tensor(-0.04299256, shape=(), dtype=float32)\n",
      "tf.Tensor(-0.04432409, shape=(), dtype=float32)\n"
     ]
    },
    {
     "data": {
      "image/png": "[encoded data removed]",
      "text/plain": [
       "<Figure size 640x480 with 1 Axes>"
      ]
     },
     "metadata": {},
     "output_type": "display_data"
    },
    {
     "name": "stdout",
     "output_type": "stream",
     "text": [
      "tf.Tensor(-0.21960557, shape=(), dtype=float32)\n",
      "tf.Tensor(-0.21960557, shape=(), dtype=float32)\n"
     ]
    },
    {
     "data": {
      "image/png": "[encoded data removed]",
      "text/plain": [
       "<Figure size 640x480 with 1 Axes>"
      ]
     },
     "metadata": {},
     "output_type": "display_data"
    },
    {
     "name": "stdout",
     "output_type": "stream",
     "text": [
      "tf.Tensor(0.014853839, shape=(), dtype=float32)\n",
      "tf.Tensor(-0.21960557, shape=(), dtype=float32)\n"
     ]
    },
    {
     "data": {
      "image/png": "[encoded data removed]",
      "text/plain": [
       "<Figure size 640x480 with 1 Axes>"
      ]
     },
     "metadata": {},
     "output_type": "display_data"
    },
    {
     "name": "stdout",
     "output_type": "stream",
     "text": [
      "tf.Tensor(-0.10246849, shape=(), dtype=float32)\n",
      "tf.Tensor(-0.21960557, shape=(), dtype=float32)\n"
     ]
    },
    {
     "data": {
      "image/png": "[encoded data removed]",
      "text/plain": [
       "<Figure size 640x480 with 1 Axes>"
      ]
     },
     "metadata": {},
     "output_type": "display_data"
    },
    {
     "name": "stdout",
     "output_type": "stream",
     "text": [
      "tf.Tensor(-0.06683547, shape=(), dtype=float32)\n",
      "tf.Tensor(-0.21960557, shape=(), dtype=float32)\n"
     ]
    },
    {
     "data": {
      "image/png": "[encoded data removed]",
      "text/plain": [
       "<Figure size 640x480 with 1 Axes>"
      ]
     },
     "metadata": {},
     "output_type": "display_data"
    },
    {
     "name": "stdout",
     "output_type": "stream",
     "text": [
      "tf.Tensor(-0.15172727, shape=(), dtype=float32)\n",
      "tf.Tensor(-0.21960557, shape=(), dtype=float32)\n"
     ]
    },
    {
     "data": {
      "image/png": "[encoded data removed]",
      "text/plain": [
       "<Figure size 640x480 with 1 Axes>"
      ]
     },
     "metadata": {},
     "output_type": "display_data"
    },
    {
     "name": "stderr",
     "output_type": "stream",
     "text": [
      "\n",
      "KeyboardInterrupt\n",
      "\n"
     ]
    }
   ],
   "source": [
    "%%time\n",
    "\n",
    "for i in range(5000):\n",
    "    idx_list = list(range(x_train.shape[0] - (n_C+n_T)))\n",
    "    x,y,_ = batcher(x_train,y_train,idx_list,window=n_C+n_T) ####### generalise for not weather\n",
    "    _,_, nll_pp_tr , _ = tr_step(model, opt, x,y,n_C,n_T, training=True)\n",
    "\n",
    "    if i % 100 == 0:\n",
    "        \n",
    "        train_loglik.append(nll_pp_tr)\n",
    "        \n",
    "        \n",
    "       \n",
    "        idx_list = list(range(x_val.shape[0]- (n_C+n_T)))\n",
    "        t_te,y_te,_ = batcher(x_val,y_val,idx_list,batch_s = 100,window=n_C+n_T)\n",
    "        μ, log_σ = model([t_te, y_te, n_C, n_T, False])\n",
    "        _,_,_, nll_pp_te, msex_te = losses.nll(y_te[:, n_C:n_C+n_T], μ, log_σ)\n",
    "        \n",
    "        val_loglik.append(nll_pp_te)\n",
    "        \n",
    "        plt.plot(train_loglik)\n",
    "        plt.plot(val_loglik)\n",
    "        print(nll_pp_te)\n",
    "        print(min(val_loglik))\n",
    "        plt.show()"
   ]
  },
  {
   "cell_type": "code",
   "execution_count": 16,
   "metadata": {
    "scrolled": true
   },
   "outputs": [
    {
     "name": "stdout",
     "output_type": "stream",
     "text": [
      "10340\n",
      "100\n",
      "10240\n",
      "100\n",
      "10140\n",
      "100\n",
      "10040\n",
      "100\n",
      "9940\n",
      "100\n",
      "9840\n",
      "100\n",
      "9740\n",
      "100\n",
      "9640\n",
      "100\n",
      "9540\n",
      "100\n",
      "9440\n",
      "100\n",
      "9340\n",
      "100\n",
      "9240\n",
      "100\n",
      "9140\n",
      "100\n",
      "9040\n",
      "100\n",
      "8940\n",
      "100\n",
      "8840\n",
      "100\n",
      "8740\n",
      "100\n",
      "8640\n",
      "100\n",
      "8540\n",
      "100\n",
      "8440\n",
      "100\n",
      "8340\n",
      "100\n",
      "8240\n",
      "100\n",
      "8140\n",
      "100\n",
      "8040\n",
      "100\n",
      "7940\n",
      "100\n",
      "7840\n",
      "100\n",
      "7740\n",
      "100\n",
      "7640\n",
      "100\n",
      "7540\n",
      "100\n",
      "7440\n",
      "100\n",
      "7340\n",
      "100\n",
      "7240\n",
      "100\n",
      "7140\n",
      "100\n",
      "7040\n",
      "100\n",
      "6940\n",
      "100\n",
      "6840\n",
      "100\n",
      "6740\n",
      "100\n",
      "6640\n",
      "100\n",
      "6540\n",
      "100\n",
      "6440\n",
      "100\n",
      "6340\n",
      "100\n",
      "6240\n",
      "100\n",
      "6140\n",
      "100\n",
      "6040\n",
      "100\n",
      "5940\n",
      "100\n",
      "5840\n",
      "100\n",
      "5740\n",
      "100\n",
      "5640\n",
      "100\n",
      "5540\n",
      "100\n",
      "5440\n",
      "100\n",
      "5340\n",
      "100\n",
      "5240\n",
      "100\n",
      "5140\n",
      "100\n",
      "5040\n",
      "100\n",
      "4940\n",
      "100\n",
      "4840\n",
      "100\n",
      "4740\n",
      "100\n",
      "4640\n",
      "100\n",
      "4540\n",
      "100\n",
      "4440\n",
      "100\n",
      "4340\n",
      "100\n",
      "4240\n",
      "100\n",
      "4140\n",
      "100\n",
      "4040\n",
      "100\n",
      "3940\n",
      "100\n",
      "3840\n",
      "100\n",
      "3740\n",
      "100\n",
      "3640\n",
      "100\n",
      "3540\n",
      "100\n",
      "3440\n",
      "100\n",
      "3340\n",
      "100\n",
      "3240\n",
      "100\n",
      "3140\n",
      "100\n",
      "3040\n",
      "100\n",
      "2940\n",
      "100\n",
      "2840\n",
      "100\n",
      "2740\n",
      "100\n",
      "2640\n",
      "100\n",
      "2540\n",
      "100\n",
      "2440\n",
      "100\n",
      "2340\n",
      "100\n",
      "2240\n",
      "100\n",
      "2140\n",
      "100\n",
      "2040\n",
      "100\n",
      "1940\n",
      "100\n",
      "1840\n",
      "100\n",
      "1740\n",
      "100\n",
      "1640\n",
      "100\n",
      "1540\n",
      "100\n",
      "1440\n",
      "100\n",
      "1340\n",
      "100\n",
      "1240\n",
      "100\n",
      "1140\n",
      "100\n",
      "1040\n",
      "100\n",
      "940\n",
      "100\n",
      "840\n",
      "100\n",
      "740\n",
      "100\n",
      "640\n",
      "100\n",
      "540\n",
      "100\n",
      "440\n",
      "100\n",
      "340\n",
      "100\n",
      "240\n",
      "100\n",
      "140\n",
      "100\n",
      "40\n",
      "100\n"
     ]
    },
    {
     "ename": "ValueError",
     "evalue": "Cannot take a larger sample than population when 'replace=False'",
     "output_type": "error",
     "traceback": [
      "\u001b[0;31m---------------------------------------------------------------------------\u001b[0m",
      "\u001b[0;31mValueError\u001b[0m                                Traceback (most recent call last)",
      "Input \u001b[0;32mIn [16]\u001b[0m, in \u001b[0;36m<cell line: 6>\u001b[0;34m()\u001b[0m\n\u001b[1;32m      8\u001b[0m \u001b[38;5;28mprint\u001b[39m(\u001b[38;5;28mlen\u001b[39m(idx_list))\n\u001b[1;32m      9\u001b[0m \u001b[38;5;28mprint\u001b[39m(test_batch_s)\n\u001b[0;32m---> 10\u001b[0m t_te,y_te,idx_list \u001b[38;5;241m=\u001b[39m \u001b[43mbatcher\u001b[49m\u001b[43m(\u001b[49m\u001b[43mx_test\u001b[49m\u001b[43m,\u001b[49m\u001b[43m \u001b[49m\u001b[43my_test\u001b[49m\u001b[43m,\u001b[49m\u001b[43m \u001b[49m\u001b[43midx_list\u001b[49m\u001b[43m,\u001b[49m\u001b[43mbatch_s\u001b[49m\u001b[43m \u001b[49m\u001b[38;5;241;43m=\u001b[39;49m\u001b[43m \u001b[49m\u001b[43mtest_batch_s\u001b[49m\u001b[43m,\u001b[49m\u001b[43m \u001b[49m\u001b[43mwindow\u001b[49m\u001b[38;5;241;43m=\u001b[39;49m\u001b[43mn_C\u001b[49m\u001b[38;5;241;43m+\u001b[39;49m\u001b[43mn_T\u001b[49m\u001b[43m)\u001b[49m\n\u001b[1;32m     11\u001b[0m μ, log_σ \u001b[38;5;241m=\u001b[39m model([t_te, y_te, n_C, n_T, \u001b[38;5;28;01mFalse\u001b[39;00m])\n\u001b[1;32m     12\u001b[0m _, sum_mse, sum_nll, _, _ \u001b[38;5;241m=\u001b[39m losses\u001b[38;5;241m.\u001b[39mnll(y_te[:, n_C:n_C\u001b[38;5;241m+\u001b[39mn_T], μ, log_σ)\n",
      "File \u001b[0;32m/data/hpcdata/users/rapart57/ATP/Tutorials/helper.py:21\u001b[0m, in \u001b[0;36mbatcher\u001b[0;34m(t, y, idx_list, batch_s, window)\u001b[0m\n\u001b[1;32m     17\u001b[0m     \u001b[38;5;28mprint\u001b[39m(\u001b[38;5;124m\"\u001b[39m\u001b[38;5;124mwarning- you didn\u001b[39m\u001b[38;5;124m'\u001b[39m\u001b[38;5;124mt loop over the correct range\u001b[39m\u001b[38;5;124m\"\u001b[39m)\n\u001b[1;32m     20\u001b[0m batch_s \u001b[38;5;241m=\u001b[39m \u001b[38;5;28mmin\u001b[39m(batch_s, y\u001b[38;5;241m.\u001b[39mshape[\u001b[38;5;241m0\u001b[39m]\u001b[38;5;241m-\u001b[39mwindow)    \n\u001b[0;32m---> 21\u001b[0m idx \u001b[38;5;241m=\u001b[39m \u001b[43mnp\u001b[49m\u001b[38;5;241;43m.\u001b[39;49m\u001b[43mrandom\u001b[49m\u001b[38;5;241;43m.\u001b[39;49m\u001b[43mchoice\u001b[49m\u001b[43m(\u001b[49m\u001b[38;5;28;43mlen\u001b[39;49m\u001b[43m(\u001b[49m\u001b[43midx_list\u001b[49m\u001b[43m)\u001b[49m\u001b[43m,\u001b[49m\u001b[43m \u001b[49m\u001b[43mbatch_s\u001b[49m\u001b[43m,\u001b[49m\u001b[43m \u001b[49m\u001b[43mreplace\u001b[49m\u001b[43m \u001b[49m\u001b[38;5;241;43m=\u001b[39;49m\u001b[43m \u001b[49m\u001b[38;5;28;43;01mFalse\u001b[39;49;00m\u001b[43m)\u001b[49m\n\u001b[1;32m     23\u001b[0m y \u001b[38;5;241m=\u001b[39m np\u001b[38;5;241m.\u001b[39marray([np\u001b[38;5;241m.\u001b[39marray(y)[idx_list[i]:idx_list[i]\u001b[38;5;241m+\u001b[39mwindow, :, :] \u001b[38;5;28;01mfor\u001b[39;00m i \u001b[38;5;129;01min\u001b[39;00m idx])\n\u001b[1;32m     24\u001b[0m t \u001b[38;5;241m=\u001b[39m np\u001b[38;5;241m.\u001b[39marray([np\u001b[38;5;241m.\u001b[39marray(t)[idx_list[i]:idx_list[i]\u001b[38;5;241m+\u001b[39mwindow, :, :] \u001b[38;5;28;01mfor\u001b[39;00m i \u001b[38;5;129;01min\u001b[39;00m idx])\n",
      "File \u001b[0;32mmtrand.pyx:965\u001b[0m, in \u001b[0;36mnumpy.random.mtrand.RandomState.choice\u001b[0;34m()\u001b[0m\n",
      "\u001b[0;31mValueError\u001b[0m: Cannot take a larger sample than population when 'replace=False'"
     ]
    }
   ],
   "source": [
    "test_batch_s = 100\n",
    "\n",
    "idx_list = list(range(x_test.shape[0] - (n_C+n_T)))\n",
    "num_batches = x_test.shape[0]//test_batch_s\n",
    "\n",
    "for _ in range(num_batches): #### specify correct number of batches for the batcher #####\n",
    "    if(_ == (num_batches-1)): test_batch_s = len(idx_list)    \n",
    "    print(len(idx_list))\n",
    "    print(test_batch_s)\n",
    "    t_te,y_te,idx_list = batcher(x_test, y_test, idx_list,batch_s = test_batch_s, window=n_C+n_T)\n",
    "    μ, log_σ = model([t_te, y_te, n_C, n_T, False])\n",
    "    _, sum_mse, sum_nll, _, _ = losses.nll(y_te[:, n_C:n_C+n_T], μ, log_σ)\n",
    "    sum_nll_tot += sum_nll / n_T\n",
    "    sum_mse_tot += sum_mse / n_T\n",
    "\n",
    "nllx =  sum_nll_tot / (test_batch_s * x_test.shape[0]//test_batch_s)\n",
    "msex =  sum_mse_tot / (test_batch_s * x_test.shape[0]//test_batch_s)\n",
    "\n",
    "\n",
    "nll_list.append(nllx.numpy())\n",
    "mse_list.append(msex.numpy())\n",
    "\n",
    "#     np.save(save_dir + '/nll_list.npy', nll_list)    \n",
    "#     np.save(save_dir + '/mse_list.npy', mse_list)  "
   ]
  },
  {
   "cell_type": "code",
   "execution_count": 17,
   "metadata": {},
   "outputs": [],
   "source": [
    "nllx =  sum_nll_tot / (test_batch_s * x_test.shape[0]//test_batch_s)\n",
    "msex =  sum_mse_tot / (test_batch_s * x_test.shape[0]//test_batch_s)\n",
    "\n"
   ]
  },
  {
   "cell_type": "code",
   "execution_count": 18,
   "metadata": {},
   "outputs": [
    {
     "data": {
      "text/plain": [
       "<tf.Tensor: shape=(), dtype=float32, numpy=1.307424>"
      ]
     },
     "execution_count": 18,
     "metadata": {},
     "output_type": "execute_result"
    }
   ],
   "source": [
    "nllx"
   ]
  },
  {
   "cell_type": "code",
   "execution_count": null,
   "metadata": {},
   "outputs": [],
   "source": []
  },
  {
   "cell_type": "code",
   "execution_count": null,
   "metadata": {},
   "outputs": [],
   "source": []
  },
  {
   "cell_type": "code",
   "execution_count": null,
   "metadata": {},
   "outputs": [],
   "source": []
  }
 ],
 "metadata": {
  "kernelspec": {
   "display_name": "Python 3 (ipykernel)",
   "language": "python",
   "name": "python3"
  },
  "language_info": {
   "codemirror_mode": {
    "name": "ipython",
    "version": 3
   },
   "file_extension": ".py",
   "mimetype": "text/x-python",
   "name": "python",
   "nbconvert_exporter": "python",
   "pygments_lexer": "ipython3",
   "version": "3.8.13"
  }
 },
 "nbformat": 4,
 "nbformat_minor": 4
}
