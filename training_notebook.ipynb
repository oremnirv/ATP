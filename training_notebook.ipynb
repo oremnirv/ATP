{
 "cells": [
  {
   "cell_type": "code",
   "execution_count": 1,
   "metadata": {},
   "outputs": [
    {
     "name": "stderr",
     "output_type": "stream",
     "text": [
      "2023-04-28 13:48:00.017358: I tensorflow/core/platform/cpu_feature_guard.cc:193] This TensorFlow binary is optimized with oneAPI Deep Neural Network Library (oneDNN) to use the following CPU instructions in performance-critical operations:  SSE4.1 SSE4.2 AVX AVX2 AVX512F FMA\n",
      "To enable them in other operations, rebuild TensorFlow with the appropriate compiler flags.\n"
     ]
    }
   ],
   "source": [
    "from model import atp_graph\n",
    "from data import synthetic_data_gen, feature_extractor\n",
    "import keras\n",
    "import matplotlib.pyplot as plt\n",
    "plt.style.use('ggplot')\n",
    "import numpy as np\n",
    "import tensorflow as tf\n",
    "import IPython\n",
    "import time\n",
    "import os\n",
    "\n",
    "from model import atp_pipeline"
   ]
  },
  {
   "cell_type": "code",
   "execution_count": 2,
   "metadata": {},
   "outputs": [],
   "source": [
    "t, Y = synthetic_data_gen.GP_functions_gen(samples=200)"
   ]
  },
  {
   "cell_type": "code",
   "execution_count": 3,
   "metadata": {},
   "outputs": [],
   "source": [
    "t = t[:,:,np.newaxis]\n"
   ]
  },
  {
   "cell_type": "code",
   "execution_count": 4,
   "metadata": {},
   "outputs": [
    {
     "data": {
      "text/plain": [
       "(200, 100, 1)"
      ]
     },
     "execution_count": 4,
     "metadata": {},
     "output_type": "execute_result"
    }
   ],
   "source": [
    "Y.shape"
   ]
  },
  {
   "cell_type": "code",
   "execution_count": 5,
   "metadata": {},
   "outputs": [],
   "source": [
    "save_dir = \"/users/rapart57/rapart57-hpc/ATP/weights/gp/rbf\""
   ]
  },
  {
   "cell_type": "code",
   "execution_count": 6,
   "metadata": {},
   "outputs": [
    {
     "name": "stderr",
     "output_type": "stream",
     "text": [
      "2023-04-28 13:48:04.637464: I tensorflow/core/platform/cpu_feature_guard.cc:193] This TensorFlow binary is optimized with oneAPI Deep Neural Network Library (oneDNN) to use the following CPU instructions in performance-critical operations:  SSE4.1 SSE4.2 AVX AVX2 AVX512F FMA\n",
      "To enable them in other operations, rebuild TensorFlow with the appropriate compiler flags.\n",
      "2023-04-28 13:48:05.333456: I tensorflow/core/common_runtime/gpu/gpu_device.cc:1613] Created device /job:localhost/replica:0/task:0/device:GPU:0 with 6975 MB memory:  -> device: 0, name: Quadro P4000, pci bus id: 0000:3b:00.0, compute capability: 6.1\n"
     ]
    }
   ],
   "source": [
    "tf.random.set_seed(442)\n",
    "opt = tf.keras.optimizers.Adam(3e-4)\n",
    "run=2; heads=2\n",
    "atp_model = atp_pipeline.atp_pipeline()\n",
    "\n",
    "EPOCHS = 40\n",
    "\n"
   ]
  },
  {
   "cell_type": "code",
   "execution_count": 7,
   "metadata": {},
   "outputs": [],
   "source": [
    "seq_l = Y.shape[1];\n",
    "num_batches = 500\n",
    "batch_s=20\n",
    "mini = 50000\n",
    "n_C_te =5"
   ]
  },
  {
   "cell_type": "code",
   "execution_count": 27,
   "metadata": {},
   "outputs": [
    {
     "data": {
      "text/plain": [
       "<tensorflow.python.checkpoint.checkpoint.CheckpointLoadStatus at 0x7f3503a21120>"
      ]
     },
     "execution_count": 27,
     "metadata": {},
     "output_type": "execute_result"
    }
   ],
   "source": [
    "step = 1\n",
    "tr_step, te_step = atp_graph.build_graph()\n",
    "\n",
    "name_comp = 'run_' + str(run)\n",
    "logdir = save_dir + '/logs/' + name_comp\n",
    "folder = save_dir + '/ckpt/check_' + name_comp\n",
    "\n",
    "if not os.path.exists(folder): os.mkdir(folder)\n",
    "ckpt = tf.train.Checkpoint(step=tf.Variable(1), optimizer=opt, net=atp_model)\n",
    "manager = tf.train.CheckpointManager(ckpt, folder, max_to_keep=1)\n",
    "ckpt.restore(manager.latest_checkpoint)"
   ]
  },
  {
   "cell_type": "code",
   "execution_count": 26,
   "metadata": {},
   "outputs": [
    {
     "name": "stdout",
     "output_type": "stream",
     "text": [
      "epoch 0 batch 4 test lik pp: -0.6643770337104797\n",
      "Time taken for 1 epoch: 0.6566910743713379 secs\n",
      "\n",
      "epoch 1\n",
      "Time taken for 1 epoch: 0.3406245708465576 secs\n",
      "\n"
     ]
    }
   ],
   "source": [
    "    for epoch in range(2):\n",
    "        print(\"epoch\",+epoch)\n",
    "        start = time.time()\n",
    "        for batch_n in range(10):\n",
    "\n",
    "            tr_ix = np.random.choice(np.arange(0, int(0.9 * Y.shape[0])), batch_s)\n",
    "            n_C = int(np.random.choice(np.arange(2, 9), 1))\n",
    "            n_T = 100 - n_C\n",
    "            y_tr = Y[tr_ix]\n",
    "            t_tr = t[tr_ix]\n",
    "                 \n",
    "            _,_, nll_pp, msex = tr_step(atp_model, opt, t_tr,y_tr,n_C,n_T)\n",
    "\n",
    "            if ((batch_n % 2 == 0)):\n",
    "                te_ix = np.random.choice(np.arange(int(0.9 * Y.shape[0]), Y.shape[0]), batch_s)\n",
    "                y_te = Y[te_ix]\n",
    "                t_te = t[te_ix]\n",
    "                \n",
    "                _,_, nll_pp_te, msex_te = te_step(atp_model, t_tr,y_tr,n_C,n_T)\n",
    "                \n",
    "            if nll_pp_te < mini:\n",
    "                mini = nll_pp_te\n",
    "                IPython.display.clear_output(wait=True)\n",
    "                print(\"epoch {} batch {} test lik pp: {}\".format(epoch, batch_n, nll_pp)) \n",
    "                manager.save()\n",
    "                step += 1\n",
    "                ckpt.step.assign_add(1)\n",
    "        print ('Time taken for 1 epoch: {} secs\\n'.format(time.time() - start))"
   ]
  },
  {
   "cell_type": "code",
   "execution_count": 29,
   "metadata": {
    "scrolled": true
   },
   "outputs": [
    {
     "data": {
      "text/plain": [
       "(<tf.Tensor: shape=(20, 98, 1), dtype=float32, numpy=\n",
       " array([[[-1.1341854 ],\n",
       "         [-1.7527193 ],\n",
       "         [-0.9662785 ],\n",
       "         ...,\n",
       "         [-2.2222342 ],\n",
       "         [-0.61828864],\n",
       "         [ 0.17751393]],\n",
       " \n",
       "        [[-1.737303  ],\n",
       "         [-1.473785  ],\n",
       "         [-1.3551419 ],\n",
       "         ...,\n",
       "         [-0.46409088],\n",
       "         [-1.3993181 ],\n",
       "         [-1.8215457 ]],\n",
       " \n",
       "        [[-0.6228004 ],\n",
       "         [-0.5951429 ],\n",
       "         [-0.93868095],\n",
       "         ...,\n",
       "         [-1.4971751 ],\n",
       "         [-1.9156438 ],\n",
       "         [-1.6816232 ]],\n",
       " \n",
       "        ...,\n",
       " \n",
       "        [[-1.0192115 ],\n",
       "         [-1.3992127 ],\n",
       "         [-1.0287672 ],\n",
       "         ...,\n",
       "         [-1.9469209 ],\n",
       "         [-1.0841346 ],\n",
       "         [-1.4068415 ]],\n",
       " \n",
       "        [[-1.6027719 ],\n",
       "         [-1.442345  ],\n",
       "         [-1.531571  ],\n",
       "         ...,\n",
       "         [-1.4928826 ],\n",
       "         [-1.0883497 ],\n",
       "         [-1.4992023 ]],\n",
       " \n",
       "        [[-2.4462092 ],\n",
       "         [-1.1879479 ],\n",
       "         [-2.3719404 ],\n",
       "         ...,\n",
       "         [-0.103708  ],\n",
       "         [-0.04030331],\n",
       "         [-0.98203343]]], dtype=float32)>,\n",
       " <tf.Tensor: shape=(20, 98, 1), dtype=float32, numpy=\n",
       " array([[[-0.15111442],\n",
       "         [-0.4297866 ],\n",
       "         [-0.80624175],\n",
       "         ...,\n",
       "         [-2.2421563 ],\n",
       "         [-1.9361941 ],\n",
       "         [-1.9160836 ]],\n",
       " \n",
       "        [[-0.1884714 ],\n",
       "         [-1.5876892 ],\n",
       "         [-1.439748  ],\n",
       "         ...,\n",
       "         [-2.4222252 ],\n",
       "         [-2.319814  ],\n",
       "         [-2.470416  ]],\n",
       " \n",
       "        [[-0.02563034],\n",
       "         [-0.26516983],\n",
       "         [-0.3266713 ],\n",
       "         ...,\n",
       "         [-2.2024982 ],\n",
       "         [-2.4925008 ],\n",
       "         [-2.317611  ]],\n",
       " \n",
       "        ...,\n",
       " \n",
       "        [[-0.9961845 ],\n",
       "         [-1.1235582 ],\n",
       "         [-0.96354806],\n",
       "         ...,\n",
       "         [-2.3298743 ],\n",
       "         [-2.273459  ],\n",
       "         [-2.1590824 ]],\n",
       " \n",
       "        [[-1.0735284 ],\n",
       "         [-0.80639124],\n",
       "         [-1.27924   ],\n",
       "         ...,\n",
       "         [-2.203068  ],\n",
       "         [-2.0192583 ],\n",
       "         [-2.2208543 ]],\n",
       " \n",
       "        [[-0.34369516],\n",
       "         [-0.28837326],\n",
       "         [-0.12995844],\n",
       "         ...,\n",
       "         [-2.3225    ],\n",
       "         [-2.3080096 ],\n",
       "         [-1.6623096 ]]], dtype=float32)>)"
      ]
     },
     "execution_count": 29,
     "metadata": {},
     "output_type": "execute_result"
    }
   ],
   "source": [
    "atp_model([t_tr,y_tr,n_C,n_T,False])"
   ]
  },
  {
   "cell_type": "code",
   "execution_count": 30,
   "metadata": {},
   "outputs": [],
   "source": [
    "atp_model_new = atp_pipeline.atp_pipeline()"
   ]
  },
  {
   "cell_type": "code",
   "execution_count": 31,
   "metadata": {},
   "outputs": [
    {
     "data": {
      "text/plain": [
       "<tensorflow.python.checkpoint.checkpoint.CheckpointLoadStatus at 0x7f34fe933250>"
      ]
     },
     "execution_count": 31,
     "metadata": {},
     "output_type": "execute_result"
    }
   ],
   "source": [
    "step = 1\n",
    "tr_step, te_step = atp_graph.build_graph()\n",
    "\n",
    "name_comp = 'run_' + str(run)\n",
    "logdir = save_dir + '/logs/' + name_comp\n",
    "folder = save_dir + '/ckpt/check_' + name_comp\n",
    "\n",
    "if not os.path.exists(folder): os.mkdir(folder)\n",
    "ckpt = tf.train.Checkpoint(step=tf.Variable(1), optimizer=opt, net=atp_model_new)\n",
    "manager = tf.train.CheckpointManager(ckpt, folder, max_to_keep=1)\n",
    "ckpt.restore(manager.latest_checkpoint)"
   ]
  },
  {
   "cell_type": "code",
   "execution_count": 32,
   "metadata": {
    "collapsed": true,
    "jupyter": {
     "outputs_hidden": true
    },
    "tags": []
   },
   "outputs": [
    {
     "data": {
      "text/plain": [
       "(<tf.Tensor: shape=(20, 98, 1), dtype=float32, numpy=\n",
       " array([[[-1.1341854 ],\n",
       "         [-1.7527193 ],\n",
       "         [-0.9662785 ],\n",
       "         ...,\n",
       "         [-2.2222342 ],\n",
       "         [-0.61828864],\n",
       "         [ 0.17751393]],\n",
       " \n",
       "        [[-1.737303  ],\n",
       "         [-1.473785  ],\n",
       "         [-1.3551419 ],\n",
       "         ...,\n",
       "         [-0.46409088],\n",
       "         [-1.3993181 ],\n",
       "         [-1.8215457 ]],\n",
       " \n",
       "        [[-0.6228004 ],\n",
       "         [-0.5951429 ],\n",
       "         [-0.93868095],\n",
       "         ...,\n",
       "         [-1.4971751 ],\n",
       "         [-1.9156438 ],\n",
       "         [-1.6816232 ]],\n",
       " \n",
       "        ...,\n",
       " \n",
       "        [[-1.0192115 ],\n",
       "         [-1.3992127 ],\n",
       "         [-1.0287672 ],\n",
       "         ...,\n",
       "         [-1.9469209 ],\n",
       "         [-1.0841346 ],\n",
       "         [-1.4068415 ]],\n",
       " \n",
       "        [[-1.6027719 ],\n",
       "         [-1.442345  ],\n",
       "         [-1.531571  ],\n",
       "         ...,\n",
       "         [-1.4928826 ],\n",
       "         [-1.0883497 ],\n",
       "         [-1.4992023 ]],\n",
       " \n",
       "        [[-2.4462092 ],\n",
       "         [-1.1879479 ],\n",
       "         [-2.3719404 ],\n",
       "         ...,\n",
       "         [-0.103708  ],\n",
       "         [-0.04030331],\n",
       "         [-0.98203343]]], dtype=float32)>,\n",
       " <tf.Tensor: shape=(20, 98, 1), dtype=float32, numpy=\n",
       " array([[[-0.15111442],\n",
       "         [-0.4297866 ],\n",
       "         [-0.80624175],\n",
       "         ...,\n",
       "         [-2.2421563 ],\n",
       "         [-1.9361941 ],\n",
       "         [-1.9160836 ]],\n",
       " \n",
       "        [[-0.1884714 ],\n",
       "         [-1.5876892 ],\n",
       "         [-1.439748  ],\n",
       "         ...,\n",
       "         [-2.4222252 ],\n",
       "         [-2.319814  ],\n",
       "         [-2.470416  ]],\n",
       " \n",
       "        [[-0.02563034],\n",
       "         [-0.26516983],\n",
       "         [-0.3266713 ],\n",
       "         ...,\n",
       "         [-2.2024982 ],\n",
       "         [-2.4925008 ],\n",
       "         [-2.317611  ]],\n",
       " \n",
       "        ...,\n",
       " \n",
       "        [[-0.9961845 ],\n",
       "         [-1.1235582 ],\n",
       "         [-0.96354806],\n",
       "         ...,\n",
       "         [-2.3298743 ],\n",
       "         [-2.273459  ],\n",
       "         [-2.1590824 ]],\n",
       " \n",
       "        [[-1.0735284 ],\n",
       "         [-0.80639124],\n",
       "         [-1.27924   ],\n",
       "         ...,\n",
       "         [-2.203068  ],\n",
       "         [-2.0192583 ],\n",
       "         [-2.2208543 ]],\n",
       " \n",
       "        [[-0.34369516],\n",
       "         [-0.28837326],\n",
       "         [-0.12995844],\n",
       "         ...,\n",
       "         [-2.3225    ],\n",
       "         [-2.3080096 ],\n",
       "         [-1.6623096 ]]], dtype=float32)>)"
      ]
     },
     "execution_count": 32,
     "metadata": {},
     "output_type": "execute_result"
    }
   ],
   "source": [
    "atp_model([t_tr,y_tr,n_C,n_T,False])"
   ]
  },
  {
   "cell_type": "code",
   "execution_count": null,
   "metadata": {},
   "outputs": [],
   "source": []
  },
  {
   "cell_type": "code",
   "execution_count": null,
   "metadata": {},
   "outputs": [],
   "source": []
  },
  {
   "cell_type": "code",
   "execution_count": 9,
   "metadata": {},
   "outputs": [],
   "source": [
    "import math as m"
   ]
  },
  {
   "cell_type": "code",
   "execution_count": 10,
   "metadata": {},
   "outputs": [],
   "source": [
    "n_C = int(np.random.choice(np.arange(2, 9), 1))\n",
    "n_T = 100 - n_C\n",
    "                 "
   ]
  },
  {
   "cell_type": "code",
   "execution_count": 11,
   "metadata": {},
   "outputs": [],
   "source": [
    "\n",
    "            tr_ix = np.random.choice(np.arange(0, int(0.9 * Y.shape[0])), batch_s)\n",
    "            n_C = int(np.random.choice(np.arange(2, 9), 1))\n",
    "            n_T = 100 - n_C\n",
    "            y_tr = Y[tr_ix, :, :]\n",
    "            t_tr = t[tr_ix, :,:]\n",
    "                 "
   ]
  },
  {
   "cell_type": "code",
   "execution_count": 13,
   "metadata": {},
   "outputs": [],
   "source": [
    "x = t[:,:n_C+n_T,:]\n",
    "y = Y[:,:n_C+n_T,:]"
   ]
  },
  {
   "cell_type": "code",
   "execution_count": 14,
   "metadata": {},
   "outputs": [],
   "source": [
    "from data import feature_extractor"
   ]
  },
  {
   "cell_type": "code",
   "execution_count": 15,
   "metadata": {},
   "outputs": [],
   "source": [
    "   def PE(inputs):  # return.shape=(T,B,d)\n",
    "        # t.shape=(T,B)   T=sequence_length, B=batch_size\n",
    "        \"\"\"A position-embedder, similar to the Attention paper, but tweaked to account for\n",
    "        floating point positions, rather than integer.\n",
    "\n",
    "        \"\"\"\n",
    "\n",
    "        x, enc_dim, xΔmin, xmax = inputs\n",
    "\n",
    "        R = xmax / xΔmin * 100\n",
    "        drange_even = tf.cast(xΔmin * R**(tf.range(0,enc_dim,2)/enc_dim),\"float32\")\n",
    "        drange_odd = tf.cast(xΔmin * R**((tf.range(1,enc_dim,2) - 1)/enc_dim),\"float32\")\n",
    "        x = tf.concat([tf.math.sin(x / drange_even), tf.math.cos(x / drange_odd)], axis=2)\n",
    "        return x   "
   ]
  },
  {
   "cell_type": "code",
   "execution_count": 16,
   "metadata": {},
   "outputs": [],
   "source": [
    "x_emb = [PE([x[:,:,i][:,:,tf.newaxis],32,0.1,2]) for i in range(x.shape[-1])] \n",
    "x_emb = tf.concat(x_emb,axis=-1)"
   ]
  },
  {
   "cell_type": "code",
   "execution_count": 17,
   "metadata": {},
   "outputs": [],
   "source": [
    "from data import feature_extractor"
   ]
  },
  {
   "cell_type": "code",
   "execution_count": 18,
   "metadata": {},
   "outputs": [
    {
     "name": "stdout",
     "output_type": "stream",
     "text": [
      "else loop\n",
      "(200, 100, 1)\n"
     ]
    }
   ],
   "source": [
    "y_diff,x_diff,d,x_n,y_n = feature_extractor.DE()([y,x,n_C,n_T,True])\n"
   ]
  },
  {
   "cell_type": "code",
   "execution_count": 19,
   "metadata": {},
   "outputs": [
    {
     "data": {
      "text/plain": [
       "TensorShape([200, 100, 1])"
      ]
     },
     "execution_count": 19,
     "metadata": {},
     "output_type": "execute_result"
    }
   ],
   "source": [
    "d.shape"
   ]
  },
  {
   "cell_type": "code",
   "execution_count": 50,
   "metadata": {},
   "outputs": [],
   "source": [
    "        inputs_for_processing = [x_emb,y,y_diff,x_diff,d,x_n,y_n,n_C,n_T]\n"
   ]
  }
 ],
 "metadata": {
  "kernelspec": {
   "display_name": "Python 3 (ipykernel)",
   "language": "python",
   "name": "python3"
  },
  "language_info": {
   "codemirror_mode": {
    "name": "ipython",
    "version": 3
   },
   "file_extension": ".py",
   "mimetype": "text/x-python",
   "name": "python",
   "nbconvert_exporter": "python",
   "pygments_lexer": "ipython3",
   "version": "3.8.13"
  }
 },
 "nbformat": 4,
 "nbformat_minor": 4
}
