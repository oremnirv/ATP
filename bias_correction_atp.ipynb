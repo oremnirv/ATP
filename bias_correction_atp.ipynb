{
 "cells": [
  {
   "cell_type": "code",
   "execution_count": 1,
   "id": "b418dfac",
   "metadata": {},
   "outputs": [],
   "source": [
    "from data_wrangler import feature_extractor\n",
    "import numpy as np\n",
    "import pandas as pd\n",
    "import tensorflow as tf\n",
    "from model import atp_pipeline, atp_graph, losses\n",
    "from data_wrangler import dataset_preparer\n",
    "from data_wrangler import batcher\n",
    "import os\n",
    "import IPython\n",
    "import matplotlib.pyplot as plt\n",
    "import numpy as np"
   ]
  },
  {
   "cell_type": "code",
   "execution_count": 2,
   "id": "0476c966",
   "metadata": {},
   "outputs": [],
   "source": [
    "exchange = pd.read_csv('datasets/exchange.csv')"
   ]
  },
  {
   "cell_type": "code",
   "execution_count": 3,
   "id": "c6ae8680",
   "metadata": {},
   "outputs": [],
   "source": [
    "array = np.array(exchange)\n",
    "array[:,0] = np.linspace(-1,1,array.shape[0])\n",
    "array = array.astype(\"float32\")"
   ]
  },
  {
   "cell_type": "code",
   "execution_count": 4,
   "id": "e388e7b0",
   "metadata": {},
   "outputs": [
    {
     "data": {
      "text/html": [
       "<div>\n",
       "<style scoped>\n",
       "    .dataframe tbody tr th:only-of-type {\n",
       "        vertical-align: middle;\n",
       "    }\n",
       "\n",
       "    .dataframe tbody tr th {\n",
       "        vertical-align: top;\n",
       "    }\n",
       "\n",
       "    .dataframe thead th {\n",
       "        text-align: right;\n",
       "    }\n",
       "</style>\n",
       "<table border=\"1\" class=\"dataframe\">\n",
       "  <thead>\n",
       "    <tr style=\"text-align: right;\">\n",
       "      <th></th>\n",
       "      <th>date</th>\n",
       "      <th>0</th>\n",
       "      <th>1</th>\n",
       "      <th>2</th>\n",
       "      <th>3</th>\n",
       "      <th>4</th>\n",
       "      <th>5</th>\n",
       "      <th>6</th>\n",
       "      <th>OT</th>\n",
       "    </tr>\n",
       "  </thead>\n",
       "  <tbody>\n",
       "    <tr>\n",
       "      <th>0</th>\n",
       "      <td>1990/1/1 0:00</td>\n",
       "      <td>0.785500</td>\n",
       "      <td>1.611000</td>\n",
       "      <td>0.861698</td>\n",
       "      <td>0.634196</td>\n",
       "      <td>0.211242</td>\n",
       "      <td>0.006838</td>\n",
       "      <td>0.525486</td>\n",
       "      <td>0.593000</td>\n",
       "    </tr>\n",
       "    <tr>\n",
       "      <th>1</th>\n",
       "      <td>1990/1/2 0:00</td>\n",
       "      <td>0.781800</td>\n",
       "      <td>1.610000</td>\n",
       "      <td>0.861104</td>\n",
       "      <td>0.633513</td>\n",
       "      <td>0.211242</td>\n",
       "      <td>0.006863</td>\n",
       "      <td>0.523972</td>\n",
       "      <td>0.594000</td>\n",
       "    </tr>\n",
       "    <tr>\n",
       "      <th>2</th>\n",
       "      <td>1990/1/3 0:00</td>\n",
       "      <td>0.786700</td>\n",
       "      <td>1.629300</td>\n",
       "      <td>0.861030</td>\n",
       "      <td>0.648508</td>\n",
       "      <td>0.211242</td>\n",
       "      <td>0.006975</td>\n",
       "      <td>0.526316</td>\n",
       "      <td>0.597300</td>\n",
       "    </tr>\n",
       "    <tr>\n",
       "      <th>3</th>\n",
       "      <td>1990/1/4 0:00</td>\n",
       "      <td>0.786000</td>\n",
       "      <td>1.637000</td>\n",
       "      <td>0.862069</td>\n",
       "      <td>0.650618</td>\n",
       "      <td>0.211242</td>\n",
       "      <td>0.006953</td>\n",
       "      <td>0.523834</td>\n",
       "      <td>0.597000</td>\n",
       "    </tr>\n",
       "    <tr>\n",
       "      <th>4</th>\n",
       "      <td>1990/1/5 0:00</td>\n",
       "      <td>0.784900</td>\n",
       "      <td>1.653000</td>\n",
       "      <td>0.861995</td>\n",
       "      <td>0.656254</td>\n",
       "      <td>0.211242</td>\n",
       "      <td>0.006940</td>\n",
       "      <td>0.527426</td>\n",
       "      <td>0.598500</td>\n",
       "    </tr>\n",
       "    <tr>\n",
       "      <th>...</th>\n",
       "      <td>...</td>\n",
       "      <td>...</td>\n",
       "      <td>...</td>\n",
       "      <td>...</td>\n",
       "      <td>...</td>\n",
       "      <td>...</td>\n",
       "      <td>...</td>\n",
       "      <td>...</td>\n",
       "      <td>...</td>\n",
       "    </tr>\n",
       "    <tr>\n",
       "      <th>7583</th>\n",
       "      <td>2010/10/6 0:00</td>\n",
       "      <td>0.718494</td>\n",
       "      <td>1.222195</td>\n",
       "      <td>0.737485</td>\n",
       "      <td>0.969974</td>\n",
       "      <td>0.143697</td>\n",
       "      <td>0.008500</td>\n",
       "      <td>0.688565</td>\n",
       "      <td>0.690846</td>\n",
       "    </tr>\n",
       "    <tr>\n",
       "      <th>7584</th>\n",
       "      <td>2010/10/7 0:00</td>\n",
       "      <td>0.721839</td>\n",
       "      <td>1.223459</td>\n",
       "      <td>0.741155</td>\n",
       "      <td>0.977297</td>\n",
       "      <td>0.143763</td>\n",
       "      <td>0.008595</td>\n",
       "      <td>0.690288</td>\n",
       "      <td>0.695701</td>\n",
       "    </tr>\n",
       "    <tr>\n",
       "      <th>7585</th>\n",
       "      <td>2010/10/8 0:00</td>\n",
       "      <td>0.723197</td>\n",
       "      <td>1.234111</td>\n",
       "      <td>0.745184</td>\n",
       "      <td>0.984446</td>\n",
       "      <td>0.143997</td>\n",
       "      <td>0.008562</td>\n",
       "      <td>0.691419</td>\n",
       "      <td>0.695943</td>\n",
       "    </tr>\n",
       "    <tr>\n",
       "      <th>7586</th>\n",
       "      <td>2010/10/9 0:00</td>\n",
       "      <td>0.720825</td>\n",
       "      <td>1.233905</td>\n",
       "      <td>0.744131</td>\n",
       "      <td>0.980344</td>\n",
       "      <td>0.143993</td>\n",
       "      <td>0.008555</td>\n",
       "      <td>0.690942</td>\n",
       "      <td>0.692689</td>\n",
       "    </tr>\n",
       "    <tr>\n",
       "      <th>7587</th>\n",
       "      <td>2010/10/10 0:00</td>\n",
       "      <td>0.720825</td>\n",
       "      <td>1.233905</td>\n",
       "      <td>0.744131</td>\n",
       "      <td>0.980344</td>\n",
       "      <td>0.143993</td>\n",
       "      <td>0.008555</td>\n",
       "      <td>0.690942</td>\n",
       "      <td>0.692689</td>\n",
       "    </tr>\n",
       "  </tbody>\n",
       "</table>\n",
       "<p>7588 rows × 9 columns</p>\n",
       "</div>"
      ],
      "text/plain": [
       "                 date         0         1         2         3         4  \\\n",
       "0       1990/1/1 0:00  0.785500  1.611000  0.861698  0.634196  0.211242   \n",
       "1       1990/1/2 0:00  0.781800  1.610000  0.861104  0.633513  0.211242   \n",
       "2       1990/1/3 0:00  0.786700  1.629300  0.861030  0.648508  0.211242   \n",
       "3       1990/1/4 0:00  0.786000  1.637000  0.862069  0.650618  0.211242   \n",
       "4       1990/1/5 0:00  0.784900  1.653000  0.861995  0.656254  0.211242   \n",
       "...               ...       ...       ...       ...       ...       ...   \n",
       "7583   2010/10/6 0:00  0.718494  1.222195  0.737485  0.969974  0.143697   \n",
       "7584   2010/10/7 0:00  0.721839  1.223459  0.741155  0.977297  0.143763   \n",
       "7585   2010/10/8 0:00  0.723197  1.234111  0.745184  0.984446  0.143997   \n",
       "7586   2010/10/9 0:00  0.720825  1.233905  0.744131  0.980344  0.143993   \n",
       "7587  2010/10/10 0:00  0.720825  1.233905  0.744131  0.980344  0.143993   \n",
       "\n",
       "             5         6        OT  \n",
       "0     0.006838  0.525486  0.593000  \n",
       "1     0.006863  0.523972  0.594000  \n",
       "2     0.006975  0.526316  0.597300  \n",
       "3     0.006953  0.523834  0.597000  \n",
       "4     0.006940  0.527426  0.598500  \n",
       "...        ...       ...       ...  \n",
       "7583  0.008500  0.688565  0.690846  \n",
       "7584  0.008595  0.690288  0.695701  \n",
       "7585  0.008562  0.691419  0.695943  \n",
       "7586  0.008555  0.690942  0.692689  \n",
       "7587  0.008555  0.690942  0.692689  \n",
       "\n",
       "[7588 rows x 9 columns]"
      ]
     },
     "execution_count": 4,
     "metadata": {},
     "output_type": "execute_result"
    }
   ],
   "source": [
    "exchange"
   ]
  },
  {
   "cell_type": "code",
   "execution_count": 5,
   "id": "5ecd1e14",
   "metadata": {},
   "outputs": [],
   "source": [
    "x_train, y_train, x_val, y_val, x_test, y_test = dataset_preparer.dataset_processor(\"datasets/exchange.csv\") \n"
   ]
  },
  {
   "cell_type": "code",
   "execution_count": 6,
   "id": "016385cf",
   "metadata": {},
   "outputs": [
    {
     "data": {
      "text/plain": [
       "(5235, 1, 1)"
      ]
     },
     "execution_count": 6,
     "metadata": {},
     "output_type": "execute_result"
    }
   ],
   "source": [
    "y_train.shape"
   ]
  },
  {
   "cell_type": "code",
   "execution_count": 7,
   "id": "65a7213b",
   "metadata": {},
   "outputs": [],
   "source": [
    "save_dir = 'weights/forecasting/exchange/multivariate'"
   ]
  },
  {
   "cell_type": "code",
   "execution_count": 8,
   "id": "70fa5637",
   "metadata": {},
   "outputs": [
    {
     "name": "stdout",
     "output_type": "stream",
     "text": [
      "Metal device set to: Apple M1 Max\n",
      "\n",
      "systemMemory: 64.00 GB\n",
      "maxCacheSize: 24.00 GB\n",
      "\n"
     ]
    },
    {
     "name": "stderr",
     "output_type": "stream",
     "text": [
      "2023-05-25 14:53:37.941822: I tensorflow/core/common_runtime/pluggable_device/pluggable_device_factory.cc:305] Could not identify NUMA node of platform GPU ID 0, defaulting to 0. Your kernel may not have been built with NUMA support.\n",
      "2023-05-25 14:53:37.941949: I tensorflow/core/common_runtime/pluggable_device/pluggable_device_factory.cc:271] Created TensorFlow device (/job:localhost/replica:0/task:0/device:GPU:0 with 0 MB memory) -> physical PluggableDevice (device: 0, name: METAL, pci bus id: <undefined>)\n"
     ]
    }
   ],
   "source": [
    "\n",
    "run = 2\n",
    "tr_step = atp_graph.build_graph()\n",
    "model = atp_pipeline.atp_pipeline(multiply=8)\n",
    "###### can we put the name of the model into the folder name #########?\n",
    "\n",
    "name_comp = 'run_' + str(run)\n",
    "folder = save_dir + '/ckpt/check_' + name_comp\n",
    "if not os.path.exists(folder): os.mkdir(folder)\n",
    "opt = tf.keras.optimizers.Adam(3e-4)\n",
    "ckpt = tf.train.Checkpoint(step=tf.Variable(1), optimizer=opt, net=model)\n",
    "manager = tf.train.CheckpointManager(ckpt, folder, max_to_keep=1)\n",
    "ckpt.restore(manager.latest_checkpoint) \n",
    "sum_mse_tot = 0; sum_nll_tot = 0\n",
    "mini = 50000"
   ]
  },
  {
   "cell_type": "code",
   "execution_count": 9,
   "id": "2a73b5ff",
   "metadata": {},
   "outputs": [],
   "source": [
    "n_C, n_T = 96, 96"
   ]
  },
  {
   "cell_type": "code",
   "execution_count": 10,
   "id": "779dff1e",
   "metadata": {},
   "outputs": [],
   "source": [
    "x, y = batcher.batcher_multi_ts(array[:5000, :], n_C=96, n_T=96) "
   ]
  },
  {
   "cell_type": "code",
   "execution_count": 20,
   "id": "4f1d4028",
   "metadata": {},
   "outputs": [],
   "source": [
    "m  = atp_pipeline.atp_pipeline(multiply=7, MHAX_leakage='xxx', subsample=False)"
   ]
  },
  {
   "cell_type": "code",
   "execution_count": 21,
   "id": "fb38fe6c",
   "metadata": {},
   "outputs": [
    {
     "data": {
      "text/plain": [
       "(32, 1536)"
      ]
     },
     "execution_count": 21,
     "metadata": {},
     "output_type": "execute_result"
    }
   ],
   "source": [
    "y.shape"
   ]
  },
  {
   "cell_type": "code",
   "execution_count": 22,
   "id": "550855fc",
   "metadata": {},
   "outputs": [
    {
     "data": {
      "text/plain": [
       "1536"
      ]
     },
     "execution_count": 22,
     "metadata": {},
     "output_type": "execute_result"
    }
   ],
   "source": [
    "8 * 192"
   ]
  },
  {
   "cell_type": "code",
   "execution_count": 23,
   "id": "824f0f55",
   "metadata": {},
   "outputs": [
    {
     "data": {
      "text/plain": [
       "<tf.Tensor: shape=(7,), dtype=int32, numpy=array([0, 1, 2, 3, 4, 5, 6], dtype=int32)>"
      ]
     },
     "execution_count": 23,
     "metadata": {},
     "output_type": "execute_result"
    }
   ],
   "source": [
    "tf.range(7)"
   ]
  },
  {
   "cell_type": "code",
   "execution_count": 25,
   "id": "1d696f92",
   "metadata": {},
   "outputs": [
    {
     "name": "stdout",
     "output_type": "stream",
     "text": [
      "ts_start tf.Tensor(0, shape=(), dtype=int32)\n",
      "ts_end tf.Tensor(40, shape=(), dtype=int32)\n",
      "x_temp.shape (32, 40, 1)\n",
      "ts_start tf.Tensor(40, shape=(), dtype=int32)\n",
      "ts_end tf.Tensor(80, shape=(), dtype=int32)\n",
      "x_temp.shape (32, 40, 1)\n",
      "ts_start tf.Tensor(80, shape=(), dtype=int32)\n",
      "ts_end tf.Tensor(120, shape=(), dtype=int32)\n",
      "x_temp.shape (32, 40, 1)\n",
      "ts_start tf.Tensor(120, shape=(), dtype=int32)\n",
      "ts_end tf.Tensor(160, shape=(), dtype=int32)\n",
      "x_temp.shape (32, 40, 1)\n",
      "ts_start tf.Tensor(160, shape=(), dtype=int32)\n",
      "ts_end tf.Tensor(200, shape=(), dtype=int32)\n",
      "x_temp.shape (32, 40, 1)\n",
      "ts_start tf.Tensor(200, shape=(), dtype=int32)\n",
      "ts_end tf.Tensor(240, shape=(), dtype=int32)\n",
      "x_temp.shape (32, 40, 1)\n",
      "ts_start tf.Tensor(240, shape=(), dtype=int32)\n",
      "ts_end tf.Tensor(280, shape=(), dtype=int32)\n",
      "x_temp.shape (32, 40, 1)\n"
     ]
    },
    {
     "data": {
      "text/plain": [
       "(<tf.Tensor: shape=(32, 140, 1), dtype=float32, numpy=\n",
       " array([[[5.691631 ],\n",
       "         [5.358798 ],\n",
       "         [4.30334  ],\n",
       "         ...,\n",
       "         [6.92659  ],\n",
       "         [6.5222034],\n",
       "         [5.688397 ]],\n",
       " \n",
       "        [[6.9774666],\n",
       "         [4.9466057],\n",
       "         [6.2084284],\n",
       "         ...,\n",
       "         [7.5115695],\n",
       "         [7.5851564],\n",
       "         [7.225258 ]],\n",
       " \n",
       "        [[7.087231 ],\n",
       "         [7.2869673],\n",
       "         [6.0088906],\n",
       "         ...,\n",
       "         [8.470135 ],\n",
       "         [6.9623103],\n",
       "         [8.042394 ]],\n",
       " \n",
       "        ...,\n",
       " \n",
       "        [[4.7145743],\n",
       "         [5.6194267],\n",
       "         [5.6868014],\n",
       "         ...,\n",
       "         [7.301817 ],\n",
       "         [6.0656095],\n",
       "         [7.263817 ]],\n",
       " \n",
       "        [[4.9648705],\n",
       "         [5.106922 ],\n",
       "         [3.4952462],\n",
       "         ...,\n",
       "         [6.3624067],\n",
       "         [5.7304106],\n",
       "         [6.0163927]],\n",
       " \n",
       "        [[6.097771 ],\n",
       "         [4.756557 ],\n",
       "         [4.7459207],\n",
       "         ...,\n",
       "         [5.981386 ],\n",
       "         [5.6481028],\n",
       "         [7.334259 ]]], dtype=float32)>,\n",
       " <tf.Tensor: shape=(32, 140, 1), dtype=float32, numpy=\n",
       " array([[[4.991181 ],\n",
       "         [4.643448 ],\n",
       "         [3.57479  ],\n",
       "         ...,\n",
       "         [5.09319  ],\n",
       "         [4.697953 ],\n",
       "         [3.8916469]],\n",
       " \n",
       "        [[6.4222164],\n",
       "         [4.4041557],\n",
       "         [5.6589785],\n",
       "         ...,\n",
       "         [6.0456696],\n",
       "         [6.0564566],\n",
       "         [5.691658 ]],\n",
       " \n",
       "        [[6.5090203],\n",
       "         [6.7393675],\n",
       "         [5.4953337],\n",
       "         ...,\n",
       "         [6.9528756],\n",
       "         [5.4986644],\n",
       "         [6.57974  ]],\n",
       " \n",
       "        ...,\n",
       " \n",
       "        [[3.8087244],\n",
       "         [4.660227 ],\n",
       "         [4.717201 ],\n",
       "         ...,\n",
       "         [5.292617 ],\n",
       "         [4.0977945],\n",
       "         [5.272767 ]],\n",
       " \n",
       "        [[4.1875706],\n",
       "         [4.324922 ],\n",
       "         [2.7110462],\n",
       "         ...,\n",
       "         [4.386407 ],\n",
       "         [3.8046107],\n",
       "         [4.1603928]],\n",
       " \n",
       "        [[5.3233213],\n",
       "         [3.9817572],\n",
       "         [3.9510705],\n",
       "         ...,\n",
       "         [4.1338863],\n",
       "         [3.770403 ],\n",
       "         [5.421909 ]]], dtype=float32)>)"
      ]
     },
     "execution_count": 25,
     "metadata": {},
     "output_type": "execute_result"
    }
   ],
   "source": [
    "m([x, y[:, :, np.newaxis], [20, 20, 20, 20, 20, 20, 20], [20, 20, 20, 20, 20, 20, 20, 20], True, [20], [10]])"
   ]
  },
  {
   "cell_type": "code",
   "execution_count": 17,
   "id": "7203fdb6",
   "metadata": {},
   "outputs": [
    {
     "data": {
      "image/png": "[encoded data removed]",
      "text/plain": [
       "<Figure size 432x288 with 1 Axes>"
      ]
     },
     "metadata": {
      "needs_background": "light"
     },
     "output_type": "display_data"
    }
   ],
   "source": [
    "tr_loss = [] ; val_loss = []\n",
    "n_C2 = n_C * 8\n",
    "n_T2 = n_T * 8\n",
    "batch_s = 32\n",
    "for i in range(2000):\n",
    "    x, y = batcher_bc(array[:5000, :], n_C, n_T) \n",
    "    y_re = np.concatenate([y[:, n_C2 + n_T * i:n_C2+(n_T * (i +1))] for i in range(8)], axis=-1)\n",
    "    y_re = y_re.reshape(batch_s, -1, 1)\n",
    "    _,_, nll_pp_tr, _ = tr_step(model, opt, x[:, :, np.newaxis], y, n_C, n_T, training=True, multiple=8, y_re=y_re)\n",
    "    \n",
    "    \n",
    "    if (i+1) % 100 == 0:\n",
    "        x, y = batcher_bc(array[5000:6000, :], n_C, n_T) \n",
    "        y_re = np.concatenate([y[:, n_C2 + n_T * i:n_C2+(n_T * (i +1))] for i in range(8)], axis=-1)\n",
    "        y_re = y_re.reshape(batch_s, -1, 1)\n",
    "        mu, log_sigma = model([x[:, :, np.newaxis], y, n_C, n_T, False]) \n",
    "        _, _, _, nll_pp_val, mse = losses.nll(y_re, mu, log_sigma)\n",
    "        if nll_pp_val.numpy() < mini:\n",
    "            ckpt.step.assign_add(1)\n",
    "            save_path = manager.save()\n",
    "            print(\"Saved checkpoint for step {}: {}\".format(int(ckpt.step), save_path))\n",
    "            print(\"loss {:1.2f}\".format(nll_pp_tr.numpy()))\n",
    "        tr_loss.append(nll_pp_tr.numpy())\n",
    "        val_loss.append(nll_pp_val.numpy())\n",
    "        IPython.display.clear_output(wait=True)\n",
    "        plt.plot(tr_loss)\n",
    "        plt.plot(val_loss)\n",
    "        plt.show()"
   ]
  }
 ],
 "metadata": {
  "kernelspec": {
   "display_name": "Python 3 (ipykernel)",
   "language": "python",
   "name": "python3"
  },
  "language_info": {
   "codemirror_mode": {
    "name": "ipython",
    "version": 3
   },
   "file_extension": ".py",
   "mimetype": "text/x-python",
   "name": "python",
   "nbconvert_exporter": "python",
   "pygments_lexer": "ipython3",
   "version": "3.8.13"
  }
 },
 "nbformat": 4,
 "nbformat_minor": 5
}
