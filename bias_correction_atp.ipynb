{
 "cells": [
  {
   "cell_type": "code",
   "execution_count": 1,
   "id": "b418dfac",
   "metadata": {},
   "outputs": [],
   "source": [
    "from data_wrangler import synthetic_data_gen, feature_extractor\n",
    "import numpy as np\n",
    "import pandas as pd\n",
    "import tensorflow as tf\n",
    "from model import atp_pipeline, atp_graph, losses\n",
    "from data_wrangler import dataset_preparer\n",
    "from data_wrangler.batcher import batcher\n",
    "import os\n",
    "import IPython\n",
    "import matplotlib.pyplot as plt\n",
    "import numpy as np"
   ]
  },
  {
   "cell_type": "code",
   "execution_count": 2,
   "id": "0476c966",
   "metadata": {},
   "outputs": [],
   "source": [
    "exchange = pd.read_csv('datasets/exchange.csv')"
   ]
  },
  {
   "cell_type": "code",
   "execution_count": 3,
   "id": "c6ae8680",
   "metadata": {},
   "outputs": [],
   "source": [
    "array = np.array(exchange)\n",
    "array[:,0] = np.linspace(-1,1,array.shape[0])\n",
    "array = array.astype(\"float32\")"
   ]
  },
  {
   "cell_type": "code",
   "execution_count": 4,
   "id": "40c7eb97",
   "metadata": {},
   "outputs": [
    {
     "data": {
      "text/plain": [
       "(5000, 9)"
      ]
     },
     "execution_count": 4,
     "metadata": {},
     "output_type": "execute_result"
    }
   ],
   "source": [
    "array[:5000, :].shape"
   ]
  },
  {
   "cell_type": "code",
   "execution_count": 5,
   "id": "e388e7b0",
   "metadata": {},
   "outputs": [
    {
     "data": {
      "text/html": [
       "<div>\n",
       "<style scoped>\n",
       "    .dataframe tbody tr th:only-of-type {\n",
       "        vertical-align: middle;\n",
       "    }\n",
       "\n",
       "    .dataframe tbody tr th {\n",
       "        vertical-align: top;\n",
       "    }\n",
       "\n",
       "    .dataframe thead th {\n",
       "        text-align: right;\n",
       "    }\n",
       "</style>\n",
       "<table border=\"1\" class=\"dataframe\">\n",
       "  <thead>\n",
       "    <tr style=\"text-align: right;\">\n",
       "      <th></th>\n",
       "      <th>date</th>\n",
       "      <th>0</th>\n",
       "      <th>1</th>\n",
       "      <th>2</th>\n",
       "      <th>3</th>\n",
       "      <th>4</th>\n",
       "      <th>5</th>\n",
       "      <th>6</th>\n",
       "      <th>OT</th>\n",
       "    </tr>\n",
       "  </thead>\n",
       "  <tbody>\n",
       "    <tr>\n",
       "      <th>0</th>\n",
       "      <td>1990/1/1 0:00</td>\n",
       "      <td>0.785500</td>\n",
       "      <td>1.611000</td>\n",
       "      <td>0.861698</td>\n",
       "      <td>0.634196</td>\n",
       "      <td>0.211242</td>\n",
       "      <td>0.006838</td>\n",
       "      <td>0.525486</td>\n",
       "      <td>0.593000</td>\n",
       "    </tr>\n",
       "    <tr>\n",
       "      <th>1</th>\n",
       "      <td>1990/1/2 0:00</td>\n",
       "      <td>0.781800</td>\n",
       "      <td>1.610000</td>\n",
       "      <td>0.861104</td>\n",
       "      <td>0.633513</td>\n",
       "      <td>0.211242</td>\n",
       "      <td>0.006863</td>\n",
       "      <td>0.523972</td>\n",
       "      <td>0.594000</td>\n",
       "    </tr>\n",
       "    <tr>\n",
       "      <th>2</th>\n",
       "      <td>1990/1/3 0:00</td>\n",
       "      <td>0.786700</td>\n",
       "      <td>1.629300</td>\n",
       "      <td>0.861030</td>\n",
       "      <td>0.648508</td>\n",
       "      <td>0.211242</td>\n",
       "      <td>0.006975</td>\n",
       "      <td>0.526316</td>\n",
       "      <td>0.597300</td>\n",
       "    </tr>\n",
       "    <tr>\n",
       "      <th>3</th>\n",
       "      <td>1990/1/4 0:00</td>\n",
       "      <td>0.786000</td>\n",
       "      <td>1.637000</td>\n",
       "      <td>0.862069</td>\n",
       "      <td>0.650618</td>\n",
       "      <td>0.211242</td>\n",
       "      <td>0.006953</td>\n",
       "      <td>0.523834</td>\n",
       "      <td>0.597000</td>\n",
       "    </tr>\n",
       "    <tr>\n",
       "      <th>4</th>\n",
       "      <td>1990/1/5 0:00</td>\n",
       "      <td>0.784900</td>\n",
       "      <td>1.653000</td>\n",
       "      <td>0.861995</td>\n",
       "      <td>0.656254</td>\n",
       "      <td>0.211242</td>\n",
       "      <td>0.006940</td>\n",
       "      <td>0.527426</td>\n",
       "      <td>0.598500</td>\n",
       "    </tr>\n",
       "    <tr>\n",
       "      <th>...</th>\n",
       "      <td>...</td>\n",
       "      <td>...</td>\n",
       "      <td>...</td>\n",
       "      <td>...</td>\n",
       "      <td>...</td>\n",
       "      <td>...</td>\n",
       "      <td>...</td>\n",
       "      <td>...</td>\n",
       "      <td>...</td>\n",
       "    </tr>\n",
       "    <tr>\n",
       "      <th>7583</th>\n",
       "      <td>2010/10/6 0:00</td>\n",
       "      <td>0.718494</td>\n",
       "      <td>1.222195</td>\n",
       "      <td>0.737485</td>\n",
       "      <td>0.969974</td>\n",
       "      <td>0.143697</td>\n",
       "      <td>0.008500</td>\n",
       "      <td>0.688565</td>\n",
       "      <td>0.690846</td>\n",
       "    </tr>\n",
       "    <tr>\n",
       "      <th>7584</th>\n",
       "      <td>2010/10/7 0:00</td>\n",
       "      <td>0.721839</td>\n",
       "      <td>1.223459</td>\n",
       "      <td>0.741155</td>\n",
       "      <td>0.977297</td>\n",
       "      <td>0.143763</td>\n",
       "      <td>0.008595</td>\n",
       "      <td>0.690288</td>\n",
       "      <td>0.695701</td>\n",
       "    </tr>\n",
       "    <tr>\n",
       "      <th>7585</th>\n",
       "      <td>2010/10/8 0:00</td>\n",
       "      <td>0.723197</td>\n",
       "      <td>1.234111</td>\n",
       "      <td>0.745184</td>\n",
       "      <td>0.984446</td>\n",
       "      <td>0.143997</td>\n",
       "      <td>0.008562</td>\n",
       "      <td>0.691419</td>\n",
       "      <td>0.695943</td>\n",
       "    </tr>\n",
       "    <tr>\n",
       "      <th>7586</th>\n",
       "      <td>2010/10/9 0:00</td>\n",
       "      <td>0.720825</td>\n",
       "      <td>1.233905</td>\n",
       "      <td>0.744131</td>\n",
       "      <td>0.980344</td>\n",
       "      <td>0.143993</td>\n",
       "      <td>0.008555</td>\n",
       "      <td>0.690942</td>\n",
       "      <td>0.692689</td>\n",
       "    </tr>\n",
       "    <tr>\n",
       "      <th>7587</th>\n",
       "      <td>2010/10/10 0:00</td>\n",
       "      <td>0.720825</td>\n",
       "      <td>1.233905</td>\n",
       "      <td>0.744131</td>\n",
       "      <td>0.980344</td>\n",
       "      <td>0.143993</td>\n",
       "      <td>0.008555</td>\n",
       "      <td>0.690942</td>\n",
       "      <td>0.692689</td>\n",
       "    </tr>\n",
       "  </tbody>\n",
       "</table>\n",
       "<p>7588 rows × 9 columns</p>\n",
       "</div>"
      ],
      "text/plain": [
       "                 date         0         1         2         3         4  \\\n",
       "0       1990/1/1 0:00  0.785500  1.611000  0.861698  0.634196  0.211242   \n",
       "1       1990/1/2 0:00  0.781800  1.610000  0.861104  0.633513  0.211242   \n",
       "2       1990/1/3 0:00  0.786700  1.629300  0.861030  0.648508  0.211242   \n",
       "3       1990/1/4 0:00  0.786000  1.637000  0.862069  0.650618  0.211242   \n",
       "4       1990/1/5 0:00  0.784900  1.653000  0.861995  0.656254  0.211242   \n",
       "...               ...       ...       ...       ...       ...       ...   \n",
       "7583   2010/10/6 0:00  0.718494  1.222195  0.737485  0.969974  0.143697   \n",
       "7584   2010/10/7 0:00  0.721839  1.223459  0.741155  0.977297  0.143763   \n",
       "7585   2010/10/8 0:00  0.723197  1.234111  0.745184  0.984446  0.143997   \n",
       "7586   2010/10/9 0:00  0.720825  1.233905  0.744131  0.980344  0.143993   \n",
       "7587  2010/10/10 0:00  0.720825  1.233905  0.744131  0.980344  0.143993   \n",
       "\n",
       "             5         6        OT  \n",
       "0     0.006838  0.525486  0.593000  \n",
       "1     0.006863  0.523972  0.594000  \n",
       "2     0.006975  0.526316  0.597300  \n",
       "3     0.006953  0.523834  0.597000  \n",
       "4     0.006940  0.527426  0.598500  \n",
       "...        ...       ...       ...  \n",
       "7583  0.008500  0.688565  0.690846  \n",
       "7584  0.008595  0.690288  0.695701  \n",
       "7585  0.008562  0.691419  0.695943  \n",
       "7586  0.008555  0.690942  0.692689  \n",
       "7587  0.008555  0.690942  0.692689  \n",
       "\n",
       "[7588 rows x 9 columns]"
      ]
     },
     "execution_count": 5,
     "metadata": {},
     "output_type": "execute_result"
    }
   ],
   "source": [
    "exchange"
   ]
  },
  {
   "cell_type": "code",
   "execution_count": 6,
   "id": "63ca513a",
   "metadata": {},
   "outputs": [],
   "source": [
    "def batcher_bc(array, n_C, n_T, batch_size=32):\n",
    "    t = []\n",
    "    y = []\n",
    "    for i in range(batch_size):\n",
    "        index = int(np.random.randint(0, array.shape[0] - n_C - n_T, 1))\n",
    "        t_context =  array[index:index + n_C , 0]\n",
    "        t_context = np.repeat(t_context, array.shape[1] - 1)[:, np.newaxis]\n",
    "        t_target = array[index + n_C:index + n_C + n_T, 0]\n",
    "        t_target = np.repeat(t_target, array.shape[1] - 1)[:, np.newaxis]\n",
    "        \n",
    "        y_temp_context = array[index:index + n_C , 1]\n",
    "        y_temp_target = array[index + n_C:index + n_C + n_T, 1]\n",
    "        y_temp_all = np.concatenate([y_temp_context, y_temp_target], axis=0)\n",
    "        t_all = np.concatenate([t_context, t_target], axis=0)\n",
    "        for i in range(2, array.shape[1]):\n",
    "            y_temp_all = np.concatenate([y_temp_all, array[index:index + n_C + n_T, i]], axis=0)\n",
    "\n",
    "        t.append(t_all)\n",
    "        y.append(y_temp_all)\n",
    "    return np.array(y), np.array(t)"
   ]
  },
  {
   "cell_type": "code",
   "execution_count": 7,
   "id": "5ecd1e14",
   "metadata": {},
   "outputs": [],
   "source": [
    "x_train, y_train, x_val, y_val, x_test, y_test = dataset_preparer.dataset_processor(\"datasets/exchange.csv\") \n"
   ]
  },
  {
   "cell_type": "code",
   "execution_count": 8,
   "id": "016385cf",
   "metadata": {},
   "outputs": [
    {
     "data": {
      "text/plain": [
       "(5235, 1, 1)"
      ]
     },
     "execution_count": 8,
     "metadata": {},
     "output_type": "execute_result"
    }
   ],
   "source": [
    "y_train.shape"
   ]
  },
  {
   "cell_type": "code",
   "execution_count": 9,
   "id": "65a7213b",
   "metadata": {},
   "outputs": [],
   "source": [
    "save_dir = 'weights/forecasting/exchange/multivariate'"
   ]
  },
  {
   "cell_type": "code",
   "execution_count": 15,
   "id": "70fa5637",
   "metadata": {},
   "outputs": [],
   "source": [
    "\n",
    "run = 2\n",
    "tr_step = atp_graph.build_graph()\n",
    "model = atp_pipeline.atp_pipeline(multiply=8)\n",
    "###### can we put the name of the model into the folder name #########?\n",
    "\n",
    "name_comp = 'run_' + str(run)\n",
    "folder = save_dir + '/ckpt/check_' + name_comp\n",
    "if not os.path.exists(folder): os.mkdir(folder)\n",
    "opt = tf.keras.optimizers.Adam(3e-4)\n",
    "ckpt = tf.train.Checkpoint(step=tf.Variable(1), optimizer=opt, net=model)\n",
    "manager = tf.train.CheckpointManager(ckpt, folder, max_to_keep=1)\n",
    "ckpt.restore(manager.latest_checkpoint) \n",
    "sum_mse_tot = 0; sum_nll_tot = 0\n",
    "mini = 50000"
   ]
  },
  {
   "cell_type": "code",
   "execution_count": 16,
   "id": "2a73b5ff",
   "metadata": {},
   "outputs": [],
   "source": [
    "n_C, n_T = 96, 96"
   ]
  },
  {
   "cell_type": "code",
   "execution_count": 17,
   "id": "7203fdb6",
   "metadata": {},
   "outputs": [
    {
     "data": {
      "image/png": "[encoded data removed]",
      "text/plain": [
       "<Figure size 432x288 with 1 Axes>"
      ]
     },
     "metadata": {
      "needs_background": "light"
     },
     "output_type": "display_data"
    }
   ],
   "source": [
    "tr_loss = [] ; val_loss = []\n",
    "n_C2 = n_C * 8\n",
    "n_T2 = n_T * 8\n",
    "batch_s = 32\n",
    "for i in range(2000):\n",
    "    x, y = batcher_bc(array[:5000, :], n_C, n_T) \n",
    "    y_re = np.concatenate([y[:, n_C2 + n_T * i:n_C2+(n_T * (i +1))] for i in range(8)], axis=-1)\n",
    "    y_re = y_re.reshape(batch_s, -1, 1)\n",
    "    _,_, nll_pp_tr, _ = tr_step(model, opt, x[:, :, np.newaxis], y, n_C, n_T, training=True, multiple=8, y_re=y_re)\n",
    "    \n",
    "    \n",
    "    if (i+1) % 100 == 0:\n",
    "        x, y = batcher_bc(array[5000:6000, :], n_C, n_T) \n",
    "        y_re = np.concatenate([y[:, n_C2 + n_T * i:n_C2+(n_T * (i +1))] for i in range(8)], axis=-1)\n",
    "        y_re = y_re.reshape(batch_s, -1, 1)\n",
    "        mu, log_sigma = model([x[:, :, np.newaxis], y, n_C, n_T, False]) \n",
    "        _, _, _, nll_pp_val, mse = losses.nll(y_re, mu, log_sigma)\n",
    "        if nll_pp_val.numpy() < mini:\n",
    "            ckpt.step.assign_add(1)\n",
    "            save_path = manager.save()\n",
    "            print(\"Saved checkpoint for step {}: {}\".format(int(ckpt.step), save_path))\n",
    "            print(\"loss {:1.2f}\".format(nll_pp_tr.numpy()))\n",
    "        tr_loss.append(nll_pp_tr.numpy())\n",
    "        val_loss.append(nll_pp_val.numpy())\n",
    "        IPython.display.clear_output(wait=True)\n",
    "        plt.plot(tr_loss)\n",
    "        plt.plot(val_loss)\n",
    "        plt.show()"
   ]
  },
  {
   "cell_type": "code",
   "execution_count": 22,
   "id": "e13d6ce9",
   "metadata": {},
   "outputs": [
    {
     "data": {
      "text/plain": [
       "<tf.Tensor: shape=(), dtype=float32, numpy=9.765955e-05>"
      ]
     },
     "execution_count": 22,
     "metadata": {},
     "output_type": "execute_result"
    }
   ],
   "source": [
    "mse"
   ]
  },
  {
   "cell_type": "code",
   "execution_count": 17,
   "id": "758f7fb4",
   "metadata": {},
   "outputs": [],
   "source": [
    "a = tf.constant([[5,5,5,5,5]], dtype=tf.float32)"
   ]
  },
  {
   "cell_type": "code",
   "execution_count": 18,
   "id": "b2065b3c",
   "metadata": {},
   "outputs": [
    {
     "data": {
      "text/plain": [
       "<tf.Tensor: shape=(1, 5), dtype=float32, numpy=array([[5., 5., 5., 5., 5.]], dtype=float32)>"
      ]
     },
     "execution_count": 18,
     "metadata": {},
     "output_type": "execute_result"
    }
   ],
   "source": [
    "a"
   ]
  },
  {
   "cell_type": "code",
   "execution_count": 42,
   "id": "29960cd0",
   "metadata": {},
   "outputs": [
    {
     "data": {
      "text/plain": [
       "<tf.Tensor: shape=(1, 3), dtype=int64, numpy=array([[0, 2, 4]])>"
      ]
     },
     "execution_count": 42,
     "metadata": {},
     "output_type": "execute_result"
    }
   ],
   "source": [
    "tf.random.categorical(a, 3)"
   ]
  },
  {
   "cell_type": "code",
   "execution_count": 58,
   "id": "64998ee1",
   "metadata": {},
   "outputs": [
    {
     "data": {
      "text/plain": [
       "<tf.Tensor: shape=(20,), dtype=int32, numpy=\n",
       "array([1, 1, 1, 1, 1, 1, 1, 1, 1, 1, 1, 1, 1, 1, 1, 1, 1, 1, 1, 1],\n",
       "      dtype=int32)>"
      ]
     },
     "execution_count": 58,
     "metadata": {},
     "output_type": "execute_result"
    }
   ],
   "source": [
    "tf.repeat([1], 20)"
   ]
  },
  {
   "cell_type": "code",
   "execution_count": 64,
   "id": "81b4c0ff",
   "metadata": {},
   "outputs": [
    {
     "data": {
      "text/plain": [
       "<tf.Tensor: shape=(1,), dtype=int32, numpy=array([5], dtype=int32)>"
      ]
     },
     "execution_count": 64,
     "metadata": {},
     "output_type": "execute_result"
    }
   ],
   "source": []
  },
  {
   "cell_type": "code",
   "execution_count": 2,
   "id": "86080db5",
   "metadata": {},
   "outputs": [],
   "source": [
    "x_train, y_train, x_val, y_val, x_test, y_test = dataset_preparer.dataset_processor(path_to_data=\"datasets/ETTm2.csv\") \n"
   ]
  },
  {
   "cell_type": "code",
   "execution_count": 3,
   "id": "42516203",
   "metadata": {},
   "outputs": [],
   "source": [
    "from data_wrangler import batcher"
   ]
  },
  {
   "cell_type": "code",
   "execution_count": 4,
   "id": "8516b259",
   "metadata": {},
   "outputs": [
    {
     "name": "stdout",
     "output_type": "stream",
     "text": [
      "length of idx list: 48054\n"
     ]
    }
   ],
   "source": [
    "idx_list = list(np.arange(0, x_train.shape[0] - 25, 1))\n",
    "x, y, _, _ = batcher.batcher(x_train, y_train, idx_list=idx_list, window=70)\n"
   ]
  },
  {
   "cell_type": "code",
   "execution_count": 5,
   "id": "a7c33dc4",
   "metadata": {},
   "outputs": [
    {
     "name": "stdout",
     "output_type": "stream",
     "text": [
      "Metal device set to: Apple M1 Max\n",
      "\n",
      "systemMemory: 64.00 GB\n",
      "maxCacheSize: 24.00 GB\n",
      "\n"
     ]
    },
    {
     "name": "stderr",
     "output_type": "stream",
     "text": [
      "2023-05-22 13:08:13.695340: I tensorflow/core/common_runtime/pluggable_device/pluggable_device_factory.cc:305] Could not identify NUMA node of platform GPU ID 0, defaulting to 0. Your kernel may not have been built with NUMA support.\n",
      "2023-05-22 13:08:13.695491: I tensorflow/core/common_runtime/pluggable_device/pluggable_device_factory.cc:271] Created TensorFlow device (/job:localhost/replica:0/task:0/device:GPU:0 with 0 MB memory) -> physical PluggableDevice (device: 0, name: METAL, pci bus id: <undefined>)\n"
     ]
    }
   ],
   "source": [
    "a = atp_pipeline.atp_pipeline(multiply=1)"
   ]
  },
  {
   "cell_type": "code",
   "execution_count": 6,
   "id": "c3333c89",
   "metadata": {},
   "outputs": [
    {
     "name": "stdout",
     "output_type": "stream",
     "text": [
      "tf.Tensor(15, shape=(), dtype=int32) tf.Tensor(17, shape=(), dtype=int32)\n",
      "(11,) (10,)\n",
      "mask shape: (21, 21)\n",
      "current_x.shape (32, 11, 1, 1)\n",
      "current_y.shape (32, 11, 1, 1)\n",
      "x_values.shape (32, 21, 1)\n",
      "x_temp.shape (32, 11, 11, 1)\n"
     ]
    },
    {
     "data": {
      "text/plain": [
       "(<tf.Tensor: shape=(32, 10, 1), dtype=float32, numpy=\n",
       " array([[[-8.137888  ],\n",
       "         [-9.352283  ],\n",
       "         [-8.224017  ],\n",
       "         [-8.188688  ],\n",
       "         [-7.610757  ],\n",
       "         [-6.4798527 ],\n",
       "         [-6.3099003 ],\n",
       "         [-8.248194  ],\n",
       "         [-7.409078  ],\n",
       "         [-8.542721  ]],\n",
       " \n",
       "        [[-7.917127  ],\n",
       "         [-7.857571  ],\n",
       "         [-7.5110245 ],\n",
       "         [-6.9490666 ],\n",
       "         [-7.3059573 ],\n",
       "         [-6.7908483 ],\n",
       "         [-7.9504566 ],\n",
       "         [-6.6682014 ],\n",
       "         [-7.9812503 ],\n",
       "         [-7.278165  ]],\n",
       " \n",
       "        [[-3.9570374 ],\n",
       "         [-3.0392778 ],\n",
       "         [-4.3583403 ],\n",
       "         [-3.1573086 ],\n",
       "         [-4.437545  ],\n",
       "         [-4.0602746 ],\n",
       "         [-5.0663476 ],\n",
       "         [-2.3821726 ],\n",
       "         [-3.7942734 ],\n",
       "         [-3.5647173 ]],\n",
       " \n",
       "        [[-3.7544925 ],\n",
       "         [ 0.91426885],\n",
       "         [-0.97757816],\n",
       "         [-1.4065676 ],\n",
       "         [-2.0419464 ],\n",
       "         [-4.241762  ],\n",
       "         [-1.7011049 ],\n",
       "         [-1.7022653 ],\n",
       "         [-3.9136174 ],\n",
       "         [-0.6759417 ]],\n",
       " \n",
       "        [[-6.591833  ],\n",
       "         [-7.3495355 ],\n",
       "         [-6.529152  ],\n",
       "         [-6.700514  ],\n",
       "         [-6.8537645 ],\n",
       "         [-6.476411  ],\n",
       "         [-7.9974236 ],\n",
       "         [-6.366308  ],\n",
       "         [-6.526422  ],\n",
       "         [-6.0587606 ]],\n",
       " \n",
       "        [[-6.463586  ],\n",
       "         [-7.1759057 ],\n",
       "         [-6.2977057 ],\n",
       "         [-7.2091002 ],\n",
       "         [-6.858134  ],\n",
       "         [-6.101726  ],\n",
       "         [-6.7021265 ],\n",
       "         [-6.498759  ],\n",
       "         [-6.752694  ],\n",
       "         [-6.5394545 ]],\n",
       " \n",
       "        [[-2.6400588 ],\n",
       "         [-6.8066506 ],\n",
       "         [-7.7367697 ],\n",
       "         [-5.070415  ],\n",
       "         [-5.240503  ],\n",
       "         [-4.02162   ],\n",
       "         [-4.938269  ],\n",
       "         [-5.180556  ],\n",
       "         [-5.9250445 ],\n",
       "         [-6.3185654 ]],\n",
       " \n",
       "        [[-5.6196585 ],\n",
       "         [-5.012499  ],\n",
       "         [-3.3834102 ],\n",
       "         [-5.2604775 ],\n",
       "         [-5.04314   ],\n",
       "         [-3.8933084 ],\n",
       "         [-5.805179  ],\n",
       "         [-4.525127  ],\n",
       "         [-5.2807994 ],\n",
       "         [-4.594265  ]],\n",
       " \n",
       "        [[-5.910404  ],\n",
       "         [-6.8581247 ],\n",
       "         [-6.627734  ],\n",
       "         [-7.0469007 ],\n",
       "         [-6.05293   ],\n",
       "         [-6.831628  ],\n",
       "         [-6.7880116 ],\n",
       "         [-7.3410416 ],\n",
       "         [-7.0655146 ],\n",
       "         [-7.4402823 ]],\n",
       " \n",
       "        [[-7.464862  ],\n",
       "         [-6.902082  ],\n",
       "         [-7.127561  ],\n",
       "         [-6.450721  ],\n",
       "         [-7.410924  ],\n",
       "         [-5.4016576 ],\n",
       "         [-5.9915767 ],\n",
       "         [-5.9027467 ],\n",
       "         [-7.921854  ],\n",
       "         [-7.199977  ]],\n",
       " \n",
       "        [[-5.5434403 ],\n",
       "         [-4.7768435 ],\n",
       "         [-5.5733604 ],\n",
       "         [-5.8334513 ],\n",
       "         [-6.0035963 ],\n",
       "         [-6.816751  ],\n",
       "         [-6.0826974 ],\n",
       "         [-5.91188   ],\n",
       "         [-6.0922747 ],\n",
       "         [-7.0210185 ]],\n",
       " \n",
       "        [[-6.8865223 ],\n",
       "         [-7.057302  ],\n",
       "         [-7.89621   ],\n",
       "         [-7.092107  ],\n",
       "         [-7.312593  ],\n",
       "         [-6.859379  ],\n",
       "         [-7.897858  ],\n",
       "         [-7.6293163 ],\n",
       "         [-7.4304852 ],\n",
       "         [-7.727775  ]],\n",
       " \n",
       "        [[-7.3713274 ],\n",
       "         [-8.056385  ],\n",
       "         [-7.4692917 ],\n",
       "         [-7.6042805 ],\n",
       "         [-8.506918  ],\n",
       "         [-7.868501  ],\n",
       "         [-7.756955  ],\n",
       "         [-7.4953933 ],\n",
       "         [-7.988883  ],\n",
       "         [-7.7044425 ]],\n",
       " \n",
       "        [[-7.973334  ],\n",
       "         [-7.054891  ],\n",
       "         [-6.753386  ],\n",
       "         [-6.841451  ],\n",
       "         [-6.532477  ],\n",
       "         [-7.156008  ],\n",
       "         [-6.4824986 ],\n",
       "         [-7.5195374 ],\n",
       "         [-7.06031   ],\n",
       "         [-7.2704325 ]],\n",
       " \n",
       "        [[-7.5784    ],\n",
       "         [-6.420275  ],\n",
       "         [-7.0349336 ],\n",
       "         [-6.4138308 ],\n",
       "         [-7.5032687 ],\n",
       "         [-7.1460557 ],\n",
       "         [-6.5062304 ],\n",
       "         [-6.949101  ],\n",
       "         [-5.0066776 ],\n",
       "         [-6.418346  ]],\n",
       " \n",
       "        [[-5.334318  ],\n",
       "         [-3.3744524 ],\n",
       "         [-4.0306945 ],\n",
       "         [-4.517805  ],\n",
       "         [-3.9020813 ],\n",
       "         [-3.7257867 ],\n",
       "         [-3.4566677 ],\n",
       "         [-3.5708668 ],\n",
       "         [-3.989696  ],\n",
       "         [-3.6487586 ]],\n",
       " \n",
       "        [[-5.3273516 ],\n",
       "         [-6.0973263 ],\n",
       "         [-5.7516212 ],\n",
       "         [-6.007079  ],\n",
       "         [-5.3784566 ],\n",
       "         [-6.451916  ],\n",
       "         [-5.3931446 ],\n",
       "         [-5.7297163 ],\n",
       "         [-6.515071  ],\n",
       "         [-6.317069  ]],\n",
       " \n",
       "        [[-5.218289  ],\n",
       "         [-5.4739904 ],\n",
       "         [-6.051874  ],\n",
       "         [-5.4829497 ],\n",
       "         [-3.8727958 ],\n",
       "         [-4.1484694 ],\n",
       "         [-4.500834  ],\n",
       "         [-4.8121758 ],\n",
       "         [-5.425046  ],\n",
       "         [-4.3562446 ]],\n",
       " \n",
       "        [[-6.183619  ],\n",
       "         [-7.2634377 ],\n",
       "         [-6.074549  ],\n",
       "         [-7.7288785 ],\n",
       "         [-7.1265383 ],\n",
       "         [-7.5506144 ],\n",
       "         [-6.647923  ],\n",
       "         [-8.128099  ],\n",
       "         [-6.834149  ],\n",
       "         [-6.6364717 ]],\n",
       " \n",
       "        [[-9.154332  ],\n",
       "         [-7.7296076 ],\n",
       "         [-7.621783  ],\n",
       "         [-7.8756733 ],\n",
       "         [-8.101898  ],\n",
       "         [-7.023807  ],\n",
       "         [-8.063111  ],\n",
       "         [-8.468551  ],\n",
       "         [-6.458263  ],\n",
       "         [-9.132764  ]],\n",
       " \n",
       "        [[-7.2523417 ],\n",
       "         [-7.4231415 ],\n",
       "         [-7.239292  ],\n",
       "         [-6.9799356 ],\n",
       "         [-7.6286564 ],\n",
       "         [-7.8490415 ],\n",
       "         [-7.184162  ],\n",
       "         [-7.3847003 ],\n",
       "         [-6.337815  ],\n",
       "         [-7.5272946 ]],\n",
       " \n",
       "        [[-6.6409063 ],\n",
       "         [-6.2186475 ],\n",
       "         [-5.6473436 ],\n",
       "         [-6.2184954 ],\n",
       "         [-6.1714153 ],\n",
       "         [-6.1650953 ],\n",
       "         [-5.8863025 ],\n",
       "         [-5.378655  ],\n",
       "         [-5.606394  ],\n",
       "         [-5.878104  ]],\n",
       " \n",
       "        [[-5.4663987 ],\n",
       "         [-4.3249893 ],\n",
       "         [-6.727952  ],\n",
       "         [-5.900712  ],\n",
       "         [-4.6898375 ],\n",
       "         [-6.287901  ],\n",
       "         [-6.2427216 ],\n",
       "         [-5.6492114 ],\n",
       "         [-5.4069386 ],\n",
       "         [-6.189225  ]],\n",
       " \n",
       "        [[-7.391658  ],\n",
       "         [-6.3994546 ],\n",
       "         [-7.8547072 ],\n",
       "         [-6.512836  ],\n",
       "         [-7.166154  ],\n",
       "         [-7.35311   ],\n",
       "         [-5.849091  ],\n",
       "         [-6.0700927 ],\n",
       "         [-6.207227  ],\n",
       "         [-6.9988604 ]],\n",
       " \n",
       "        [[-6.840252  ],\n",
       "         [-6.754897  ],\n",
       "         [-6.9367027 ],\n",
       "         [-7.2101917 ],\n",
       "         [-4.1662188 ],\n",
       "         [-7.4697914 ],\n",
       "         [-7.440228  ],\n",
       "         [-7.120839  ],\n",
       "         [-7.846566  ],\n",
       "         [-6.9357996 ]],\n",
       " \n",
       "        [[-7.84775   ],\n",
       "         [-6.664545  ],\n",
       "         [-6.7225065 ],\n",
       "         [-7.0259447 ],\n",
       "         [-6.595538  ],\n",
       "         [-7.0247    ],\n",
       "         [-5.596095  ],\n",
       "         [-5.9133224 ],\n",
       "         [-5.631412  ],\n",
       "         [-6.767833  ]],\n",
       " \n",
       "        [[-7.1007833 ],\n",
       "         [-6.841272  ],\n",
       "         [-7.241983  ],\n",
       "         [-7.593923  ],\n",
       "         [-7.451842  ],\n",
       "         [-7.489767  ],\n",
       "         [-8.166356  ],\n",
       "         [-7.4952602 ],\n",
       "         [-8.112204  ],\n",
       "         [-6.7058935 ]],\n",
       " \n",
       "        [[-3.3101404 ],\n",
       "         [-3.083624  ],\n",
       "         [-0.10635161],\n",
       "         [-4.0106206 ],\n",
       "         [-3.323452  ],\n",
       "         [-0.5697973 ],\n",
       "         [-2.956134  ],\n",
       "         [-0.70433116],\n",
       "         [-0.41866732],\n",
       "         [-2.311391  ]],\n",
       " \n",
       "        [[-7.74387   ],\n",
       "         [-6.4102345 ],\n",
       "         [-7.249029  ],\n",
       "         [-7.14723   ],\n",
       "         [-7.3664083 ],\n",
       "         [-5.3095512 ],\n",
       "         [-7.161372  ],\n",
       "         [-7.9820457 ],\n",
       "         [-7.073344  ],\n",
       "         [-7.3851476 ]],\n",
       " \n",
       "        [[-6.89418   ],\n",
       "         [-7.0331182 ],\n",
       "         [-6.849974  ],\n",
       "         [-7.125712  ],\n",
       "         [-6.1362653 ],\n",
       "         [-6.910731  ],\n",
       "         [-6.8185325 ],\n",
       "         [-7.149193  ],\n",
       "         [-7.646974  ],\n",
       "         [-6.597434  ]],\n",
       " \n",
       "        [[-5.551607  ],\n",
       "         [-4.4002028 ],\n",
       "         [-5.988535  ],\n",
       "         [-6.1545033 ],\n",
       "         [-5.775601  ],\n",
       "         [-6.0509562 ],\n",
       "         [-5.913622  ],\n",
       "         [-5.842194  ],\n",
       "         [-6.130928  ],\n",
       "         [-5.8343086 ]],\n",
       " \n",
       "        [[-6.3301816 ],\n",
       "         [-6.8911424 ],\n",
       "         [-5.9414115 ],\n",
       "         [-7.272476  ],\n",
       "         [-6.146118  ],\n",
       "         [-5.4758825 ],\n",
       "         [-6.05877   ],\n",
       "         [-4.990872  ],\n",
       "         [-6.8060393 ],\n",
       "         [-7.3010163 ]]], dtype=float32)>,\n",
       " <tf.Tensor: shape=(32, 10, 1), dtype=float32, numpy=\n",
       " array([[[-5.849921  ],\n",
       "         [-5.850664  ],\n",
       "         [-5.9944353 ],\n",
       "         [-6.1952257 ],\n",
       "         [-5.709421  ],\n",
       "         [-5.760336  ],\n",
       "         [-5.3703995 ],\n",
       "         [-6.087878  ],\n",
       "         [-5.4743786 ],\n",
       "         [-6.113784  ]],\n",
       " \n",
       "        [[-5.0079803 ],\n",
       "         [-5.2871933 ],\n",
       "         [-4.646795  ],\n",
       "         [-4.6311584 ],\n",
       "         [-4.785514  ],\n",
       "         [-5.0139284 ],\n",
       "         [-4.867691  ],\n",
       "         [-4.5712585 ],\n",
       "         [-4.6345205 ],\n",
       "         [-4.6599226 ]],\n",
       " \n",
       "        [[-2.0587463 ],\n",
       "         [-1.6876774 ],\n",
       "         [-2.2299101 ],\n",
       "         [-1.7374148 ],\n",
       "         [-2.5332048 ],\n",
       "         [-2.3859916 ],\n",
       "         [-2.9787009 ],\n",
       "         [-1.4220479 ],\n",
       "         [-2.2097592 ],\n",
       "         [-2.0468037 ]],\n",
       " \n",
       "        [[-2.9901733 ],\n",
       "         [-0.8193088 ],\n",
       "         [-0.70489174],\n",
       "         [-1.0904574 ],\n",
       "         [-1.4476616 ],\n",
       "         [-3.1728673 ],\n",
       "         [-1.4817295 ],\n",
       "         [-1.4970685 ],\n",
       "         [-2.726443  ],\n",
       "         [-1.0350666 ]],\n",
       " \n",
       "        [[-6.215172  ],\n",
       "         [-6.2802114 ],\n",
       "         [-6.1969814 ],\n",
       "         [-5.9771957 ],\n",
       "         [-6.260769  ],\n",
       "         [-6.129467  ],\n",
       "         [-6.8099174 ],\n",
       "         [-6.436986  ],\n",
       "         [-6.2867613 ],\n",
       "         [-6.2104464 ]],\n",
       " \n",
       "        [[-5.6568956 ],\n",
       "         [-6.402299  ],\n",
       "         [-5.7213516 ],\n",
       "         [-6.3666105 ],\n",
       "         [-5.8821135 ],\n",
       "         [-5.83473   ],\n",
       "         [-5.9587893 ],\n",
       "         [-5.803293  ],\n",
       "         [-5.941674  ],\n",
       "         [-5.846284  ]],\n",
       " \n",
       "        [[-3.2236035 ],\n",
       "         [-4.192675  ],\n",
       "         [-4.1532526 ],\n",
       "         [-3.040103  ],\n",
       "         [-3.6415896 ],\n",
       "         [-3.5193462 ],\n",
       "         [-3.19713   ],\n",
       "         [-3.1270132 ],\n",
       "         [-3.3700426 ],\n",
       "         [-3.1999981 ]],\n",
       " \n",
       "        [[-3.880535  ],\n",
       "         [-3.6719599 ],\n",
       "         [-2.6355193 ],\n",
       "         [-3.5756602 ],\n",
       "         [-4.2927313 ],\n",
       "         [-3.4476295 ],\n",
       "         [-3.6090903 ],\n",
       "         [-3.3292189 ],\n",
       "         [-3.2726378 ],\n",
       "         [-3.5212176 ]],\n",
       " \n",
       "        [[-5.7207603 ],\n",
       "         [-6.1522493 ],\n",
       "         [-6.1713433 ],\n",
       "         [-6.146805  ],\n",
       "         [-5.747218  ],\n",
       "         [-5.815815  ],\n",
       "         [-6.3482394 ],\n",
       "         [-6.409826  ],\n",
       "         [-6.272294  ],\n",
       "         [-6.2159085 ]],\n",
       " \n",
       "        [[-7.075654  ],\n",
       "         [-6.6682425 ],\n",
       "         [-6.631464  ],\n",
       "         [-6.931423  ],\n",
       "         [-6.8899546 ],\n",
       "         [-6.436282  ],\n",
       "         [-6.7172694 ],\n",
       "         [-7.0401025 ],\n",
       "         [-7.379466  ],\n",
       "         [-6.5184755 ]],\n",
       " \n",
       "        [[-6.897421  ],\n",
       "         [-6.820442  ],\n",
       "         [-6.6276255 ],\n",
       "         [-6.482891  ],\n",
       "         [-6.702468  ],\n",
       "         [-7.4237003 ],\n",
       "         [-6.634033  ],\n",
       "         [-6.7348127 ],\n",
       "         [-6.6794577 ],\n",
       "         [-7.7092543 ]],\n",
       " \n",
       "        [[-6.246262  ],\n",
       "         [-6.3473897 ],\n",
       "         [-6.2760696 ],\n",
       "         [-6.031014  ],\n",
       "         [-6.4562593 ],\n",
       "         [-5.926112  ],\n",
       "         [-6.354319  ],\n",
       "         [-6.122164  ],\n",
       "         [-6.3707037 ],\n",
       "         [-6.6505566 ]],\n",
       " \n",
       "        [[-5.6027856 ],\n",
       "         [-5.7127647 ],\n",
       "         [-5.736389  ],\n",
       "         [-5.7737036 ],\n",
       "         [-6.3218565 ],\n",
       "         [-5.8523746 ],\n",
       "         [-6.266057  ],\n",
       "         [-5.7671347 ],\n",
       "         [-6.4095554 ],\n",
       "         [-5.6456623 ]],\n",
       " \n",
       "        [[-6.067357  ],\n",
       "         [-6.340603  ],\n",
       "         [-6.2016993 ],\n",
       "         [-6.224298  ],\n",
       "         [-6.222682  ],\n",
       "         [-6.1709523 ],\n",
       "         [-5.9614697 ],\n",
       "         [-6.1649237 ],\n",
       "         [-6.0862827 ],\n",
       "         [-6.2409315 ]],\n",
       " \n",
       "        [[-6.993335  ],\n",
       "         [-6.7935452 ],\n",
       "         [-6.948125  ],\n",
       "         [-6.920609  ],\n",
       "         [-7.0167003 ],\n",
       "         [-7.1001334 ],\n",
       "         [-6.8632665 ],\n",
       "         [-7.3587813 ],\n",
       "         [-6.8936453 ],\n",
       "         [-7.3219223 ]],\n",
       " \n",
       "        [[-4.4292364 ],\n",
       "         [-3.8475296 ],\n",
       "         [-4.196929  ],\n",
       "         [-5.0446863 ],\n",
       "         [-4.471448  ],\n",
       "         [-4.4616394 ],\n",
       "         [-4.1186023 ],\n",
       "         [-4.4025197 ],\n",
       "         [-4.3724256 ],\n",
       "         [-4.282917  ]],\n",
       " \n",
       "        [[-6.494996  ],\n",
       "         [-6.0957355 ],\n",
       "         [-6.3784657 ],\n",
       "         [-6.555697  ],\n",
       "         [-6.101266  ],\n",
       "         [-6.641034  ],\n",
       "         [-6.1922455 ],\n",
       "         [-6.2733107 ],\n",
       "         [-6.5167236 ],\n",
       "         [-6.451356  ]],\n",
       " \n",
       "        [[-5.193527  ],\n",
       "         [-4.979824  ],\n",
       "         [-5.401321  ],\n",
       "         [-4.600218  ],\n",
       "         [-4.8554773 ],\n",
       "         [-4.5135765 ],\n",
       "         [-4.949598  ],\n",
       "         [-4.9263134 ],\n",
       "         [-5.0352693 ],\n",
       "         [-4.7359915 ]],\n",
       " \n",
       "        [[-6.715872  ],\n",
       "         [-6.821615  ],\n",
       "         [-6.692218  ],\n",
       "         [-7.5027847 ],\n",
       "         [-7.3234987 ],\n",
       "         [-6.8603916 ],\n",
       "         [-7.2326107 ],\n",
       "         [-7.100251  ],\n",
       "         [-6.7154202 ],\n",
       "         [-6.9899645 ]],\n",
       " \n",
       "        [[-6.4012346 ],\n",
       "         [-5.797824  ],\n",
       "         [-5.857229  ],\n",
       "         [-5.71012   ],\n",
       "         [-5.841438  ],\n",
       "         [-5.8686676 ],\n",
       "         [-5.712203  ],\n",
       "         [-5.9230204 ],\n",
       "         [-5.6384764 ],\n",
       "         [-6.135889  ]],\n",
       " \n",
       "        [[-5.794319  ],\n",
       "         [-6.3039484 ],\n",
       "         [-5.767027  ],\n",
       "         [-5.8449154 ],\n",
       "         [-5.88664   ],\n",
       "         [-6.519895  ],\n",
       "         [-5.8752785 ],\n",
       "         [-5.7426224 ],\n",
       "         [-5.5376053 ],\n",
       "         [-6.3468733 ]],\n",
       " \n",
       "        [[-6.2013474 ],\n",
       "         [-6.2526445 ],\n",
       "         [-6.4174976 ],\n",
       "         [-6.3277483 ],\n",
       "         [-6.271743  ],\n",
       "         [-6.538274  ],\n",
       "         [-6.3804083 ],\n",
       "         [-6.2981167 ],\n",
       "         [-6.4323483 ],\n",
       "         [-6.522109  ]],\n",
       " \n",
       "        [[-3.653143  ],\n",
       "         [-2.564944  ],\n",
       "         [-3.5125966 ],\n",
       "         [-3.5350718 ],\n",
       "         [-2.8413553 ],\n",
       "         [-3.3964467 ],\n",
       "         [-3.5112805 ],\n",
       "         [-3.1297452 ],\n",
       "         [-3.1736457 ],\n",
       "         [-3.7182226 ]],\n",
       " \n",
       "        [[-4.6255574 ],\n",
       "         [-4.3611298 ],\n",
       "         [-4.8563356 ],\n",
       "         [-4.618291  ],\n",
       "         [-4.712062  ],\n",
       "         [-4.4650507 ],\n",
       "         [-4.6629457 ],\n",
       "         [-4.0273805 ],\n",
       "         [-4.2537603 ],\n",
       "         [-4.353837  ]],\n",
       " \n",
       "        [[-4.733597  ],\n",
       "         [-4.35968   ],\n",
       "         [-4.4695816 ],\n",
       "         [-5.032102  ],\n",
       "         [-3.7514822 ],\n",
       "         [-4.5890164 ],\n",
       "         [-4.6020656 ],\n",
       "         [-4.595316  ],\n",
       "         [-4.656442  ],\n",
       "         [-4.072033  ]],\n",
       " \n",
       "        [[-5.5158124 ],\n",
       "         [-4.3144646 ],\n",
       "         [-4.265479  ],\n",
       "         [-4.1685104 ],\n",
       "         [-4.3381896 ],\n",
       "         [-4.443701  ],\n",
       "         [-3.6696749 ],\n",
       "         [-3.304274  ],\n",
       "         [-3.5884643 ],\n",
       "         [-4.3159184 ]],\n",
       " \n",
       "        [[-5.801662  ],\n",
       "         [-5.4959445 ],\n",
       "         [-5.8586173 ],\n",
       "         [-5.694799  ],\n",
       "         [-5.73691   ],\n",
       "         [-5.7599144 ],\n",
       "         [-5.7978983 ],\n",
       "         [-6.190921  ],\n",
       "         [-5.7350817 ],\n",
       "         [-5.6674976 ]],\n",
       " \n",
       "        [[-2.3948727 ],\n",
       "         [-2.4018707 ],\n",
       "         [-0.9976312 ],\n",
       "         [-2.8244183 ],\n",
       "         [-2.217561  ],\n",
       "         [-1.9722329 ],\n",
       "         [-2.5595345 ],\n",
       "         [-1.2260122 ],\n",
       "         [-1.254848  ],\n",
       "         [-2.2311416 ]],\n",
       " \n",
       "        [[-6.0929756 ],\n",
       "         [-6.141471  ],\n",
       "         [-6.462247  ],\n",
       "         [-6.151436  ],\n",
       "         [-6.176122  ],\n",
       "         [-5.9537745 ],\n",
       "         [-6.1515436 ],\n",
       "         [-6.29397   ],\n",
       "         [-5.9861174 ],\n",
       "         [-6.3967543 ]],\n",
       " \n",
       "        [[-5.7843046 ],\n",
       "         [-5.8728766 ],\n",
       "         [-6.0570164 ],\n",
       "         [-6.078271  ],\n",
       "         [-5.7666655 ],\n",
       "         [-5.83547   ],\n",
       "         [-5.864026  ],\n",
       "         [-5.7962103 ],\n",
       "         [-6.347233  ],\n",
       "         [-5.763753  ]],\n",
       " \n",
       "        [[-2.7432883 ],\n",
       "         [-1.742116  ],\n",
       "         [-2.3200345 ],\n",
       "         [-3.6980956 ],\n",
       "         [-2.4867148 ],\n",
       "         [-2.4839249 ],\n",
       "         [-2.3198152 ],\n",
       "         [-2.5053172 ],\n",
       "         [-2.5804896 ],\n",
       "         [-2.6478648 ]],\n",
       " \n",
       "        [[-6.078212  ],\n",
       "         [-6.392062  ],\n",
       "         [-6.461775  ],\n",
       "         [-6.9481277 ],\n",
       "         [-6.460045  ],\n",
       "         [-6.4071302 ],\n",
       "         [-6.573695  ],\n",
       "         [-6.448902  ],\n",
       "         [-6.4579477 ],\n",
       "         [-7.3034544 ]]], dtype=float32)>)"
      ]
     },
     "execution_count": 6,
     "metadata": {},
     "output_type": "execute_result"
    }
   ],
   "source": [
    "a([x, y, 25, 25, True])"
   ]
  },
  {
   "cell_type": "code",
   "execution_count": 97,
   "id": "a4704537",
   "metadata": {},
   "outputs": [
    {
     "data": {
      "text/plain": [
       "array([3], dtype=int32)"
      ]
     },
     "execution_count": 97,
     "metadata": {},
     "output_type": "execute_result"
    }
   ],
   "source": [
    "n_C_s."
   ]
  },
  {
   "cell_type": "code",
   "execution_count": null,
   "id": "d0a01a53",
   "metadata": {},
   "outputs": [],
   "source": [
    "        (32, 336, 432)\n",
    "x_temp shape (32, 336, 432, 1)\n",
    "x_current shape (32, 336, 1, 1)"
   ]
  },
  {
   "cell_type": "code",
   "execution_count": null,
   "id": "6fcc6c94",
   "metadata": {},
   "outputs": [],
   "source": [
    "x_mask_float_repeat.shape (32, 16, 25)\n",
    "current_x.shape (32, 6, 1, 1)\n",
    "x_temp.shape (32, 16, 15, 1)"
   ]
  },
  {
   "cell_type": "code",
   "execution_count": 7,
   "id": "c20e5cae",
   "metadata": {},
   "outputs": [],
   "source": [
    "from data_wrangler import feature_extractor"
   ]
  },
  {
   "cell_type": "code",
   "execution_count": 8,
   "id": "b1037cff",
   "metadata": {},
   "outputs": [],
   "source": [
    "f = feature_extractor.feature_wrapper()"
   ]
  },
  {
   "cell_type": "code",
   "execution_count": 9,
   "id": "a7295800",
   "metadata": {},
   "outputs": [
    {
     "name": "stdout",
     "output_type": "stream",
     "text": [
      "tf.Tensor(6, shape=(), dtype=int32) tf.Tensor(3, shape=(), dtype=int32)\n",
      "(4,) (1,)\n"
     ]
    }
   ],
   "source": [
    "x1, y1, n_C, n_T, idx_c, idx_t = f.subsample(x, y, 20, 10)\n"
   ]
  },
  {
   "cell_type": "code",
   "execution_count": 10,
   "id": "cc817dbe",
   "metadata": {},
   "outputs": [
    {
     "data": {
      "text/plain": [
       "TensorShape([32, 5, 1])"
      ]
     },
     "execution_count": 10,
     "metadata": {},
     "output_type": "execute_result"
    }
   ],
   "source": [
    "x1.shape"
   ]
  },
  {
   "cell_type": "code",
   "execution_count": 11,
   "id": "fe70319e",
   "metadata": {},
   "outputs": [
    {
     "data": {
      "text/plain": [
       "TensorShape([32, 5, 1])"
      ]
     },
     "execution_count": 11,
     "metadata": {},
     "output_type": "execute_result"
    }
   ],
   "source": [
    "y1.shape"
   ]
  },
  {
   "cell_type": "code",
   "execution_count": 12,
   "id": "5e5c6c3c",
   "metadata": {},
   "outputs": [
    {
     "data": {
      "text/plain": [
       "<tf.Tensor: shape=(), dtype=int32, numpy=1>"
      ]
     },
     "execution_count": 12,
     "metadata": {},
     "output_type": "execute_result"
    }
   ],
   "source": [
    "n_T"
   ]
  },
  {
   "cell_type": "code",
   "execution_count": 14,
   "id": "bec0e27a",
   "metadata": {},
   "outputs": [
    {
     "data": {
      "text/plain": [
       "<tf.Tensor: shape=(5,), dtype=int64, numpy=array([1, 2, 3, 5, 6])>"
      ]
     },
     "execution_count": 14,
     "metadata": {},
     "output_type": "execute_result"
    }
   ],
   "source": [
    "idx_t"
   ]
  },
  {
   "cell_type": "code",
   "execution_count": 15,
   "id": "71bb9f7b",
   "metadata": {},
   "outputs": [
    {
     "data": {
      "text/plain": [
       "<tf.Tensor: shape=(3,), dtype=int64, numpy=array([0, 2, 3])>"
      ]
     },
     "execution_count": 15,
     "metadata": {},
     "output_type": "execute_result"
    }
   ],
   "source": [
    "idx_c"
   ]
  },
  {
   "cell_type": "code",
   "execution_count": 29,
   "id": "22ceed67",
   "metadata": {},
   "outputs": [
    {
     "data": {
      "text/plain": [
       "array(['validation_losses_iteration_0.npy',\n",
       "       'validation_losses_iteration_1.npy',\n",
       "       'validation_losses_iteration_2.npy',\n",
       "       'validation_losses_iteration_3.npy',\n",
       "       'validation_losses_iteration_4.npy'], dtype='<U33')"
      ]
     },
     "execution_count": 29,
     "metadata": {},
     "output_type": "execute_result"
    }
   ],
   "source": [
    "np.sort(os.listdir('/Users/omernivron/Downloads/Taylorformer_docs/val_loss_gp/' + folder  + '/' + f))"
   ]
  },
  {
   "cell_type": "code",
   "execution_count": 45,
   "metadata": {},
   "outputs": [],
   "source": [
    "# plt.style.use('seaborn-whitegrid')\n",
    "import matplotlib.pyplot as plt\n",
    "plt.style.use('tableau-colorblind10')"
   ]
  },
  {
   "cell_type": "code",
   "execution_count": 88,
   "id": "3955e928",
   "metadata": {},
   "outputs": [
    {
     "name": "stdout",
     "output_type": "stream",
     "text": [
      "Taylorformer\n",
      "anp\n",
      "np\n",
      "tnp\n",
      "Taylorformer\n",
      "anp\n",
      "np\n",
      "tnp\n",
      "Taylorformer\n",
      "anp\n",
      "np\n",
      "tnp\n"
     ]
    },
    {
     "data": {
      "image/png": "[encoded data removed]",
      "text/plain": [
       "<Figure size 1440x720 with 3 Axes>"
      ]
     },
     "metadata": {},
     "output_type": "display_data"
    }
   ],
   "source": [
    "fig, ax = plt.subplots(1, 3, figsize=(20, 10))\n",
    "folders = os.listdir('/Users/omernivron/Downloads/Taylorformer_docs/val_loss_gp')\n",
    "folders.remove('.DS_Store')\n",
    "for ix, folder in enumerate(folders):\n",
    "   ## not including .DS_Store\n",
    "    # print(folder)\n",
    "    if folder.startswith('.DS'):\n",
    "        pass\n",
    "    else:\n",
    "        for f in os.listdir('/Users/omernivron/Downloads/Taylorformer_docs/val_loss_gp/' + folder):\n",
    "            # print(f)\n",
    "            if f.startswith('.DS'):\n",
    "                pass\n",
    "            else:\n",
    "                arr_t = np.load('/Users/omernivron/Downloads/Taylorformer_docs/val_loss_gp/' + folder + '/' + f +  '/' + 'validation_losses_iteration_0.npy', allow_pickle=True)\n",
    "                if f.split('_')[0] == 'atp':\n",
    "                    f = 'Taylorformer'  \n",
    "                print(f)\n",
    "                ax[ix].plot(arr_t, label=f.split('_')[0])\n",
    "                ax[ix].set_title(folder + ' kernel', fontsize=24)\n",
    "                ax[ix].set_ylim(-300, 300)\n",
    "                ax[ix].set_xlim(0, 500)\n",
    "                ax[ix].tick_params(axis='both', which='major', labelsize=20)\n",
    "                if ix==0:\n",
    "                    ax[ix].set_ylabel('Validation NLL', fontsize=24)\n",
    "   \n",
    "                    \n",
    "                if ix==1:\n",
    "                    ax[ix].set_xlabel('Iteration (x100)', fontsize=24)\n",
    "                if ix >=1:\n",
    "                    ax[ix].set_yticklabels([])\n",
    "                \n",
    "labels, handles = ax[ix].get_legend_handles_labels()\n",
    "handles = [handles[2], handles[1], handles[3],handles[0]]\n",
    "labels = [labels[2], labels[1], labels[3],labels[0]]\n",
    "ax[0].legend(labels, handles, fontsize=22, loc='lower right')\n",
    "plt.savefig('kernel_comparison.pdf')\n",
    "plt.show()"
   ]
  },
  {
   "cell_type": "code",
   "execution_count": null,
   "id": "59f22733",
   "metadata": {},
   "outputs": [],
   "source": []
  }
 ],
 "metadata": {
  "kernelspec": {
   "display_name": "Python 3 (ipykernel)",
   "language": "python",
   "name": "python3"
  },
  "language_info": {
   "codemirror_mode": {
    "name": "ipython",
    "version": 3
   },
   "file_extension": ".py",
   "mimetype": "text/x-python",
   "name": "python",
   "nbconvert_exporter": "python",
   "pygments_lexer": "ipython3",
   "version": "3.8.13"
  }
 },
 "nbformat": 4,
 "nbformat_minor": 5
}
