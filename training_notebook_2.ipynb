{
 "cells": [
  {
   "cell_type": "code",
   "execution_count": 15,
   "metadata": {},
   "outputs": [],
   "source": [
    "from model import atp_graph, losses\n",
    "from data import synthetic_data_gen, feature_extractor\n",
    "import keras\n",
    "import numpy as np\n",
    "import pandas as pd\n",
    "import tensorflow as tf\n",
    "from model import atp_pipeline\n",
    "from comparison_models.tnp import tnp_pipeline\n",
    "from data import dataset_preparer\n",
    "import argparse\n",
    "from Tutorials.helper import batcher\n",
    "import os"
   ]
  },
  {
   "cell_type": "code",
   "execution_count": 16,
   "metadata": {},
   "outputs": [],
   "source": [
    "dataset = \"weather\"\n",
    "model = \"atp\"\n",
    "iterations = 300\n",
    "num_repeats = 1\n",
    "n_C = 100\n",
    "n_T = 50"
   ]
  },
  {
   "cell_type": "code",
   "execution_count": 17,
   "metadata": {},
   "outputs": [],
   "source": [
    "\n",
    "\n",
    "if dataset == \"weather\":\n",
    "    x_train, y_train, x_val, y_val, x_test, y_test = dataset_preparer.weather_processor(path_to_weather_data=\"datasets/weather.csv\") \n",
    "    save_dir = \"weights/forecasting/weather\"\n",
    "\n",
    "\n",
    "batch_size = 32\n",
    "test_batch_s = 100\n",
    "\n",
    "nll_list = []\n",
    "mse_list = []\n",
    "\n",
    "for i in range(num_repeats):\n",
    "\n",
    "    step = 1\n",
    "    run= 50 + i\n",
    "    tf.random.set_seed(run)\n",
    "\n",
    "    if model == \"atp\":\n",
    "        model = atp_pipeline.instantiate_atp(dataset)\n",
    "\n",
    "    if model == \"tnp\":\n",
    "        model = tnp_pipeline.instantiate_tnp(dataset)\n",
    "\n",
    "    tr_step = atp_graph.build_graph()\n",
    "\n",
    "    ###### can we put the name of the model into the folder name #########?\n",
    "\n",
    "    name_comp = 'run_' + str(run)\n",
    "    folder = save_dir + '/ckpt/check_' + name_comp\n",
    "    if not os.path.exists(folder): os.mkdir(folder)\n",
    "    opt = tf.keras.optimizers.Adam(3e-4)\n",
    "    ckpt = tf.train.Checkpoint(step=tf.Variable(1), optimizer=opt, net=model)\n",
    "    manager = tf.train.CheckpointManager(ckpt, folder, max_to_keep=1)\n",
    "    ckpt.restore(manager.latest_checkpoint) \n",
    "    sum_mse_tot = 0; sum_nll_tot = 0\n",
    "    mini = 50000\n",
    "\n",
    "\n",
    "   \n",
    "\n"
   ]
  },
  {
   "cell_type": "code",
   "execution_count": 18,
   "metadata": {},
   "outputs": [],
   "source": [
    "import matplotlib.pyplot as plt"
   ]
  },
  {
   "cell_type": "code",
   "execution_count": 19,
   "metadata": {},
   "outputs": [],
   "source": [
    "array = []\n",
    "train_array = []"
   ]
  },
  {
   "cell_type": "code",
   "execution_count": 20,
   "metadata": {
    "scrolled": true
   },
   "outputs": [
    {
     "name": "stdout",
     "output_type": "stream",
     "text": [
      "Tensor(\"atp_pipeline_1/argsort/TopKV2:1\", shape=(1, 50), dtype=int32)\n",
      "Tensor(\"Const_2:0\", shape=(), dtype=bool)\n",
      "Tensor(\"atp_pipeline_1/argsort/TopKV2:1\", shape=(1, 50), dtype=int32)\n",
      "Tensor(\"Const_2:0\", shape=(), dtype=bool)\n"
     ]
    },
    {
     "name": "stderr",
     "output_type": "stream",
     "text": [
      "2023-05-03 21:39:05.436526: I tensorflow/core/grappler/optimizers/custom_graph_optimizer_registry.cc:113] Plugin optimizer for device_type GPU is enabled.\n"
     ]
    },
    {
     "name": "stdout",
     "output_type": "stream",
     "text": [
      "tf.Tensor(\n",
      "[[47 26 10 28  9 39  1 12 31 42 45 17 34 44 43  3 21 37 38 13 49 25 35 27\n",
      "  18  6  5 14 41  2 32 20 40 46 15 48 22 29 23 16  7 24 36 30 11  8  4 19\n",
      "  33  0]], shape=(1, 50), dtype=int32)\n",
      "tf.Tensor(False, shape=(), dtype=bool)\n"
     ]
    },
    {
     "data": {
      "image/png": "[encoded data removed]",
      "text/plain": [
       "<Figure size 432x288 with 1 Axes>"
      ]
     },
     "metadata": {
      "needs_background": "light"
     },
     "output_type": "display_data"
    },
    {
     "name": "stdout",
     "output_type": "stream",
     "text": [
      "tf.Tensor(-1.5040814, shape=(), dtype=float32)\n",
      "tf.Tensor(-1.5040814, shape=(), dtype=float32)\n"
     ]
    }
   ],
   "source": [
    "for i in range(50):\n",
    "    idx_list = list(range(x_train.shape[0] - (n_C+n_T)))\n",
    "    x,y,_ = batcher(x_train,y_train,idx_list,window=n_C+n_T) ####### generalise for not just forecasting\n",
    "    _,_, nll_pp_tr, _ = tr_step(model, opt, x,y,n_C,n_T, training=True)\n",
    "\n",
    "    if i % 100 == 0:\n",
    "        train_array.append(nll_pp_tr)\n",
    "        idx_list = list(range(x_val.shape[0] - (n_C+n_T)))\n",
    "        t_te,y_te,_ = batcher(x_val,y_val,idx_list,batch_s = 100,window=n_C+n_T)\n",
    "        μ, log_σ = model([t_te, y_te, n_C, n_T, False])\n",
    "        _,_,_, nll_pp_te, msex_te = losses.nll(y_te[:, n_C:n_C+n_T], μ, log_σ)\n",
    "        array.append(nll_pp_te)\n",
    "        \n",
    "        plt.plot(train_array)\n",
    "        plt.plot(array)\n",
    "        plt.show()\n",
    "\n",
    "        print(nll_pp_te)\n",
    "        print(min(array))\n",
    "\n",
    "        if nll_pp_te < mini:\n",
    "            mini = nll_pp_te\n",
    "            manager.save()\n",
    "            step += 1\n",
    "            ckpt.step.assign_add(1)\n",
    "\n",
    "\n"
   ]
  },
  {
   "cell_type": "code",
   "execution_count": 21,
   "metadata": {},
   "outputs": [
    {
     "data": {
      "text/plain": [
       "<tensorflow.python.training.tracking.util.CheckpointLoadStatus at 0x302d6c0a0>"
      ]
     },
     "execution_count": 21,
     "metadata": {},
     "output_type": "execute_result"
    }
   ],
   "source": [
    "ckpt = tf.train.Checkpoint(step=tf.Variable(step), optimizer=opt, net=model)\n",
    "manager = tf.train.CheckpointManager(ckpt, folder, max_to_keep=1)\n",
    "ckpt.restore(manager.latest_checkpoint) "
   ]
  },
  {
   "cell_type": "code",
   "execution_count": 22,
   "metadata": {},
   "outputs": [
    {
     "name": "stdout",
     "output_type": "stream",
     "text": [
      "tf.Tensor(\n",
      "[[27 39 15 46 35 12 22 49 45  9 40  0 31 18  5 23 32 42 37 16 29 48 41 25\n",
      "   2 26 38 17  1 47 36  7 24  6 11 44 10 19 28 20 43  3  8 33  4 21 14 30\n",
      "  13 34]], shape=(1, 50), dtype=int32)\n",
      "tf.Tensor(False, shape=(), dtype=bool)\n"
     ]
    }
   ],
   "source": [
    "idx_list = list(range(x_val.shape[0] - (n_C+n_T)))\n",
    "\n",
    "t_te,y_te,_ = batcher(x_val,y_val,idx_list,batch_s = 100,window=n_C+n_T)\n",
    "μ, log_σ = model([t_te, y_te, n_C, n_T, False])\n",
    "_,_,_, nll_pp_te, msex_te = losses.nll(y_te[:, n_C:n_C+n_T], μ, log_σ)\n"
   ]
  },
  {
   "cell_type": "code",
   "execution_count": 23,
   "metadata": {},
   "outputs": [
    {
     "data": {
      "text/plain": [
       "<tf.Tensor: shape=(), dtype=float32, numpy=-1.6143489>"
      ]
     },
     "execution_count": 23,
     "metadata": {},
     "output_type": "execute_result"
    }
   ],
   "source": [
    "nll_pp_te"
   ]
  },
  {
   "cell_type": "code",
   "execution_count": 24,
   "metadata": {},
   "outputs": [],
   "source": [
    "test_batch_s = 100\n",
    "\n",
    "idx_list = list(range(x_test.shape[0] - (n_C+n_T)))\n",
    "num_batches = x_test.shape[0]//test_batch_s"
   ]
  },
  {
   "cell_type": "code",
   "execution_count": 25,
   "metadata": {},
   "outputs": [
    {
     "data": {
      "text/plain": [
       "10390"
      ]
     },
     "execution_count": 25,
     "metadata": {},
     "output_type": "execute_result"
    }
   ],
   "source": [
    "len(idx_list)"
   ]
  },
  {
   "cell_type": "code",
   "execution_count": 26,
   "metadata": {
    "collapsed": true,
    "jupyter": {
     "outputs_hidden": true
    },
    "scrolled": true,
    "tags": []
   },
   "outputs": [
    {
     "name": "stdout",
     "output_type": "stream",
     "text": [
      "10390\n",
      "100\n",
      "tf.Tensor(\n",
      "[[45 28 38 20 33 42  6 48 39 46  9  8  2 27 40 14 16 18 15 47 35 31 41 44\n",
      "   3 34 32 37  5  4 23 49 17 29 25 19 10 24 22 30 26 12 43  7 36 11 13  1\n",
      "  21  0]], shape=(1, 50), dtype=int32)\n",
      "tf.Tensor(False, shape=(), dtype=bool)\n",
      "10290\n",
      "100\n",
      "tf.Tensor(\n",
      "[[41  3 40  2 24 17 42 43 35 11 14 44 45 10 47 31  8 23 32 28  4  1 26  7\n",
      "  29 30 21 48 22 38 36 33  0 16  9 46 37 13  5 19 49 25 20 18 39 34 27  6\n",
      "  15 12]], shape=(1, 50), dtype=int32)\n",
      "tf.Tensor(False, shape=(), dtype=bool)\n",
      "10190\n",
      "100\n",
      "tf.Tensor(\n",
      "[[20 14 33  5 13 35 15 24 17 38 47 29 36 42 44 34 39  2 30 12  0 21 27 19\n",
      "   1 46 41 16 22 31  4 45 49  8  9 25 37 26 10  3 11  7 18 40 32  6 23 43\n",
      "  28 48]], shape=(1, 50), dtype=int32)\n",
      "tf.Tensor(False, shape=(), dtype=bool)\n",
      "10090\n",
      "100\n",
      "tf.Tensor(\n",
      "[[25  3 17  6  7 35 40 45 48 44 12 28 10 13  1 49 42  5  9 27 31 20  2 18\n",
      "  29 14 26 16 11 15 23 34 30 21 19 41 39  0 47 32 38 33 36  4 22 37  8 43\n",
      "  24 46]], shape=(1, 50), dtype=int32)\n",
      "tf.Tensor(False, shape=(), dtype=bool)\n",
      "9990\n",
      "100\n",
      "tf.Tensor(\n",
      "[[13 41 15 26 18 33  3 40 37 17 22 30  1 42 14  9 12  8 23 32 35 34 20 27\n",
      "  48 19  6  4 45 28 11 10 39  7 31 46 25 44  2 21 36 24 16 47 49 29  0 43\n",
      "   5 38]], shape=(1, 50), dtype=int32)\n",
      "tf.Tensor(False, shape=(), dtype=bool)\n",
      "9890\n",
      "100\n",
      "tf.Tensor(\n",
      "[[38  9 36 25 17 21 41  3 31  4 29  0 14  7 40 20 30 49 22 10 23 15 27 34\n",
      "  48  6 26 43 11 24  8 42 39 37  2 47 45 35  1 13 19  5 12 46 18 44 33 32\n",
      "  28 16]], shape=(1, 50), dtype=int32)\n",
      "tf.Tensor(False, shape=(), dtype=bool)\n",
      "9790\n",
      "100\n",
      "tf.Tensor(\n",
      "[[22 21 36 26 35 28 39  4 19 23 33 32 29 38 30 17  6 12 31  2 34 16 20 42\n",
      "   1 44 24 46  3 11  9  8 49  7 18 41 43 13 47 37 48  0 25 27 15  5 45 40\n",
      "  10 14]], shape=(1, 50), dtype=int32)\n",
      "tf.Tensor(False, shape=(), dtype=bool)\n",
      "9690\n",
      "100\n",
      "tf.Tensor(\n",
      "[[36 34 12 49 44 19  5 32 26  6 13 29 18 38 10 23 22  1 27 45  7 14 43 40\n",
      "   0 33 17 35 42  4 46 47  9 48  3 24 21 41 16 20 15  8 39  2 30 28 37 25\n",
      "  11 31]], shape=(1, 50), dtype=int32)\n",
      "tf.Tensor(False, shape=(), dtype=bool)\n",
      "9590\n",
      "100\n",
      "tf.Tensor(\n",
      "[[28 33 17  5  8 41 32 40  4 43 24 49 12  3 39 23 15 34 11 25  2 45 42 19\n",
      "  22  6 30 20 18 46 14 21  9 31 13 35 48 26 16  1 29  0 27 47 44 38 10  7\n",
      "  37 36]], shape=(1, 50), dtype=int32)\n",
      "tf.Tensor(False, shape=(), dtype=bool)\n",
      "9490\n",
      "100\n",
      "tf.Tensor(\n",
      "[[39 33 47 12  2 13 35 27 25 24 16 45 14 32 18 21 19  1 15 22 23 20 28 29\n",
      "  38 46 49  0 31 10 44 43  8  3 26 37 40  6 42  7  9 11 41 34 30  4  5 48\n",
      "  36 17]], shape=(1, 50), dtype=int32)\n",
      "tf.Tensor(False, shape=(), dtype=bool)\n",
      "9390\n",
      "100\n",
      "tf.Tensor(\n",
      "[[23 30 47 29 43 17 34 33 28 39 14 27  1 37  5 18  2 19 32  0 40  9 22  3\n",
      "  41 15 35 21 45 31  8 49 11 36 38 12 10 42  7 26 20 16 48  4 46 44 25 24\n",
      "   6 13]], shape=(1, 50), dtype=int32)\n",
      "tf.Tensor(False, shape=(), dtype=bool)\n",
      "9290\n",
      "100\n",
      "tf.Tensor(\n",
      "[[32 35 25 20 42 38 47 40 36 33 10 48 18 46  3 27 28 34 11 13 26 41 49 12\n",
      "  29  0 14  4 23  2 24 30 22  1 16  8 15 21  9 44 17 19  7 45 43 39  5  6\n",
      "  31 37]], shape=(1, 50), dtype=int32)\n",
      "tf.Tensor(False, shape=(), dtype=bool)\n",
      "9190\n",
      "100\n",
      "tf.Tensor(\n",
      "[[16  9  4  7 29 36 35 15 12 11 26 44 31 17  8 30 13 33 27 21  6 49  0 38\n",
      "  28 46 19 24  5 42 22 47 45  2 23  3 43 39 48 40 20 25 34 14 18 41 32 37\n",
      "  10  1]], shape=(1, 50), dtype=int32)\n",
      "tf.Tensor(False, shape=(), dtype=bool)\n",
      "9090\n",
      "100\n",
      "tf.Tensor(\n",
      "[[40 28 49 23 10  0 18 44 11 37 13 12 24 45  4  2 36 22 19 21  9  7 35 17\n",
      "  25 26  5  8 34  3 29 48 32 46  1 39 16 41 15 33 31 30  6 27 42 20 47 43\n",
      "  38 14]], shape=(1, 50), dtype=int32)\n",
      "tf.Tensor(False, shape=(), dtype=bool)\n",
      "8990\n",
      "100\n",
      "tf.Tensor(\n",
      "[[30  5 18 31 24 38 19  2 40  1  6 23  9  8 32 21 28 11 10  0 37 48  4 27\n",
      "  45 17 29 41  3 44 49 15 20 39 12 47 26 42 16 46 33 34 36  7 35 22 25 43\n",
      "  13 14]], shape=(1, 50), dtype=int32)\n",
      "tf.Tensor(False, shape=(), dtype=bool)\n",
      "8890\n",
      "100\n",
      "tf.Tensor(\n",
      "[[17 20 48  8 47 37 18 39 31  7 40 19 14 29 11  2 32 21  1  0 38 26 43  9\n",
      "  25  5 15  4  6 46  3 22 33 34 16 13 30 36 42 12 41 27 10 28 35 44 49 45\n",
      "  24 23]], shape=(1, 50), dtype=int32)\n",
      "tf.Tensor(False, shape=(), dtype=bool)\n",
      "8790\n",
      "100\n",
      "tf.Tensor(\n",
      "[[20 46 43 45  8 42 29 37 16 40 28 11 30  2 36 31 23 22  0 35 38  4 12  5\n",
      "   7 17 10 18  3 49 44 24 15 41 25 13 39  9 19 27 14 26 21 33 32 48 34  6\n",
      "  47  1]], shape=(1, 50), dtype=int32)\n",
      "tf.Tensor(False, shape=(), dtype=bool)\n",
      "8690\n",
      "100\n",
      "tf.Tensor(\n",
      "[[38  2 20  6 44 43 33 23  4 47 19 30  9 25 36 39 40  0 28 17 49 41 35  1\n",
      "  10 37 46 32 14 13 29 12 34  5  8 21 15 31 48 11 42  7 18  3 27 22 24 16\n",
      "  26 45]], shape=(1, 50), dtype=int32)\n",
      "tf.Tensor(False, shape=(), dtype=bool)\n",
      "8590\n",
      "100\n",
      "tf.Tensor(\n",
      "[[ 3 23 29 41 37 46 24 13 33 19 47  6  7 12 26 11 10 25 38 44 14 42  0 16\n",
      "  21 48 35 40 30 27  1  4  2 32 17 28 45 39 43 15  8 31 20  5  9 18 22 36\n",
      "  49 34]], shape=(1, 50), dtype=int32)\n",
      "tf.Tensor(False, shape=(), dtype=bool)\n",
      "8490\n",
      "100\n",
      "tf.Tensor(\n",
      "[[35 46  0 32 37 22 28 38 17 47 19  3 23 27  9  2 34  1 15 13  8 30 18  4\n",
      "  26 14 41 39 16 12 21 45  5  6 49 33 25 48 42 44 11 43 10 40 20 29 36  7\n",
      "  31 24]], shape=(1, 50), dtype=int32)\n",
      "tf.Tensor(False, shape=(), dtype=bool)\n",
      "8390\n",
      "100\n",
      "tf.Tensor(\n",
      "[[45  7 33 35 12 23 28 31 24 49  9 44 10  1 38  2 43 39 34 29 25 46 30 17\n",
      "  41 32  4 21 18  6 16 40 14 13 26 22 19 15  5 47 42 11 27  8  0 20 48 37\n",
      "   3 36]], shape=(1, 50), dtype=int32)\n",
      "tf.Tensor(False, shape=(), dtype=bool)\n",
      "8290\n",
      "100\n",
      "tf.Tensor(\n",
      "[[ 3  8 30 27 17 49 31 13  2 41  7 20 24 43 19 11 37 14 39 36 22 21 23  9\n",
      "  29 26  0 32 48 35 18 33  4 28 34 47  5 15 25 45 40 42 44 46 12 10 16  6\n",
      "   1 38]], shape=(1, 50), dtype=int32)\n",
      "tf.Tensor(False, shape=(), dtype=bool)\n",
      "8190\n",
      "100\n",
      "tf.Tensor(\n",
      "[[ 8 40 39  2 10 12 23 16  6 36  3  9 35 45  1 17 11 44 13 27 30 21  4 33\n",
      "  38 41 34 48 42 18 29 28 26 22  7 43 46 19 37  0 24 14 25  5 32 47 31 20\n",
      "  15 49]], shape=(1, 50), dtype=int32)\n",
      "tf.Tensor(False, shape=(), dtype=bool)\n",
      "8090\n",
      "100\n",
      "tf.Tensor(\n",
      "[[36 40 21 38 24  5 49  2 26 27  3 37 12 16 19 18  8 45  0 48 22  1 25 11\n",
      "  33 28 42 39 30 20 43 47  6 46 41 31 32 15 29 10 44  7 35  4 14 23 34 13\n",
      "   9 17]], shape=(1, 50), dtype=int32)\n",
      "tf.Tensor(False, shape=(), dtype=bool)\n",
      "7990\n",
      "100\n",
      "tf.Tensor(\n",
      "[[41 20 39 16 32 44 13  7 46 14 17 28 23  2 21 42 47 18  6 35 24 37 26 19\n",
      "   3 36 29 22 33 15 10 40  1 45 31  9  0  5 43  8 30  4 34 27 49 12 38 11\n",
      "  48 25]], shape=(1, 50), dtype=int32)\n",
      "tf.Tensor(False, shape=(), dtype=bool)\n",
      "7890\n",
      "100\n",
      "tf.Tensor(\n",
      "[[47  8 39 11 30 43 28 46  5 35  1 14 16 33 12 23  3 15 13  9  2  4 36 20\n",
      "  22 18 37 40 48  6 21 27 42  7 24 29 19 49 25 34 41 17 44 10 26 45 31 38\n",
      "   0 32]], shape=(1, 50), dtype=int32)\n",
      "tf.Tensor(False, shape=(), dtype=bool)\n",
      "7790\n",
      "100\n",
      "tf.Tensor(\n",
      "[[47  2  8 13 39 10  4 37 49 15 31 33 28 45  5 27 41 35 24 11  1 19  3 21\n",
      "   9  6  7 20 38 18 14 29 36 26 48 17 40 43 46 34 42 22 12 25 16 30 44  0\n",
      "  23 32]], shape=(1, 50), dtype=int32)\n",
      "tf.Tensor(False, shape=(), dtype=bool)\n",
      "7690\n",
      "100\n",
      "tf.Tensor(\n",
      "[[16  4 34 17 37  8 22 29 11 32  6  9 39 24  1 27 48  7 19 12 45  2 31 35\n",
      "  36 20 26 38 10 42  0 40 23 44  5 18 33  3 15 46 21 28 43 30 49 41 25 13\n",
      "  47 14]], shape=(1, 50), dtype=int32)\n",
      "tf.Tensor(False, shape=(), dtype=bool)\n",
      "7590\n",
      "100\n",
      "tf.Tensor(\n",
      "[[42 12 34 49 19  7 44 45 16 48 47 41  1 29 11 35 30 26 40 15 39  6 18 13\n",
      "  43 36  8  4 17 28 46 14 38 10  3 24 20  5 33  0 31 25 27 37  9  2 21 22\n",
      "  23 32]], shape=(1, 50), dtype=int32)\n",
      "tf.Tensor(False, shape=(), dtype=bool)\n",
      "7490\n",
      "100\n",
      "tf.Tensor(\n",
      "[[47 39 29  5 20 43 17  8  1 23 38 28 36 30  3  2 31 46 11 44 25  9 16 21\n",
      "  42 49 26 35 24 15  6  0 32 40 12 19 41 33 14 18 10 34 48 45 22 27 13  4\n",
      "  37  7]], shape=(1, 50), dtype=int32)\n",
      "tf.Tensor(False, shape=(), dtype=bool)\n",
      "7390\n",
      "100\n",
      "tf.Tensor(\n",
      "[[11 30 15 33 14 39 37  2 24 27 40 48  4 32 28 38 47 36  7 26 29  8 13 10\n",
      "  25 45 49  0 41 23  9 17 31 34 18 20  5 44  3  6 43 46 22 16 42 12 35 21\n",
      "  19  1]], shape=(1, 50), dtype=int32)\n",
      "tf.Tensor(False, shape=(), dtype=bool)\n",
      "7290\n",
      "100\n",
      "tf.Tensor(\n",
      "[[43 17 20  7 42 19 13 12 46  9 18 35 32 22  0 23  6 24  1 48 29 38 49 28\n",
      "  45 33 36 30 26  3 16 34 44 27  2 40 14 25 39  4 15 37 41 10 31  5 47 11\n",
      "  21  8]], shape=(1, 50), dtype=int32)\n",
      "tf.Tensor(False, shape=(), dtype=bool)\n",
      "7190\n",
      "100\n",
      "tf.Tensor(\n",
      "[[33  9 22 41 29 46 15  8 43 23 47 38 36 27 17 34  1  6 35 31 49 20  2 44\n",
      "  40 14 39  5 12  3 25 28  7 21 32 16  0 19 13 24 11  4 30 48 45 26 10 18\n",
      "  42 37]], shape=(1, 50), dtype=int32)\n",
      "tf.Tensor(False, shape=(), dtype=bool)\n",
      "7090\n",
      "100\n",
      "tf.Tensor(\n",
      "[[ 5 43 35 13 38 33 27 48 42 37 46 40 44 14 26 23 10 24 12 41 18 28  6 32\n",
      "  22  0 49 17 29 19  4 15 25  3 36 31 39  9 11 47 21 16  1 45 30  2  8 20\n",
      "   7 34]], shape=(1, 50), dtype=int32)\n",
      "tf.Tensor(False, shape=(), dtype=bool)\n",
      "6990\n",
      "100\n",
      "tf.Tensor(\n",
      "[[14 46 21  3  7  5 43 15 33 12 49 31 32 10 13 41 29 28 35 11 18  8 34 40\n",
      "   2 45 30 27  9  4 48 42 22  6  1 44 23 38 24 25 39 16 17 19 36 20 37 26\n",
      "  47  0]], shape=(1, 50), dtype=int32)\n",
      "tf.Tensor(False, shape=(), dtype=bool)\n",
      "6890\n",
      "100\n",
      "tf.Tensor(\n",
      "[[26 29 37 48  9  6 20 14 13 39 23 18 28 36 46 47 10  5  2  8 25 32 33 21\n",
      "  17 40  3 43 42 45 49 24 30  1 27 19  0 41 31 35 12 38  4 15 34  7 44 11\n",
      "  16 22]], shape=(1, 50), dtype=int32)\n",
      "tf.Tensor(False, shape=(), dtype=bool)\n",
      "6790\n",
      "100\n",
      "tf.Tensor(\n",
      "[[14  0 17 35 44  1 21 13 31 39 27 11  9  4  8 28 20 25 15 26 24 16 22 43\n",
      "   7 41 23  3 34 49 19 46  2 12 10  6 32 40 30 37 33  5 36 18 38 48 29 45\n",
      "  42 47]], shape=(1, 50), dtype=int32)\n",
      "tf.Tensor(False, shape=(), dtype=bool)\n",
      "6690\n",
      "100\n",
      "tf.Tensor(\n",
      "[[13 27 26 30 38  4 17 24 41 18 25 21 28 48 34  0 43 37  1 36 32 29 46 31\n",
      "  22  2 39  6 35 47 33 14 11 42 12 15 40 19 20  8 44  3  5 23  9  7 49 45\n",
      "  16 10]], shape=(1, 50), dtype=int32)\n",
      "tf.Tensor(False, shape=(), dtype=bool)\n",
      "6590\n",
      "100\n",
      "tf.Tensor(\n",
      "[[10  7 12  3 28 43 26  0 11 13  8  9 36  2 44  6 40 15 49 14 33 48 30 46\n",
      "  47 35 22 19 41 31  1 23 38  5 42 16 29 18 39 37 21 25 17 34 45  4 24 32\n",
      "  20 27]], shape=(1, 50), dtype=int32)\n",
      "tf.Tensor(False, shape=(), dtype=bool)\n",
      "6490\n",
      "100\n",
      "tf.Tensor(\n",
      "[[ 7 12  6 11 43 27 26 20  9 41 15 29 40 31 37 33 18 32 16 48 35 36  5 46\n",
      "  14 34 45 10 44 13  8 38 19 39 47  4 22 21  3 23 17  2 24 30 49 42 25 28\n",
      "   0  1]], shape=(1, 50), dtype=int32)\n",
      "tf.Tensor(False, shape=(), dtype=bool)\n",
      "6390\n",
      "100\n",
      "tf.Tensor(\n",
      "[[27  7 32  8 20 19 26  3 18 16  6 46 11 39 15 28 37 41 40 35 12 21 34 10\n",
      "   2 33  5  0 25 31 49 22  1 23 30 36 42 44 13 24 47 45 29 38  9 43 48  4\n",
      "  14 17]], shape=(1, 50), dtype=int32)\n",
      "tf.Tensor(False, shape=(), dtype=bool)\n",
      "6290\n",
      "100\n",
      "tf.Tensor(\n",
      "[[28 46  7 47 36 17 10 24 30 48  4  0 11  5 49  8 41 35 13 19  1 29 43 16\n",
      "  23 18 12 42 44 26  6  9 15 31 39  3 14 25 27 21 22 45 40  2 33 38 34 37\n",
      "  20 32]], shape=(1, 50), dtype=int32)\n",
      "tf.Tensor(False, shape=(), dtype=bool)\n",
      "6190\n",
      "100\n",
      "tf.Tensor(\n",
      "[[39 28 48 18 49 30 32  5 34  1  0  8 45 40 36 14 16 12  9 23 21 10 37 44\n",
      "  15 46 41 20 13 29 38  7  6  2 43  4 11 33 19  3 25 47 26 22 24 35 31 42\n",
      "  17 27]], shape=(1, 50), dtype=int32)\n",
      "tf.Tensor(False, shape=(), dtype=bool)\n",
      "6090\n",
      "100\n",
      "tf.Tensor(\n",
      "[[37 24 18 14 19 41  0 11 35 46  3 25  4 27 36 17 34 23 40  1 39 16  8 31\n",
      "  22 21 13 15  2 42 20 49 45 47 33  9 48 28 10  6 44 12  5 32 26 43  7 29\n",
      "  38 30]], shape=(1, 50), dtype=int32)\n",
      "tf.Tensor(False, shape=(), dtype=bool)\n",
      "5990\n",
      "100\n",
      "tf.Tensor(\n",
      "[[38 30 24 23 12 45 40  5  7 34  8  0  1 20 22 17 35 26 36 39 15 48 32 42\n",
      "  19 14 44 28 47 37  9 41 49  6 25  4 31 11 33 10 16 46 18 43  3 29  2 13\n",
      "  27 21]], shape=(1, 50), dtype=int32)\n",
      "tf.Tensor(False, shape=(), dtype=bool)\n",
      "5890\n",
      "100\n",
      "tf.Tensor(\n",
      "[[ 6 41 35  1 21  7 20 27 10 45 18 31 24 33 16 34 32 46 37 49 30 22 12 14\n",
      "   2  0 28  3 44 29 23  4 39 47 15 25 43 26 48 40 13  5 17 11 36 38  8  9\n",
      "  19 42]], shape=(1, 50), dtype=int32)\n",
      "tf.Tensor(False, shape=(), dtype=bool)\n",
      "5790\n",
      "100\n",
      "tf.Tensor(\n",
      "[[44 37 33 36 25 48 42 24 12 35 41 39 22  4 21  0 15 31 18 26  7 13 29 23\n",
      "  45 16 30 19 20  6 38 28 14 40  9 49  2 43 17  5  8 10 11 34  1 47 46 32\n",
      "   3 27]], shape=(1, 50), dtype=int32)\n",
      "tf.Tensor(False, shape=(), dtype=bool)\n",
      "5690\n",
      "100\n",
      "tf.Tensor(\n",
      "[[ 3 28 29 19  6 47 13 14 35 49 40  1  0 30  2  9 33 48 23 42 20 10 39 38\n",
      "   5 25 26 45 16 43  7 18 24 31 41 34 21  4 27 44 32 22 12 36  8 11 15 46\n",
      "  37 17]], shape=(1, 50), dtype=int32)\n",
      "tf.Tensor(False, shape=(), dtype=bool)\n",
      "5590\n",
      "100\n",
      "tf.Tensor(\n",
      "[[ 5 11 24 27 43  1 35 37 18 22  6 46 12 13 40 38 49 29  3 28 44 25 20 23\n",
      "   4  2 32 21 36 31 14 34  7 30 41 33 26  9  8 10 42 48 47 19 16  0 15 39\n",
      "  17 45]], shape=(1, 50), dtype=int32)\n",
      "tf.Tensor(False, shape=(), dtype=bool)\n",
      "5490\n",
      "100\n",
      "tf.Tensor(\n",
      "[[30 23 13 49 32 48 39 11  2 31 33 38 42 25 24  3  9 43 10  1 27 35  0 22\n",
      "   7 28 36 17 29 34 47 44  8 20 16  5 37 14 46 26 41 12 21 15  6 19 40  4\n",
      "  45 18]], shape=(1, 50), dtype=int32)\n",
      "tf.Tensor(False, shape=(), dtype=bool)\n",
      "5390\n",
      "100\n",
      "tf.Tensor(\n",
      "[[26 14  8 33 42 19 34 39 12 31 38 32 40 48 35 16 13 41 29 45  3  7 25 17\n",
      "   6 24 43 20 37 49 21 28 10  4 18  5  1 44 22 36 15  2 30 11 23 47  9  0\n",
      "  27 46]], shape=(1, 50), dtype=int32)\n",
      "tf.Tensor(False, shape=(), dtype=bool)\n",
      "5290\n",
      "100\n",
      "tf.Tensor(\n",
      "[[40 24  1 38 19 26 46 49 13 45 30 17 36 20 27 14 34  5 18  6 48  4 23 16\n",
      "  32  0 43 28 21  2 37 41 31  7 39 42 44 12 10 15  3 47  8  9 11 29 22 35\n",
      "  33 25]], shape=(1, 50), dtype=int32)\n",
      "tf.Tensor(False, shape=(), dtype=bool)\n",
      "5190\n",
      "100\n",
      "tf.Tensor(\n",
      "[[48 44 27 12  7  0 16  3 13 20 28  2 25 42 32 19 40 10 14 18 43  6  8 34\n",
      "  21 31 33 45 36 39 15 30 35 49 23 22 46 11  5 37 17  4 47 41 24 26  9 38\n",
      "   1 29]], shape=(1, 50), dtype=int32)\n",
      "tf.Tensor(False, shape=(), dtype=bool)\n",
      "5090\n",
      "100\n",
      "tf.Tensor(\n",
      "[[33 31 25 41 48 22 12  0 38  7 36 49 26 32  2  8 47  1 43 20 15 29  4  6\n",
      "  13 37 23 17  9  3 27  5 18 11 28 19 44 46 24 45 21 16 40 34 30 39 10 35\n",
      "  14 42]], shape=(1, 50), dtype=int32)\n",
      "tf.Tensor(False, shape=(), dtype=bool)\n",
      "4990\n",
      "100\n",
      "tf.Tensor(\n",
      "[[12 29 38  3 18 22 42  2  9  5  4 19 32 26 16 28 40 20 45  8 27 46  1 11\n",
      "  30 34 44 47 13 25 37 24 41 21 10 43 17 31 36 35 14 49  6  7 39 48  0 15\n",
      "  33 23]], shape=(1, 50), dtype=int32)\n",
      "tf.Tensor(False, shape=(), dtype=bool)\n",
      "4890\n",
      "100\n",
      "tf.Tensor(\n",
      "[[47  8 19 24 21 46 25  0 36 30 23 49 33 27 41 13  1 38 22 16 37 32 40 45\n",
      "  34 42 26 48  3  9 10  6 44 14 28 15 35 12 29 20 43 18 39  5  4 17 11  7\n",
      "  31  2]], shape=(1, 50), dtype=int32)\n",
      "tf.Tensor(False, shape=(), dtype=bool)\n",
      "4790\n",
      "100\n",
      "tf.Tensor(\n",
      "[[49 39  4 38 18 48 44 14  0 21 40 11 23 41 47 13 28 25  2 17 12 22  5 30\n",
      "   7  6 37 43  8 32 24 33 34 10 46 15 35 31 20 36  3  9 42 26 45  1 27 16\n",
      "  29 19]], shape=(1, 50), dtype=int32)\n",
      "tf.Tensor(False, shape=(), dtype=bool)\n",
      "4690\n",
      "100\n",
      "tf.Tensor(\n",
      "[[44 46 49 31  4 13  0  2 18 26  7 37 24 16 21 42 34 39 15 32 20  8 25 30\n",
      "  33 41 28 10 19 43  9 48 38 27 40 12  6 29 11 47  1 45 35 17  5 36  3 23\n",
      "  22 14]], shape=(1, 50), dtype=int32)\n",
      "tf.Tensor(False, shape=(), dtype=bool)\n",
      "4590\n",
      "100\n",
      "tf.Tensor(\n",
      "[[40 17  1 34 39  3 42  9 45  8  4 25  5 30 36 13  0 32 11 15 49 26  6 21\n",
      "  31 20 46 33 43 38 24 19 12 14 22 28 41 47 29  2  7 27 44 37 48 10 35 18\n",
      "  16 23]], shape=(1, 50), dtype=int32)\n",
      "tf.Tensor(False, shape=(), dtype=bool)\n",
      "4490\n",
      "100\n",
      "tf.Tensor(\n",
      "[[45 33 27 16 12 37 31 44  9  7 21 18 40  6 25 41 32 22 49 23 47 10 39 20\n",
      "   3 36 13 43  1 28 17 19 11 14 42 24 38  5  8 26  2 29 30 46 34  4 15  0\n",
      "  48 35]], shape=(1, 50), dtype=int32)\n",
      "tf.Tensor(False, shape=(), dtype=bool)\n",
      "4390\n",
      "100\n",
      "tf.Tensor(\n",
      "[[ 6 35 28 26 13 31 19  4 40 49 48 30 32 41  5 21 15  1 11 39 45 20 37 46\n",
      "  18 27 42 14  3 47 22  2 33  0 23 16 44 10 24 34 17  9 25 38  7 43 29 12\n",
      "   8 36]], shape=(1, 50), dtype=int32)\n",
      "tf.Tensor(False, shape=(), dtype=bool)\n",
      "4290\n",
      "100\n",
      "tf.Tensor(\n",
      "[[42 15 41 20 47  0 22 32 35 46 30 16 43  7  9 19 13 33  4 39 26 23  8 36\n",
      "  44  5 17 48  3 40 34 31 45 49  2  6 37 27 14 24 18 12  1 21 28 29 38 10\n",
      "  25 11]], shape=(1, 50), dtype=int32)\n",
      "tf.Tensor(False, shape=(), dtype=bool)\n",
      "4190\n",
      "100\n",
      "tf.Tensor(\n",
      "[[36  6 34 19 29  1 16 25 41 12 26 49 48 20 43 35 39 30  0 10 14 11 47  4\n",
      "   7 31 33 40 46 45 28 17 27 44  8  5  9 42 38 23 37 32 24  3 13 15 18 22\n",
      "   2 21]], shape=(1, 50), dtype=int32)\n",
      "tf.Tensor(False, shape=(), dtype=bool)\n",
      "4090\n",
      "100\n",
      "tf.Tensor(\n",
      "[[49 20 38 48 23 12 29 27 25 39 44 47 34 43 30 28 41 14 37  2 16 33  0  7\n",
      "   8 22 36 24 31 18 11 35  4 15 40  9 26 19 17  3 32 13 42 46  1 45  6 21\n",
      "   5 10]], shape=(1, 50), dtype=int32)\n",
      "tf.Tensor(False, shape=(), dtype=bool)\n",
      "3990\n",
      "100\n",
      "tf.Tensor(\n",
      "[[34  2  4 45 20 47 10 18 44 40 22 28 42 37 38 32 26  8 35 16 36  1 31  9\n",
      "  49 23 13 33 46  3 30 14  7 41 21 24 43  6 15 48 12  0 19 11  5 25 29 39\n",
      "  17 27]], shape=(1, 50), dtype=int32)\n",
      "tf.Tensor(False, shape=(), dtype=bool)\n",
      "3890\n",
      "100\n",
      "tf.Tensor(\n",
      "[[ 9 43 45 24 16 36 30 40 33  3 13  5 19  1 47  4 35  2 18  7 22 41 12 34\n",
      "  23 49 17 42  0 14 39 46 32 27 48 10 15 11  8 21 26 37 29 20 28  6 38 44\n",
      "  31 25]], shape=(1, 50), dtype=int32)\n",
      "tf.Tensor(False, shape=(), dtype=bool)\n",
      "3790\n",
      "100\n",
      "tf.Tensor(\n",
      "[[46 18 20  2 22 32 39 37 19 29 34  9 40 45 44  0 35 38  7 47 11 30  1 49\n",
      "  41 24 13 48 17 14 27 26 16 31  8 12 43 23  6 10 42 36  3  4 21 28 33 25\n",
      "  15  5]], shape=(1, 50), dtype=int32)\n",
      "tf.Tensor(False, shape=(), dtype=bool)\n",
      "3690\n",
      "100\n",
      "tf.Tensor(\n",
      "[[23 49  3  6 38  7 26 10 28 37 14  4 16 31 27 17 29 47 36 39 18 42 48 15\n",
      "  20  5 44 35 21 24 25 34 46 32 11 22  2  1 19 45 30  0 33 41 40 43  8 13\n",
      "  12  9]], shape=(1, 50), dtype=int32)\n",
      "tf.Tensor(False, shape=(), dtype=bool)\n",
      "3590\n",
      "100\n",
      "tf.Tensor(\n",
      "[[20 35  4  5 13  3  2 42  9  6 49 14 17 48 28 16 24 15 38 10 41 36 46 34\n",
      "   8 21 32 29 23  0 26 30 39 18 19 12 47 22 27 44 37 45 40 31 33 43  1 11\n",
      "  25  7]], shape=(1, 50), dtype=int32)\n",
      "tf.Tensor(False, shape=(), dtype=bool)\n",
      "3490\n",
      "100\n",
      "tf.Tensor(\n",
      "[[ 4 41 27  3 47 13 37 42 36 40 30  6 21  2 43 19 48 32 11  5 14  7 17  1\n",
      "   9 10 15 20 46 49 45 24 38  0 12 25 33 23  8 35 34 22 29 31 16 28 26 39\n",
      "  18 44]], shape=(1, 50), dtype=int32)\n",
      "tf.Tensor(False, shape=(), dtype=bool)\n",
      "3390\n",
      "100\n",
      "tf.Tensor(\n",
      "[[29 31 41 24 14  0 22 38  1 46  2  4 13 32 17 16 23 40 37 43 33 42 35 18\n",
      "  34 49  3 26  5 27 11 19 15 36 20 10 47 44  7 21 48 28  8  9 45  6 12 25\n",
      "  30 39]], shape=(1, 50), dtype=int32)\n",
      "tf.Tensor(False, shape=(), dtype=bool)\n",
      "3290\n",
      "100\n",
      "tf.Tensor(\n",
      "[[31  8  2  1 42 12 10 37 40 41 20 44 14 17 36 30 16  5 33 34 47 48 27  4\n",
      "  39 24 15 49 23 18 38 45 32  3 43 19 11 29 28 22 25 21  9  6 13  0 35 26\n",
      "  46  7]], shape=(1, 50), dtype=int32)\n",
      "tf.Tensor(False, shape=(), dtype=bool)\n",
      "3190\n",
      "100\n",
      "tf.Tensor(\n",
      "[[25 45 21  7  6 15 18 49 14 26  1 42  0 17 30 13  4 36 16 38  2 11 32 29\n",
      "  43  9 23 37 34 40 20 27 10 33 22 39 28 31 48 44 12 47  3  8 24  5 19 41\n",
      "  46 35]], shape=(1, 50), dtype=int32)\n",
      "tf.Tensor(False, shape=(), dtype=bool)\n",
      "3090\n",
      "100\n",
      "tf.Tensor(\n",
      "[[48 42 19  6  8  2 41 31 20 14 27 21 49 40 47 44 15 12  4  7 37 35 29 10\n",
      "  45  3 32 25 39  1  0 30 18 24 13 36 33 26 17  5 16 46 43 34 38 11 23  9\n",
      "  28 22]], shape=(1, 50), dtype=int32)\n",
      "tf.Tensor(False, shape=(), dtype=bool)\n",
      "2990\n",
      "100\n",
      "tf.Tensor(\n",
      "[[35 17  6 23  8 40 46 49 18 43 37 19 45 33 25 27 14 24 48  5  9 29 41 30\n",
      "  22 12 42  2  4 20  1 10 31 26 34 36  3 28 15 38  0 13 11 47 32 44  7 21\n",
      "  16 39]], shape=(1, 50), dtype=int32)\n",
      "tf.Tensor(False, shape=(), dtype=bool)\n",
      "2890\n",
      "100\n",
      "tf.Tensor(\n",
      "[[ 9  0 15 38 42 31 35  5 32 39 26  7 44  4 18 21 16 27 17 47  8 49 12 43\n",
      "  48  1 13 36 24 46 22 29 23  6  3 45 30 25 40 20 37 11 10 41  2 33 28 34\n",
      "  14 19]], shape=(1, 50), dtype=int32)\n",
      "tf.Tensor(False, shape=(), dtype=bool)\n",
      "2790\n",
      "100\n",
      "tf.Tensor(\n",
      "[[17 14 23 28 27 43 49 10 45 34 15 35 47  8 22 13 48  5  9 33  0 39 16  3\n",
      "  26  4 25 21 30 11  6 37 19  1 20 12 40 24 38 31 41  2 42 18 46 44 36  7\n",
      "  29 32]], shape=(1, 50), dtype=int32)\n",
      "tf.Tensor(False, shape=(), dtype=bool)\n",
      "2690\n",
      "100\n",
      "tf.Tensor(\n",
      "[[ 3 38 22  6 17 42 44 46  4 39  1 14 47 10 33 18 21 11 23 27 19 48 29  7\n",
      "  35 13 31 37 34 16 40 12 30 28 24 36  8 41 20 43 26  0 45 25  9 32  2 49\n",
      "   5 15]], shape=(1, 50), dtype=int32)\n",
      "tf.Tensor(False, shape=(), dtype=bool)\n",
      "2590\n",
      "100\n",
      "tf.Tensor(\n",
      "[[35 10 28 13  9 20 45 25 12 40 27  3 16 17  6 47  4 15 49 38 29 32  1 48\n",
      "  14 41 24 22 39  0 21 33 36 34 23 26  7 30  5 18 37 44  8 42 31 19 11 43\n",
      "   2 46]], shape=(1, 50), dtype=int32)\n",
      "tf.Tensor(False, shape=(), dtype=bool)\n",
      "2490\n",
      "100\n",
      "tf.Tensor(\n",
      "[[20 45 17 16 44 11  9  8 36 30 31 22  2 39  6 28 14  4 19  5 34 42 48 21\n",
      "  38 47 46 35 32 24 12 29  3 18 15 27 41  1 40 10  0 25 43 49 23 33  7 26\n",
      "  13 37]], shape=(1, 50), dtype=int32)\n",
      "tf.Tensor(False, shape=(), dtype=bool)\n",
      "2390\n",
      "100\n",
      "tf.Tensor(\n",
      "[[49 39  7  4 30 28 44  1 36 34  5 32 31 33 47 10 29 13  9 35 26 15 12  8\n",
      "  17  2 38 25 19 48 20 40 41 42 23 16 46 45 43  3 11 27 24 22  6 18 21 14\n",
      "   0 37]], shape=(1, 50), dtype=int32)\n",
      "tf.Tensor(False, shape=(), dtype=bool)\n",
      "2290\n",
      "100\n",
      "tf.Tensor(\n",
      "[[25 18 36 23 41 44 31  8 48 24  1  5 19  7 49 14 26 20 12 17 37  0 13 22\n",
      "  16 38 21  6  4 32 42  2 35 33 43 39 45 28 30 11 10 27 34  3 46 29  9 47\n",
      "  15 40]], shape=(1, 50), dtype=int32)\n",
      "tf.Tensor(False, shape=(), dtype=bool)\n",
      "2190\n",
      "100\n",
      "tf.Tensor(\n",
      "[[ 9 45 20 28 39 27  0 31 32 30 35 40 34 17 49 44 10  3  5 26 14 48 23  1\n",
      "   4  2 22 18 19 47 15 24  7  6 38 33 36 43 41 42 25  8 11 37 12 46 21 29\n",
      "  16 13]], shape=(1, 50), dtype=int32)\n",
      "tf.Tensor(False, shape=(), dtype=bool)\n",
      "2090\n",
      "100\n",
      "tf.Tensor(\n",
      "[[31 32 41 48 42 43 38 45 39 16  8  7  5 21 37 40 24 23 18 33  1 36  2 47\n",
      "  35 27 19 17 13 22 28 12  6 10 11  9 15 29 30 26  4 46 25  0 20 49 44 14\n",
      "   3 34]], shape=(1, 50), dtype=int32)\n",
      "tf.Tensor(False, shape=(), dtype=bool)\n",
      "1990\n",
      "100\n",
      "tf.Tensor(\n",
      "[[48 37 33 42 17 31 44 39 43 27 46 26 15 32 28 18 19 11  3 36 29 47 38 40\n",
      "  25 12 16  6  1 23 13 20  7 41  9  8 30  2 22 21 24 35  0  5  4 49 14 45\n",
      "  34 10]], shape=(1, 50), dtype=int32)\n",
      "tf.Tensor(False, shape=(), dtype=bool)\n",
      "1890\n",
      "100\n",
      "tf.Tensor(\n",
      "[[15 19 48  2 27 10 33 46 11  6 30 32  3 12 25 49 42 36 40 13 35 24 23 26\n",
      "  37 22 21  7 45 44  4 17 18 20  5 38 16 14 39  9  8 34 43  1  0 31 47 29\n",
      "  28 41]], shape=(1, 50), dtype=int32)\n",
      "tf.Tensor(False, shape=(), dtype=bool)\n",
      "1790\n",
      "100\n",
      "tf.Tensor(\n",
      "[[ 2 22 12 30 18 33  5  4 26 48 10 27 19 11 16 28 32 29 13 43  7 42 40  3\n",
      "  17 14 34 31  9 49 39  1 23 46 41 45 38 20  0 21 44 36 25 47  6  8 24 15\n",
      "  35 37]], shape=(1, 50), dtype=int32)\n",
      "tf.Tensor(False, shape=(), dtype=bool)\n",
      "1690\n",
      "100\n",
      "tf.Tensor(\n",
      "[[43  1 35 23 46  5 44 27 22 21 41 32 33 37 10  2 40 42 25 29 26 19 18 30\n",
      "  45  9 49  0  3 17 36 48 11 24 31  6 13  4 14 20 16 15 34 39  8 28 47 38\n",
      "  12  7]], shape=(1, 50), dtype=int32)\n",
      "tf.Tensor(False, shape=(), dtype=bool)\n",
      "1590\n",
      "100\n",
      "tf.Tensor(\n",
      "[[29 20 26 48 43  1 49 24 13 33 36  3  4 14 30 41 45 32 35 17 42 10 28 16\n",
      "  12 21 15 23 40  8 19 37  0 25  9  6 18 22 39 34 44 11 46 31  5  7 38 27\n",
      "   2 47]], shape=(1, 50), dtype=int32)\n",
      "tf.Tensor(False, shape=(), dtype=bool)\n",
      "1490\n",
      "100\n",
      "tf.Tensor(\n",
      "[[35 26 44 38 11 18 42 49 10  1 34 15 22 25 17 41  3 14  4 43  8 45 24 33\n",
      "  29  2 37 23 12 31 19 13  5  9  0 39  7 36 20 40 46 27 16 48 32 28 47 21\n",
      "  30  6]], shape=(1, 50), dtype=int32)\n",
      "tf.Tensor(False, shape=(), dtype=bool)\n",
      "1390\n",
      "100\n",
      "tf.Tensor(\n",
      "[[36 38 25  7 15 47 32  6 31 29 45 11 48 46 18 10 17 24 41 49 35  1  3 44\n",
      "   0 12 23 28 30 16 22 13 21 20 43 39 34 40  9 26 19 14 27  2  8 42 37  5\n",
      "  33  4]], shape=(1, 50), dtype=int32)\n",
      "tf.Tensor(False, shape=(), dtype=bool)\n",
      "1290\n",
      "100\n",
      "tf.Tensor(\n",
      "[[ 2 24 10 14 38 44 47 46 42  9 16 26  7 22 19  5 17 36 30  1 27 28 39 40\n",
      "  21  6 25 32 45 48 37 41 35 49 20 34 33  3 13 31 23  0 15 29  4  8 11 43\n",
      "  12 18]], shape=(1, 50), dtype=int32)\n",
      "tf.Tensor(False, shape=(), dtype=bool)\n",
      "1190\n",
      "100\n",
      "tf.Tensor(\n",
      "[[ 9 47 20 16  0 14 29 41 12 31 10 33 44 42 48  2  6 15 23 43  8 46  5 27\n",
      "  35 25 30 13 18 38 11  4 24  1 22 49 17 40 32 45  3 26 36 19 39 28 37  7\n",
      "  34 21]], shape=(1, 50), dtype=int32)\n",
      "tf.Tensor(False, shape=(), dtype=bool)\n",
      "1090\n",
      "100\n",
      "tf.Tensor(\n",
      "[[ 2 42 39 37 31 14  7 35 15  4 28 41 33 25 38  5 11 43 21 30 49 17 16  3\n",
      "  18 46 12  6  8 26 22  0 27  1 20 13 48 36 45  9 10 23 19 24 32 40 44 29\n",
      "  34 47]], shape=(1, 50), dtype=int32)\n",
      "tf.Tensor(False, shape=(), dtype=bool)\n",
      "990\n",
      "100\n",
      "tf.Tensor(\n",
      "[[ 3 30 34 40  6  5 17 29 33 37  0  1 43 46 16 35 48 45 39 26 49 13  8 10\n",
      "  44 18 31 14  7  2 38 22 21 27 32 12 25 19 28 24 20 47 11 15  9 23 42  4\n",
      "  36 41]], shape=(1, 50), dtype=int32)\n",
      "tf.Tensor(False, shape=(), dtype=bool)\n",
      "890\n",
      "100\n",
      "tf.Tensor(\n",
      "[[10  6 22 33  0 26 42 31 23 39 49  4 11 32 12 46 28 15 17 45 30 25  5 24\n",
      "  18 20 38 16 48 19 29 40 43  8 47 35 34 13  2 14  9  1 36 27  3  7 41 21\n",
      "  37 44]], shape=(1, 50), dtype=int32)\n",
      "tf.Tensor(False, shape=(), dtype=bool)\n",
      "790\n",
      "100\n",
      "tf.Tensor(\n",
      "[[26 21 37 11 41 31 42  3 18 16 47 46 30 34 10 33 29  6  4 22  9 17 43 15\n",
      "  28 45 32  2  0 36 40 44  8 39 19 14 25 38 27 12 23 49 35 13  5 20 48  1\n",
      "   7 24]], shape=(1, 50), dtype=int32)\n",
      "tf.Tensor(False, shape=(), dtype=bool)\n",
      "690\n",
      "100\n",
      "tf.Tensor(\n",
      "[[39 23  8 26 37 30 10 27 29 25 31 16 28 14  1 24 34 42 17  3 44 47 33 45\n",
      "  15  4 41  0 32  2 13 18 36 20  6 40  9  5 38 22 43  7 35 48 46 12 21 11\n",
      "  49 19]], shape=(1, 50), dtype=int32)\n",
      "tf.Tensor(False, shape=(), dtype=bool)\n",
      "590\n",
      "100\n",
      "tf.Tensor(\n",
      "[[30 36 47  7 43  3 19 48 16 21  2 39 37 23  4  1 28  5 13 34  0 20 25 15\n",
      "  11 29 33 26 22 32 27 38 12 49 24  6 31  9 17 14 45 41 46 42 10  8 44 18\n",
      "  40 35]], shape=(1, 50), dtype=int32)\n",
      "tf.Tensor(False, shape=(), dtype=bool)\n",
      "490\n",
      "100\n",
      "tf.Tensor(\n",
      "[[44 29 35 12 10 22 13 31 48  7 18 27  0 39 37 19 11 49 32 25 40 42  1  6\n",
      "  30 46 14 43 26 34 36  9 38  3 28 17 23  4 41 45 16  2 20 47 21  8 33 15\n",
      "   5 24]], shape=(1, 50), dtype=int32)\n",
      "tf.Tensor(False, shape=(), dtype=bool)\n",
      "390\n",
      "100\n",
      "tf.Tensor(\n",
      "[[36 34 44  7 30 38 49 45 27 39 32 41 46  1 35 24 37 18 15 14 29  2  8 12\n",
      "   5 20  0 28 25 42  9 33  6  4 13 10 23 43 11 21 16 17 19 26 22 48  3 31\n",
      "  40 47]], shape=(1, 50), dtype=int32)\n",
      "tf.Tensor(False, shape=(), dtype=bool)\n",
      "290\n",
      "100\n",
      "tf.Tensor(\n",
      "[[12 15  4 19  7 33 14 11 35 13 21 17 42 32 23 20 38  3  1 10 46 47 31 43\n",
      "  36  2  0 48 41 44 27 16 25 34 24 39 29  8 49 37 45 28  5  6 30 22 26 40\n",
      "   9 18]], shape=(1, 50), dtype=int32)\n",
      "tf.Tensor(False, shape=(), dtype=bool)\n",
      "190\n",
      "190\n",
      "tf.Tensor(\n",
      "[[21 19 35 43 29 30 15  9 41 49 40 38  8  3 39 26 45  6 24  0 25 36 42  5\n",
      "  46  1 20 14 10 11 44 37  2  7 31 22 12 33 27 18 47 13 48 17 28 34 16 32\n",
      "   4 23]], shape=(1, 50), dtype=int32)\n",
      "tf.Tensor(False, shape=(), dtype=bool)\n"
     ]
    }
   ],
   "source": [
    "test_batch_s = 100\n",
    "\n",
    "idx_list = list(range(x_test.shape[0] - (n_C+n_T)))\n",
    "num_batches = len(idx_list)//test_batch_s\n",
    "\n",
    "for _ in range(num_batches): #### specify correct number of batches for the batcher #####\n",
    "    if(_ == (num_batches-1)): test_batch_s = len(idx_list)    \n",
    "    print(len(idx_list))\n",
    "    print(test_batch_s)\n",
    "    t_te,y_te,idx_list = batcher(x_test, y_test, idx_list,batch_s = test_batch_s, window=n_C+n_T)\n",
    "    μ, log_σ = model([t_te, y_te, n_C, n_T, False])\n",
    "    _, sum_mse, sum_nll, _, _ = losses.nll(y_te[:, n_C:n_C+n_T], μ, log_σ)\n",
    "    sum_nll_tot += sum_nll / n_T\n",
    "    sum_mse_tot += sum_mse / n_T\n",
    "\n",
    "nllx =  sum_nll_tot / (test_batch_s * x_test.shape[0]//test_batch_s)\n",
    "msex =  sum_mse_tot / (test_batch_s * x_test.shape[0]//test_batch_s)\n",
    "\n",
    "\n",
    "nll_list.append(nllx.numpy())\n",
    "mse_list.append(msex.numpy())\n",
    "\n",
    "#     np.save(save_dir + '/nll_list.npy', nll_list)    \n",
    "#     np.save(save_dir + '/mse_list.npy', mse_list)  "
   ]
  },
  {
   "cell_type": "code",
   "execution_count": 27,
   "metadata": {},
   "outputs": [
    {
     "name": "stdout",
     "output_type": "stream",
     "text": [
      "tf.Tensor(\n",
      "[[20 13 40 15 23 30 21 34 44 19 18  1  5  6 17 16 48  8 47 27 39 36 26 45\n",
      "   7 28 25 31 35  3 29 10 43 24 49 38 11 12 46  2  0 42  9 41 33 37 14 22\n",
      "   4 32]], shape=(1, 50), dtype=int32)\n",
      "tf.Tensor(False, shape=(), dtype=bool)\n",
      "tf.Tensor(-3.2849836, shape=(), dtype=float32)\n"
     ]
    }
   ],
   "source": [
    "idx_list = list(range(x_test.shape[0] - (n_C+n_T)))\n",
    "t_te,y_te,idx_list = batcher(x_test, y_test, idx_list,batch_s = test_batch_s, window=n_C+n_T)\n",
    "\n",
    "μ, log_σ = model([t_te, y_te, n_C, n_T, False])\n",
    "_, sum_mse, sum_nll, _, _ = losses.nll(y_te[:, n_C:n_C+n_T], μ, log_σ)\n",
    "print(sum_nll/n_T/100)"
   ]
  },
  {
   "cell_type": "code",
   "execution_count": 28,
   "metadata": {},
   "outputs": [
    {
     "data": {
      "text/plain": [
       "[<matplotlib.lines.Line2D at 0x2b67b1820>]"
      ]
     },
     "execution_count": 28,
     "metadata": {},
     "output_type": "execute_result"
    },
    {
     "data": {
      "image/png": "[encoded data removed]",
      "text/plain": [
       "<Figure size 432x288 with 1 Axes>"
      ]
     },
     "metadata": {
      "needs_background": "light"
     },
     "output_type": "display_data"
    }
   ],
   "source": [
    "plt.plot(y_te[4])"
   ]
  },
  {
   "cell_type": "code",
   "execution_count": 29,
   "metadata": {},
   "outputs": [
    {
     "name": "stdout",
     "output_type": "stream",
     "text": [
      "tf.Tensor(\n",
      "[[18 32 14 24 30 37 29 22 28  8 45 39 20  0 43 46 31 17 16 19  5  6 26 44\n",
      "  41 35 25 40 42 48  2 47 38 27 36  7 12  9 23 15 13 49 34  4 21  1 33 10\n",
      "  11  3]], shape=(1, 50), dtype=int32)\n",
      "tf.Tensor(False, shape=(), dtype=bool)\n",
      "tf.Tensor(-1.5154082, shape=(), dtype=float32)\n"
     ]
    }
   ],
   "source": [
    "idx_list = list(range(x_val.shape[0] - (n_C+n_T)))\n",
    "t_te,y_te,_ = batcher(x_val,y_val,idx_list,batch_s = 100,window=n_C+n_T)\n",
    "μ, log_σ = model([t_te, y_te, n_C, n_T, False])\n",
    "_, sum_mse, sum_nll, _, _ = losses.nll(y_te[:, n_C:n_C+n_T], μ, log_σ)\n",
    "print(sum_nll/n_T/100)"
   ]
  },
  {
   "cell_type": "code",
   "execution_count": 30,
   "metadata": {},
   "outputs": [
    {
     "data": {
      "text/plain": [
       "[<matplotlib.lines.Line2D at 0x2d0ee9c70>]"
      ]
     },
     "execution_count": 30,
     "metadata": {},
     "output_type": "execute_result"
    },
    {
     "data": {
      "image/png": "[encoded data removed]",
      "text/plain": [
       "<Figure size 432x288 with 1 Axes>"
      ]
     },
     "metadata": {
      "needs_background": "light"
     },
     "output_type": "display_data"
    }
   ],
   "source": [
    "plt.plot(y_te[4])"
   ]
  },
  {
   "cell_type": "code",
   "execution_count": 31,
   "metadata": {},
   "outputs": [
    {
     "data": {
      "text/plain": [
       "[<matplotlib.lines.Line2D at 0x2d0ea8df0>]"
      ]
     },
     "execution_count": 31,
     "metadata": {},
     "output_type": "execute_result"
    },
    {
     "data": {
      "image/png": "[encoded data removed]",
      "text/plain": [
       "<Figure size 432x288 with 1 Axes>"
      ]
     },
     "metadata": {
      "needs_background": "light"
     },
     "output_type": "display_data"
    }
   ],
   "source": [
    "plt.plot(y_test[:,0,0])"
   ]
  },
  {
   "cell_type": "code",
   "execution_count": 32,
   "metadata": {},
   "outputs": [
    {
     "data": {
      "text/plain": [
       "[<matplotlib.lines.Line2D at 0x2d0e16970>]"
      ]
     },
     "execution_count": 32,
     "metadata": {},
     "output_type": "execute_result"
    },
    {
     "data": {
      "image/png": "[encoded data removed]",
      "text/plain": [
       "<Figure size 432x288 with 1 Axes>"
      ]
     },
     "metadata": {
      "needs_background": "light"
     },
     "output_type": "display_data"
    }
   ],
   "source": [
    "plt.plot(y_val[:,0,0])"
   ]
  },
  {
   "cell_type": "code",
   "execution_count": 33,
   "metadata": {},
   "outputs": [
    {
     "data": {
      "text/plain": [
       "<tf.Tensor: shape=(), dtype=float32, numpy=-1.5154082>"
      ]
     },
     "execution_count": 33,
     "metadata": {},
     "output_type": "execute_result"
    }
   ],
   "source": [
    "sum_nll/n_T/100"
   ]
  },
  {
   "cell_type": "code",
   "execution_count": 34,
   "metadata": {},
   "outputs": [
    {
     "data": {
      "text/plain": [
       "<tf.Tensor: shape=(), dtype=float32, numpy=-1.7052623>"
      ]
     },
     "execution_count": 34,
     "metadata": {},
     "output_type": "execute_result"
    }
   ],
   "source": [
    "nllx"
   ]
  },
  {
   "cell_type": "code",
   "execution_count": 35,
   "metadata": {},
   "outputs": [
    {
     "data": {
      "text/plain": [
       "<tf.Tensor: shape=(), dtype=float32, numpy=0.0017760954>"
      ]
     },
     "execution_count": 35,
     "metadata": {},
     "output_type": "execute_result"
    }
   ],
   "source": [
    "msex"
   ]
  },
  {
   "cell_type": "code",
   "execution_count": null,
   "metadata": {},
   "outputs": [],
   "source": []
  }
 ],
 "metadata": {
  "kernelspec": {
   "display_name": "Python 3 (ipykernel)",
   "language": "python",
   "name": "python3"
  },
  "language_info": {
   "codemirror_mode": {
    "name": "ipython",
    "version": 3
   },
   "file_extension": ".py",
   "mimetype": "text/x-python",
   "name": "python",
   "nbconvert_exporter": "python",
   "pygments_lexer": "ipython3",
   "version": "3.8.13"
  }
 },
 "nbformat": 4,
 "nbformat_minor": 4
}
