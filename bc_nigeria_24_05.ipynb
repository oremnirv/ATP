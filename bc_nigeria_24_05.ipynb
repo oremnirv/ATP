{
 "cells": [
  {
   "cell_type": "code",
   "execution_count": 1,
   "metadata": {},
   "outputs": [],
   "source": [
    "%config Completer.use_jedi = False"
   ]
  },
  {
   "cell_type": "code",
   "execution_count": 2,
   "metadata": {},
   "outputs": [],
   "source": [
    "import sys\n",
    "from model import atp_graph, atp_pipeline, model_init\n",
    "import matplotlib.pyplot as plt\n",
    "import tensorflow as tf\n",
    "import numpy as np\n",
    "import time\n",
    "import os\n",
    "plt.style.use('ggplot')\n",
    "import pandas as pd\n",
    "%matplotlib inline\n",
    "from data_wrangler import batcher\n",
    "import warnings\n",
    "warnings.filterwarnings(\"ignore\")"
   ]
  },
  {
   "cell_type": "code",
   "execution_count": 3,
   "metadata": {},
   "outputs": [],
   "source": [
    "gcm_nigeria = pd.read_csv(\"/Users/omernivron/Downloads/hw2/ipsl.csv\").iloc[:, 3:]\n",
    "era_nigeria = pd.read_csv(\"/Users/omernivron/Downloads/hw2/era.csv\").iloc[:, 4:]"
   ]
  },
  {
   "cell_type": "code",
   "execution_count": 4,
   "metadata": {},
   "outputs": [],
   "source": [
    "era_nigeria = era_nigeria[(era_nigeria.year >= 1948) & (era_nigeria.year < 2015)]\n",
    "gcm_nigeria = gcm_nigeria[(gcm_nigeria.year >= 1948) & (gcm_nigeria.year < 2015) & (gcm_nigeria.axis_nbounds == 0)]"
   ]
  },
  {
   "cell_type": "code",
   "execution_count": 5,
   "metadata": {},
   "outputs": [],
   "source": [
    "df = gcm_nigeria.groupby(['lat', 'lon']).mean().reset_index()\n",
    "df['loc_key'] = np.arange(df.shape[0])\n",
    "df = df[['lat', 'lon', 'loc_key']]\n",
    "gcm_nigeria = pd.merge(gcm_nigeria, df, how='left', on=['lat', 'lon'])"
   ]
  },
  {
   "cell_type": "code",
   "execution_count": 6,
   "metadata": {},
   "outputs": [],
   "source": [
    "df_e = era_nigeria.groupby(['lat', 'lon']).mean().reset_index()\n",
    "df_e['loc_key'] = np.arange(df_e.shape[0])\n",
    "df_e = df_e[['lat', 'lon', 'loc_key']]\n",
    "era_nigeria = pd.merge(era_nigeria, df_e, how='left', on=['lat', 'lon'])"
   ]
  },
  {
   "cell_type": "code",
   "execution_count": 7,
   "metadata": {},
   "outputs": [],
   "source": [
    "era_nigeria['t'] = era_nigeria['year'] + ((era_nigeria['month'] - 1)/ 12) + ((era_nigeria['day'] - 1)/ (12 *31))\n",
    "gcm_nigeria['t'] = gcm_nigeria['year'] + ((gcm_nigeria['month'] - 1)/ 12)+ ((gcm_nigeria['day'] - 1)/ (12 *31))"
   ]
  },
  {
   "cell_type": "code",
   "execution_count": 8,
   "metadata": {},
   "outputs": [],
   "source": [
    "era_mon_nigeria = era_nigeria.groupby(['grid_val','loc_key','t']).mean().reset_index()\n",
    "gcm_mon_nigeria = gcm_nigeria.groupby(['grid_val','loc_key', 't']).mean().reset_index()"
   ]
  },
  {
   "cell_type": "code",
   "execution_count": 11,
   "metadata": {},
   "outputs": [],
   "source": [
    "era_mon_nigeria['tmax'] = era_mon_nigeria['tmax'] - 273.15 \n",
    "gcm_mon_nigeria['tasmax'] = gcm_mon_nigeria['tasmax'] - 273.15 "
   ]
  },
  {
   "cell_type": "code",
   "execution_count": 12,
   "metadata": {},
   "outputs": [],
   "source": [
    "μ_era_past = era_mon_nigeria[(era_mon_nigeria.t > 1948) & (era_mon_nigeria.t  < 1989)].groupby(['grid_val', 'loc_key']).mean()['tmax'].reset_index()\n",
    "μ_gcm_past = gcm_mon_nigeria[(gcm_mon_nigeria.t > 1948) & (gcm_mon_nigeria.t  < 1989)].groupby(['grid_val', 'loc_key']).mean()['tasmax'].reset_index()\n",
    "\n",
    "σ_era_past = era_mon_nigeria[(era_mon_nigeria.t > 1948) & (era_mon_nigeria.t  < 1989)].groupby(['grid_val', 'loc_key']).std()['tmax'].reset_index()\n",
    "σ_gcm_past = gcm_mon_nigeria[(gcm_mon_nigeria.t > 1948) & (gcm_mon_nigeria.t  < 1989)].groupby(['grid_val', 'loc_key']).std()['tasmax'].reset_index()"
   ]
  },
  {
   "cell_type": "code",
   "execution_count": 13,
   "metadata": {},
   "outputs": [],
   "source": [
    "era_mon_nigeria = pd.merge(era_mon_nigeria, μ_era_past, on=['grid_val', 'loc_key'], how='left', suffixes=('', '_mu'))\n",
    "era_mon_nigeria = pd.merge(era_mon_nigeria, σ_era_past, on=['grid_val', 'loc_key'], how='left', suffixes=('', '_sigma'))\n"
   ]
  },
  {
   "cell_type": "code",
   "execution_count": 14,
   "metadata": {},
   "outputs": [],
   "source": [
    "gcm_mon_nigeria = pd.merge(gcm_mon_nigeria, μ_gcm_past, on=['grid_val', 'loc_key'], how='left', suffixes=('', '_mu'))\n",
    "gcm_mon_nigeria = pd.merge(gcm_mon_nigeria, σ_gcm_past, on=['grid_val', 'loc_key'], how='left', suffixes=('', '_sigma'))"
   ]
  },
  {
   "cell_type": "code",
   "execution_count": 15,
   "metadata": {},
   "outputs": [],
   "source": [
    "era_mon_nigeria = era_mon_nigeria[era_mon_nigeria.grid_val!=25]\n",
    "era_mon_nigeria = era_mon_nigeria[era_mon_nigeria.grid_val!=8]\n",
    "gcm_mon_nigeria = gcm_mon_nigeria[gcm_mon_nigeria.grid_val!=25]"
   ]
  },
  {
   "cell_type": "code",
   "execution_count": 16,
   "metadata": {},
   "outputs": [],
   "source": [
    "era_mon_nigeria['era_adj_tmax'] = (era_mon_nigeria.tmax - era_mon_nigeria.tmax_mu) / era_mon_nigeria.tmax_sigma \n",
    "gcm_mon_nigeria['gcm_adj_tasmax'] = (gcm_mon_nigeria.tasmax - gcm_mon_nigeria.tasmax_mu) / gcm_mon_nigeria.tasmax_sigma"
   ]
  },
  {
   "cell_type": "code",
   "execution_count": 17,
   "metadata": {},
   "outputs": [
    {
     "data": {
      "image/png": "[encoded data removed]",
      "text/plain": [
       "<Figure size 432x288 with 1 Axes>"
      ]
     },
     "metadata": {
      "needs_background": "light"
     },
     "output_type": "display_data"
    }
   ],
   "source": [
    "\n",
    "a = era_mon_nigeria.groupby(['lat', 'lon']).mean().reset_index()\n",
    "b = gcm_mon_nigeria.groupby(['lat', 'lon']).mean().reset_index()\n",
    "plt.scatter(a['lat'], a['lon'], c='orange')\n",
    "plt.scatter(b['lat'], b['lon'], c='b') \n",
    "for i in range(a.shape[0]):\n",
    "    plt.text(a['lat'][i], a['lon'][i], str(a['grid_val'][i]), c='orange')\n",
    "for i in range(b.shape[0]):\n",
    "    plt.text(b['lat'][i], b['lon'][i], str(b['grid_val'][i]), c='b')"
   ]
  },
  {
   "cell_type": "code",
   "execution_count": 18,
   "metadata": {},
   "outputs": [],
   "source": [
    "# prepare data for batcher_bc\n",
    "array = pd.merge(era_mon_nigeria, gcm_mon_nigeria, on=['grid_val', 't'], how='inner', suffixes=('', '_gcm'))\n",
    "### check if merge is correct\n",
    "# array.loc[array.grid_val==r_grid_val, ['loc_key', 'loc_key_gcm', 't', 'adj_tmax', 'adj_tasmax']]\n",
    "####"
   ]
  },
  {
   "cell_type": "code",
   "execution_count": 19,
   "metadata": {},
   "outputs": [
    {
     "name": "stdout",
     "output_type": "stream",
     "text": [
      "Metal device set to: Apple M1 Max\n",
      "\n",
      "systemMemory: 64.00 GB\n",
      "maxCacheSize: 24.00 GB\n",
      "\n"
     ]
    },
    {
     "name": "stderr",
     "output_type": "stream",
     "text": [
      "2023-06-01 13:22:44.189340: I tensorflow/core/common_runtime/pluggable_device/pluggable_device_factory.cc:305] Could not identify NUMA node of platform GPU ID 0, defaulting to 0. Your kernel may not have been built with NUMA support.\n",
      "2023-06-01 13:22:44.189523: I tensorflow/core/common_runtime/pluggable_device/pluggable_device_factory.cc:271] Created TensorFlow device (/job:localhost/replica:0/task:0/device:GPU:0 with 0 MB memory) -> physical PluggableDevice (device: 0, name: METAL, pci bus id: <undefined>)\n"
     ]
    }
   ],
   "source": [
    "m = model_init.model_init('leak', 2, 'forecasting/bc/', multiply = 2, bc=True, subsample = False)\n",
    "ckpt, manager = m.load_model()"
   ]
  },
  {
   "cell_type": "code",
   "execution_count": 18,
   "metadata": {},
   "outputs": [],
   "source": [
    "r_grid_val = np.random.choice(np.unique(array.grid_val), 1)[0]\n",
    "r_loc_key = np.random.choice(np.unique(array.loc[array.grid_val==r_grid_val, ['loc_key_gcm']]), 1)[0]\n",
    "arr_temp = array.loc[(array.t < 1989) & (array.grid_val==r_grid_val) & (array.loc_key_gcm == r_loc_key), ['t', 'gcm_adj_tasmax', 'era_adj_tmax']].reset_index(drop=True)\n",
    "x, y = batcher.batcher_bc(np.array(arr_temp.reset_index(drop=True)), 180, batch_size=32)"
   ]
  },
  {
   "cell_type": "code",
   "execution_count": 19,
   "metadata": {},
   "outputs": [
    {
     "name": "stdout",
     "output_type": "stream",
     "text": [
      "subsample: False\n",
      "multiply: 2\n",
      "bc: True\n",
      "x shape: (32, 360, 1)\n",
      "y shape: (32, 360, 1)\n",
      "x.shape (32, 360, 1)\n"
     ]
    },
    {
     "ename": "InvalidArgumentError",
     "evalue": "Exception encountered when calling layer \"atp_pipeline\" (type atp_pipeline).\n\nindex innermost dimension length must be <= params rank; saw:  [Op:GatherNd]\n\nCall arguments received:\n  • inputs=['tf.Tensor(shape=(32, 360, 1), dtype=float32)', 'tf.Tensor(shape=(32, 360, 1), dtype=float32)', ['tf.Tensor(shape=(), dtype=int32)', 'tf.Tensor(shape=(), dtype=int32)'], ['tf.Tensor(shape=(), dtype=int32)', 'tf.Tensor(shape=(), dtype=int32)'], 'tf.Tensor(shape=(), dtype=bool)', ['tf.Tensor(shape=(), dtype=int32)', 'tf.Tensor(shape=(), dtype=int32)'], ['tf.Tensor(shape=(), dtype=int32)', 'tf.Tensor(shape=(), dtype=int32)']]",
     "output_type": "error",
     "traceback": [
      "\u001b[0;31m---------------------------------------------------------------------------\u001b[0m",
      "\u001b[0;31mInvalidArgumentError\u001b[0m                      Traceback (most recent call last)",
      "\u001b[1;32m/Users/omernivron/Documents/ATP/bc_nigeria_24_05.ipynb Cell 19\u001b[0m in \u001b[0;36m<cell line: 7>\u001b[0;34m()\u001b[0m\n\u001b[1;32m      <a href='vscode-notebook-cell:/Users/omernivron/Documents/ATP/bc_nigeria_24_05.ipynb#X25sZmlsZQ%3D%3D?line=4'>5</a>\u001b[0m n_C_s \u001b[39m=\u001b[39m [\u001b[39m0\u001b[39m, \u001b[39m0\u001b[39m]\n\u001b[1;32m      <a href='vscode-notebook-cell:/Users/omernivron/Documents/ATP/bc_nigeria_24_05.ipynb#X25sZmlsZQ%3D%3D?line=5'>6</a>\u001b[0m n_T_s \u001b[39m=\u001b[39m [\u001b[39m0\u001b[39m, \u001b[39m0\u001b[39m]\n\u001b[0;32m----> <a href='vscode-notebook-cell:/Users/omernivron/Documents/ATP/bc_nigeria_24_05.ipynb#X25sZmlsZQ%3D%3D?line=6'>7</a>\u001b[0m mu , sig, y1 \u001b[39m=\u001b[39m m\u001b[39m.\u001b[39;49mmodel([x, y[:, :, np\u001b[39m.\u001b[39;49mnewaxis], n_C, n_T, \u001b[39mTrue\u001b[39;49;00m, n_C_s, n_T_s])\n",
      "File \u001b[0;32m~/miniforge3/envs/tf_m1_n/lib/python3.8/site-packages/keras/utils/traceback_utils.py:67\u001b[0m, in \u001b[0;36mfilter_traceback.<locals>.error_handler\u001b[0;34m(*args, **kwargs)\u001b[0m\n\u001b[1;32m     65\u001b[0m \u001b[39mexcept\u001b[39;00m \u001b[39mException\u001b[39;00m \u001b[39mas\u001b[39;00m e:  \u001b[39m# pylint: disable=broad-except\u001b[39;00m\n\u001b[1;32m     66\u001b[0m   filtered_tb \u001b[39m=\u001b[39m _process_traceback_frames(e\u001b[39m.\u001b[39m__traceback__)\n\u001b[0;32m---> 67\u001b[0m   \u001b[39mraise\u001b[39;00m e\u001b[39m.\u001b[39mwith_traceback(filtered_tb) \u001b[39mfrom\u001b[39;00m \u001b[39mNone\u001b[39m\n\u001b[1;32m     68\u001b[0m \u001b[39mfinally\u001b[39;00m:\n\u001b[1;32m     69\u001b[0m   \u001b[39mdel\u001b[39;00m filtered_tb\n",
      "File \u001b[0;32m~/Documents/ATP/model/atp_pipeline.py:144\u001b[0m, in \u001b[0;36matp_pipeline.call\u001b[0;34m(self, inputs)\u001b[0m\n\u001b[1;32m    140\u001b[0m     inputs_for_processing \u001b[39m=\u001b[39m [x_emb, y, y_diff, x_diff, d, x_n, y_n]\n\u001b[1;32m    142\u001b[0m \u001b[39melse\u001b[39;00m:  \n\u001b[1;32m    143\u001b[0m     \u001b[39m# # the end sequence will be (y_11,.., y_1n_C, y21, ..y_2n_C, y1*, y2*, ..yk*, y1**, y2**, ..yk**)\u001b[39;00m\n\u001b[0;32m--> 144\u001b[0m     inputs_for_processing, y, y_n, _, _ \u001b[39m=\u001b[39m \u001b[39mself\u001b[39;49m\u001b[39m.\u001b[39;49minputs_for_multi_ts(x, y, n_C, n_T, n_C_s, n_T_s)\n\u001b[1;32m    145\u001b[0m     \u001b[39mif\u001b[39;00m (\u001b[39mself\u001b[39m\u001b[39m.\u001b[39m_subsample):\n\u001b[1;32m    146\u001b[0m         n_C \u001b[39m=\u001b[39m n_C_s\n",
      "File \u001b[0;32m~/Documents/ATP/model/atp_pipeline.py:68\u001b[0m, in \u001b[0;36matp_pipeline.inputs_for_multi_ts\u001b[0;34m(self, x, y, n_C, n_T, n_C_s, n_T_s)\u001b[0m\n\u001b[1;32m     66\u001b[0m \u001b[39melse\u001b[39;00m:\n\u001b[1;32m     67\u001b[0m     \u001b[39mprint\u001b[39m(\u001b[39m\"\u001b[39m\u001b[39mx.shape\u001b[39m\u001b[39m\"\u001b[39m, x\u001b[39m.\u001b[39mshape)\n\u001b[0;32m---> 68\u001b[0m     x_temp \u001b[39m=\u001b[39m tf\u001b[39m.\u001b[39;49mgather_nd(x, tf\u001b[39m.\u001b[39;49mrange(ts_start, ts_end))\n\u001b[1;32m     69\u001b[0m     \u001b[39mprint\u001b[39m(\u001b[39m\"\u001b[39m\u001b[39mx_temp.shape\u001b[39m\u001b[39m\"\u001b[39m, x_temp\u001b[39m.\u001b[39mshape)\n\u001b[1;32m     70\u001b[0m     \u001b[39m# x[:, ts_start:ts_end, :]\u001b[39;00m\n",
      "\u001b[0;31mInvalidArgumentError\u001b[0m: Exception encountered when calling layer \"atp_pipeline\" (type atp_pipeline).\n\nindex innermost dimension length must be <= params rank; saw:  [Op:GatherNd]\n\nCall arguments received:\n  • inputs=['tf.Tensor(shape=(32, 360, 1), dtype=float32)', 'tf.Tensor(shape=(32, 360, 1), dtype=float32)', ['tf.Tensor(shape=(), dtype=int32)', 'tf.Tensor(shape=(), dtype=int32)'], ['tf.Tensor(shape=(), dtype=int32)', 'tf.Tensor(shape=(), dtype=int32)'], 'tf.Tensor(shape=(), dtype=bool)', ['tf.Tensor(shape=(), dtype=int32)', 'tf.Tensor(shape=(), dtype=int32)'], ['tf.Tensor(shape=(), dtype=int32)', 'tf.Tensor(shape=(), dtype=int32)']]"
     ]
    }
   ],
   "source": [
    "## x dim batch_size, seq_len, alpha\n",
    "## y dim batch_size, seq_len\n",
    "n_C = [180, 90]\n",
    "n_T = [0, 90]\n",
    "n_C_s = [0, 0]\n",
    "n_T_s = [0, 0]\n",
    "mu , sig, y1 = m.model([x, y[:, :, np.newaxis], n_C, n_T, True, n_C_s, n_T_s])"
   ]
  },
  {
   "cell_type": "code",
   "execution_count": 20,
   "metadata": {},
   "outputs": [],
   "source": [
    "tr_step = atp_graph.build_graph()"
   ]
  },
  {
   "cell_type": "code",
   "execution_count": 21,
   "metadata": {},
   "outputs": [],
   "source": [
    "optimizer = tf.keras.optimizers.Adam(learning_rate=3e-4)"
   ]
  },
  {
   "cell_type": "code",
   "execution_count": 22,
   "metadata": {},
   "outputs": [],
   "source": [
    "import IPython\n",
    "from model import losses"
   ]
  },
  {
   "cell_type": "code",
   "execution_count": 23,
   "metadata": {},
   "outputs": [],
   "source": [
    "n_C = np.array([180, 90])\n",
    "n_T = np.array([0, 45])\n",
    "n_C_s = np.array([0, 0])\n",
    "n_T_s = np.array([0, 0])\n",
    "n_T_tot = 45\n",
    "n_C_tot = 270"
   ]
  },
  {
   "cell_type": "code",
   "execution_count": 22,
   "metadata": {},
   "outputs": [
    {
     "name": "stdout",
     "output_type": "stream",
     "text": [
      "subsample: False\n",
      "multiply: 2\n",
      "bc: True\n",
      "x shape: (32, 360, 1)\n",
      "y shape: (32, 360, 1)\n",
      "x.shape (32, 360, 1)\n",
      "x_temp.shape Tensor(\"atp_pipeline/Shape:0\", shape=(3,), dtype=int32)\n",
      "1d\n",
      "#######\n",
      "Tensor(\"atp_pipeline/de/cond/ones:0\", shape=(None, None), dtype=float32)\n",
      "Tensor(\"atp_pipeline/de/cond/ones_1:0\", shape=(None, None), dtype=bool)\n",
      "#######\n",
      "x.shape (32, 360, 1)\n",
      "x_temp.shape Tensor(\"atp_pipeline/Shape_1:0\", shape=(3,), dtype=int32)\n",
      "1d\n",
      "#######\n",
      "Tensor(\"atp_pipeline/de/cond_1/ones:0\", shape=(None, None), dtype=float32)\n",
      "Tensor(\"atp_pipeline/de/cond_1/ones_1:0\", shape=(None, None), dtype=bool)\n",
      "#######\n",
      "here\n",
      "FEATURE WRAPPER\n",
      "x_emb:  (32, None, 34)\n",
      "y:  (32, None, 1)\n",
      "y_diff:  (32, None, 1)\n",
      "x_diff:  (32, None, 1)\n",
      "d:  (32, None, 2)\n",
      "x_n:  (32, None, 1)\n",
      "y_n:  (32, None, 1)\n",
      "n_C:  Tensor(\"atp_pipeline/Const_2:0\", shape=(), dtype=int32)\n",
      "n_T:  Tensor(\"atp_pipeline/Const_3:0\", shape=(), dtype=int32)\n",
      "END FEATURE WRAPPER\n",
      "x_prime:  (32, None, 36)\n",
      "n_C pre-mask: 270\n",
      "n_T pre-mask: 45\n",
      "n_C:  270\n",
      "n_T:  45\n",
      "diagonal_mask:  (315, 315)\n",
      "subsample: False\n",
      "multiply: 2\n",
      "bc: True\n",
      "x shape: (32, 360, 1)\n",
      "y shape: (32, 360, 1)\n",
      "x.shape (32, 360, 1)\n",
      "x_temp.shape Tensor(\"atp_pipeline/Shape:0\", shape=(3,), dtype=int32)\n",
      "1d\n",
      "#######\n",
      "Tensor(\"atp_pipeline/de/cond/ones:0\", shape=(None, None), dtype=float32)\n",
      "Tensor(\"atp_pipeline/de/cond/ones_1:0\", shape=(None, None), dtype=bool)\n",
      "#######\n",
      "x.shape (32, 360, 1)\n",
      "x_temp.shape Tensor(\"atp_pipeline/Shape_1:0\", shape=(3,), dtype=int32)\n",
      "1d\n",
      "#######\n",
      "Tensor(\"atp_pipeline/de/cond_1/ones:0\", shape=(None, None), dtype=float32)\n",
      "Tensor(\"atp_pipeline/de/cond_1/ones_1:0\", shape=(None, None), dtype=bool)\n",
      "#######\n",
      "here\n",
      "FEATURE WRAPPER\n",
      "x_emb:  (32, None, 34)\n",
      "y:  (32, None, 1)\n",
      "y_diff:  (32, None, 1)\n",
      "x_diff:  (32, None, 1)\n",
      "d:  (32, None, 2)\n",
      "x_n:  (32, None, 1)\n",
      "y_n:  (32, None, 1)\n",
      "n_C:  Tensor(\"atp_pipeline/Const_2:0\", shape=(), dtype=int32)\n",
      "n_T:  Tensor(\"atp_pipeline/Const_3:0\", shape=(), dtype=int32)\n",
      "END FEATURE WRAPPER\n",
      "x_prime:  (32, None, 36)\n",
      "n_C pre-mask: 270\n",
      "n_T pre-mask: 45\n",
      "n_C:  270\n",
      "n_T:  45\n",
      "diagonal_mask:  (315, 315)\n"
     ]
    },
    {
     "name": "stderr",
     "output_type": "stream",
     "text": [
      "2023-06-01 12:45:25.561667: W tensorflow/core/platform/profile_utils/cpu_utils.cc:128] Failed to get CPU frequency: 0 Hz\n",
      "2023-06-01 12:45:25.563355: I tensorflow/core/grappler/optimizers/custom_graph_optimizer_registry.cc:113] Plugin optimizer for device_type GPU is enabled.\n"
     ]
    },
    {
     "name": "stdout",
     "output_type": "stream",
     "text": [
      "subsample: False\n",
      "multiply: 2\n",
      "bc: True\n",
      "x shape: (32, 360, 1)\n",
      "y shape: (32, 360, 1)\n",
      "x.shape (32, 360, 1)\n",
      "x_temp.shape tf.Tensor([ 32 180   1], shape=(3,), dtype=int32)\n",
      "1d\n",
      "x.shape (32, 360, 1)\n",
      "x_temp.shape tf.Tensor([ 32 135   1], shape=(3,), dtype=int32)\n",
      "1d\n",
      "#######\n",
      "tf.Tensor(\n",
      "[[1. 1. 1. ... 1. 1. 1.]\n",
      " [1. 1. 1. ... 1. 1. 1.]\n",
      " [1. 1. 1. ... 1. 1. 1.]\n",
      " ...\n",
      " [1. 1. 1. ... 1. 1. 1.]\n",
      " [1. 1. 1. ... 1. 1. 1.]\n",
      " [1. 1. 1. ... 1. 1. 1.]], shape=(45, 135), dtype=float32)\n",
      "tf.Tensor(\n",
      "[[ True  True  True ...  True  True  True]\n",
      " [ True  True  True ...  True  True  True]\n",
      " [ True  True  True ...  True  True  True]\n",
      " ...\n",
      " [ True  True  True ...  True  True  True]\n",
      " [ True  True  True ...  True  True  True]\n",
      " [ True  True  True ...  True  True  True]], shape=(45, 135), dtype=bool)\n",
      "#######\n",
      "here\n",
      "FEATURE WRAPPER\n",
      "x_emb:  (32, 315, 34)\n",
      "y:  (32, 315, 1)\n",
      "y_diff:  (32, 315, 1)\n",
      "x_diff:  (32, 315, 1)\n",
      "d:  (32, 315, 2)\n",
      "x_n:  (32, 315, 1)\n",
      "y_n:  (32, 315, 1)\n",
      "n_C:  tf.Tensor(270, shape=(), dtype=int32)\n",
      "n_T:  tf.Tensor(45, shape=(), dtype=int32)\n",
      "END FEATURE WRAPPER\n",
      "x_prime:  (32, 315, 36)\n",
      "n_C pre-mask: 270\n",
      "n_T pre-mask: 45\n",
      "n_C:  270\n",
      "n_T:  45\n",
      "diagonal_mask:  (315, 315)\n"
     ]
    },
    {
     "ename": "ValueError",
     "evalue": "too many values to unpack (expected 4)",
     "output_type": "error",
     "traceback": [
      "\u001b[0;31m---------------------------------------------------------------------------\u001b[0m",
      "\u001b[0;31mValueError\u001b[0m                                Traceback (most recent call last)",
      "\u001b[1;32m/Users/omernivron/Documents/ATP/bc_nigeria_24_05.ipynb Cell 24\u001b[0m in \u001b[0;36m<cell line: 4>\u001b[0;34m()\u001b[0m\n\u001b[1;32m     <a href='vscode-notebook-cell:/Users/omernivron/Documents/ATP/bc_nigeria_24_05.ipynb#X33sZmlsZQ%3D%3D?line=15'>16</a>\u001b[0m x, y \u001b[39m=\u001b[39m batcher\u001b[39m.\u001b[39mbatcher_bc(np\u001b[39m.\u001b[39marray(arr_temp\u001b[39m.\u001b[39mreset_index(drop\u001b[39m=\u001b[39m\u001b[39mTrue\u001b[39;00m)), \u001b[39m180\u001b[39m, batch_size\u001b[39m=\u001b[39m\u001b[39m32\u001b[39m)\n\u001b[1;32m     <a href='vscode-notebook-cell:/Users/omernivron/Documents/ATP/bc_nigeria_24_05.ipynb#X33sZmlsZQ%3D%3D?line=16'>17</a>\u001b[0m μ , log_sig, y1 \u001b[39m=\u001b[39m m\u001b[39m.\u001b[39mmodel([x, y[:, :, np\u001b[39m.\u001b[39mnewaxis], n_C, n_T, \u001b[39mFalse\u001b[39;00m, n_C_s, n_T_s])\n\u001b[0;32m---> <a href='vscode-notebook-cell:/Users/omernivron/Documents/ATP/bc_nigeria_24_05.ipynb#X33sZmlsZQ%3D%3D?line=17'>18</a>\u001b[0m _, _, likpp, mse \u001b[39m=\u001b[39m losses\u001b[39m.\u001b[39mnll(y1, μ, log_sig)\n\u001b[1;32m     <a href='vscode-notebook-cell:/Users/omernivron/Documents/ATP/bc_nigeria_24_05.ipynb#X33sZmlsZQ%3D%3D?line=18'>19</a>\u001b[0m \u001b[39mif\u001b[39;00m likpp \u001b[39m<\u001b[39m mini:\n\u001b[1;32m     <a href='vscode-notebook-cell:/Users/omernivron/Documents/ATP/bc_nigeria_24_05.ipynb#X33sZmlsZQ%3D%3D?line=19'>20</a>\u001b[0m     mini \u001b[39m=\u001b[39m likpp\n",
      "\u001b[0;31mValueError\u001b[0m: too many values to unpack (expected 4)"
     ]
    }
   ],
   "source": [
    "mini = 1000\n",
    "EPOCHS = 100\n",
    "num_batches = int(array.shape[0] / 32)\n",
    "for epoch in range(EPOCHS):\n",
    "    start = time.time()\n",
    "    for batch_n in range(num_batches):\n",
    "        r_grid_val = np.random.choice(np.unique(array.grid_val), 1)[0]\n",
    "        r_loc_key = np.random.choice(np.unique(array.loc[array.grid_val==r_grid_val, ['loc_key_gcm']]), 1)[0]\n",
    "        arr_temp = array.loc[(array.t < 1989) & (array.grid_val==r_grid_val) & (array.loc_key_gcm == r_loc_key), ['t', 'gcm_adj_tasmax', 'era_adj_tmax']].reset_index(drop=True)\n",
    "        x, y = batcher.batcher_bc(np.array(arr_temp.reset_index(drop=True)), 180, batch_size=32)\n",
    "        μ, log_sig, likpp, mse =  tr_step(m.model, optimizer, x, y[:, :, np.newaxis], n_C, n_T, training = True, n_C_s = n_C_s, n_T_s = n_T_s, n_T_tot = n_T_tot, n_C_tot = n_C_tot)\n",
    "        if ((batch_n % 100 == 0)):\n",
    "            r_grid_val = np.random.choice(np.unique(array.grid_val), 1)[0]\n",
    "            r_loc_key = np.random.choice(np.unique(array.loc[array.grid_val==r_grid_val, ['loc_key_gcm']]), 1)[0]\n",
    "            arr_temp = array.loc[(array.t >= 1989) & (array.grid_val==r_grid_val) & (array.loc_key_gcm == r_loc_key), ['t', 'gcm_adj_tasmax', 'era_adj_tmax']].reset_index(drop=True)\n",
    "            x, y = batcher.batcher_bc(np.array(arr_temp.reset_index(drop=True)), 180, batch_size=32)\n",
    "            μ , log_sig, y1 = m.model([x, y[:, :, np.newaxis], n_C, n_T, False, n_C_s, n_T_s, n_C_tot, n_T_tot])\n",
    "            _, _, _, likpp, mse = losses.nll(y1, μ, log_sig)\n",
    "            if likpp < mini:\n",
    "                mini = likpp\n",
    "                IPython.display.clear_output(wait=True)\n",
    "                print(\"epoch {} batch {} test lik pp: {}\".format(epoch, batch_n, likpp)) \n",
    "                plt.plot(y1[0, :], label='gt')\n",
    "                plt.plot(μ[0, :], label='pred')\n",
    "                plt.legend()\n",
    "                plt.show()\n",
    "                ckpt.step.assign_add(1)\n",
    "                manager.save()"
   ]
  },
  {
   "cell_type": "code",
   "execution_count": 25,
   "metadata": {},
   "outputs": [
    {
     "name": "stdout",
     "output_type": "stream",
     "text": [
      "2.8.0\n"
     ]
    }
   ],
   "source": [
    "print(tf.__version__)"
   ]
  },
  {
   "cell_type": "code",
   "execution_count": 25,
   "metadata": {},
   "outputs": [],
   "source": [
    "x = np.random.normal(0, 1, (2, 10))"
   ]
  },
  {
   "cell_type": "code",
   "execution_count": 31,
   "metadata": {},
   "outputs": [
    {
     "data": {
      "text/plain": [
       "(2, 10)"
      ]
     },
     "execution_count": 31,
     "metadata": {},
     "output_type": "execute_result"
    }
   ],
   "source": [
    "x.shape"
   ]
  },
  {
   "cell_type": "code",
   "execution_count": 26,
   "metadata": {},
   "outputs": [],
   "source": [
    "ts_start = 4\n",
    "ts_end = 8"
   ]
  },
  {
   "cell_type": "code",
   "execution_count": 34,
   "metadata": {},
   "outputs": [
    {
     "data": {
      "text/plain": [
       "<tf.Tensor: shape=(1, 4), dtype=int32, numpy=array([[4, 5, 6, 7]], dtype=int32)>"
      ]
     },
     "execution_count": 34,
     "metadata": {},
     "output_type": "execute_result"
    }
   ],
   "source": [
    "tf.reshape(tf.range(ts_start, ts_end), (1, -1))"
   ]
  },
  {
   "cell_type": "code",
   "execution_count": 42,
   "metadata": {},
   "outputs": [
    {
     "data": {
      "text/plain": [
       "(2, 10)"
      ]
     },
     "execution_count": 42,
     "metadata": {},
     "output_type": "execute_result"
    }
   ],
   "source": [
    "x.shape"
   ]
  },
  {
   "cell_type": "code",
   "execution_count": 40,
   "metadata": {},
   "outputs": [
    {
     "data": {
      "text/plain": [
       "<tf.Tensor: shape=(2, 4), dtype=int32, numpy=\n",
       "array([[4, 5, 6, 7],\n",
       "       [4, 5, 6, 7]], dtype=int32)>"
      ]
     },
     "execution_count": 40,
     "metadata": {},
     "output_type": "execute_result"
    }
   ],
   "source": [
    "p"
   ]
  },
  {
   "cell_type": "code",
   "execution_count": 46,
   "metadata": {},
   "outputs": [],
   "source": [
    "p = tf.repeat(tf.reshape(tf.range(ts_start, ts_end), (1, -1)), 1, axis=0)\n",
    "x_temp = tf.gather(x, indices = p, axis=1)\n"
   ]
  },
  {
   "cell_type": "code",
   "execution_count": 47,
   "metadata": {},
   "outputs": [
    {
     "data": {
      "text/plain": [
       "<tf.Tensor: shape=(2, 1, 4), dtype=float64, numpy=\n",
       "array([[[ 0.06327025, -1.51325949, -0.44097281, -0.14728801]],\n",
       "\n",
       "       [[ 0.89138603, -0.44479277,  0.47417843, -0.53936076]]])>"
      ]
     },
     "execution_count": 47,
     "metadata": {},
     "output_type": "execute_result"
    }
   ],
   "source": [
    "x_temp"
   ]
  },
  {
   "cell_type": "code",
   "execution_count": 48,
   "metadata": {},
   "outputs": [
    {
     "data": {
      "text/plain": [
       "array([[-0.2280183 , -0.04767794,  1.84492864, -0.52492692,  0.06327025,\n",
       "        -1.51325949, -0.44097281, -0.14728801,  1.00956708, -0.48982951],\n",
       "       [ 1.66513019, -0.23367672,  0.3690821 , -0.48533278,  0.89138603,\n",
       "        -0.44479277,  0.47417843, -0.53936076, -1.10765534, -1.62125557]])"
      ]
     },
     "execution_count": 48,
     "metadata": {},
     "output_type": "execute_result"
    }
   ],
   "source": [
    "x"
   ]
  },
  {
   "cell_type": "code",
   "execution_count": 24,
   "metadata": {},
   "outputs": [
    {
     "data": {
      "text/plain": [
       "<tf.Tensor: shape=(4,), dtype=int32, numpy=array([4, 5, 6, 7], dtype=int32)>"
      ]
     },
     "execution_count": 24,
     "metadata": {},
     "output_type": "execute_result"
    }
   ],
   "source": [
    "tf.range(ts_start, ts_end, dtype=tf.int32)"
   ]
  },
  {
   "cell_type": "code",
   "execution_count": null,
   "metadata": {},
   "outputs": [],
   "source": [
    "x_temp = tf.slice(x, ts_start, ts_end - ts_start, name=None)\n"
   ]
  },
  {
   "cell_type": "code",
   "execution_count": null,
   "metadata": {},
   "outputs": [],
   "source": [
    "# TO DO:\n",
    "# We want to have n_C and n_T with different sizes per time series"
   ]
  }
 ],
 "metadata": {
  "kernelspec": {
   "display_name": "tf_m1_n",
   "language": "python",
   "name": "python3"
  },
  "language_info": {
   "codemirror_mode": {
    "name": "ipython",
    "version": 3
   },
   "file_extension": ".py",
   "mimetype": "text/x-python",
   "name": "python",
   "nbconvert_exporter": "python",
   "pygments_lexer": "ipython3",
   "version": "3.8.13"
  },
  "orig_nbformat": 4
 },
 "nbformat": 4,
 "nbformat_minor": 2
}
