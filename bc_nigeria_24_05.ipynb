{
 "cells": [
  {
   "cell_type": "code",
   "execution_count": 1,
   "metadata": {},
   "outputs": [],
   "source": [
    "%config Completer.use_jedi = False"
   ]
  },
  {
   "cell_type": "code",
   "execution_count": 2,
   "metadata": {},
   "outputs": [],
   "source": [
    "import sys\n",
    "from model import atp_graph, atp_pipeline, model_init\n",
    "import matplotlib.pyplot as plt\n",
    "import tensorflow as tf\n",
    "import numpy as np\n",
    "import time\n",
    "import os\n",
    "plt.style.use('ggplot')\n",
    "import pandas as pd\n",
    "%matplotlib inline\n",
    "from data_wrangler import batcher\n",
    "import warnings\n",
    "warnings.filterwarnings(\"ignore\")\n",
    "import math as m"
   ]
  },
  {
   "cell_type": "code",
   "execution_count": 3,
   "metadata": {},
   "outputs": [],
   "source": [
    "gcm_nigeria = pd.read_csv(\"/Users/omernivron/Downloads/hw2/ipsl.csv\").iloc[:, 3:]\n",
    "era_nigeria = pd.read_csv(\"/Users/omernivron/Downloads/hw2/era.csv\").iloc[:, 4:]"
   ]
  },
  {
   "cell_type": "code",
   "execution_count": null,
   "metadata": {},
   "outputs": [],
   "source": [
    "era_nigeria = era_nigeria[(era_nigeria.year >= 1948) & (era_nigeria.year < 2015)]\n",
    "gcm_nigeria = gcm_nigeria[(gcm_nigeria.year >= 1948) & (gcm_nigeria.year < 2015) & (gcm_nigeria.axis_nbounds == 0)]"
   ]
  },
  {
   "cell_type": "code",
   "execution_count": null,
   "metadata": {},
   "outputs": [],
   "source": [
    "df = gcm_nigeria.groupby(['lat', 'lon']).mean().reset_index()\n",
    "df['loc_key'] = np.arange(df.shape[0])\n",
    "df = df[['lat', 'lon', 'loc_key']]\n",
    "gcm_nigeria = pd.merge(gcm_nigeria, df, how='left', on=['lat', 'lon'])"
   ]
  },
  {
   "cell_type": "code",
   "execution_count": null,
   "metadata": {},
   "outputs": [],
   "source": [
    "df_e = era_nigeria.groupby(['lat', 'lon']).mean().reset_index()\n",
    "df_e['loc_key'] = np.arange(df_e.shape[0])\n",
    "df_e = df_e[['lat', 'lon', 'loc_key']]\n",
    "era_nigeria = pd.merge(era_nigeria, df_e, how='left', on=['lat', 'lon'])"
   ]
  },
  {
   "cell_type": "code",
   "execution_count": null,
   "metadata": {},
   "outputs": [],
   "source": [
    "era_nigeria['t'] = era_nigeria['year'] + ((era_nigeria['month'] - 1)/ 12) + ((era_nigeria['day'] - 1)/ (12 *31))\n",
    "gcm_nigeria['t'] = gcm_nigeria['year'] + ((gcm_nigeria['month'] - 1)/ 12)+ ((gcm_nigeria['day'] - 1)/ (12 *31))"
   ]
  },
  {
   "cell_type": "code",
   "execution_count": null,
   "metadata": {},
   "outputs": [],
   "source": [
    "era_mon_nigeria = era_nigeria.groupby(['grid_val','loc_key','t']).mean().reset_index()\n",
    "gcm_mon_nigeria = gcm_nigeria.groupby(['grid_val','loc_key', 't']).mean().reset_index()"
   ]
  },
  {
   "cell_type": "code",
   "execution_count": null,
   "metadata": {},
   "outputs": [],
   "source": [
    "era_mon_nigeria['tmax'] = era_mon_nigeria['tmax'] - 273.15 \n",
    "gcm_mon_nigeria['tasmax'] = gcm_mon_nigeria['tasmax'] - 273.15 "
   ]
  },
  {
   "cell_type": "code",
   "execution_count": null,
   "metadata": {},
   "outputs": [],
   "source": [
    "μ_era_past = era_mon_nigeria[(era_mon_nigeria.t > 1948) & (era_mon_nigeria.t  < 1988)].groupby(['grid_val', 'loc_key']).mean()['tmax'].reset_index()\n",
    "μ_gcm_past = gcm_mon_nigeria[(gcm_mon_nigeria.t > 1948) & (gcm_mon_nigeria.t  < 1988)].groupby(['grid_val', 'loc_key']).mean()['tasmax'].reset_index()\n",
    "\n",
    "σ_era_past = era_mon_nigeria[(era_mon_nigeria.t > 1948) & (era_mon_nigeria.t  < 1988)].groupby(['grid_val', 'loc_key']).std()['tmax'].reset_index()\n",
    "σ_gcm_past = gcm_mon_nigeria[(gcm_mon_nigeria.t > 1948) & (gcm_mon_nigeria.t  < 1988)].groupby(['grid_val', 'loc_key']).std()['tasmax'].reset_index()"
   ]
  },
  {
   "cell_type": "code",
   "execution_count": null,
   "metadata": {},
   "outputs": [],
   "source": [
    "era_mon_nigeria = pd.merge(era_mon_nigeria, μ_era_past, on=['grid_val', 'loc_key'], how='left', suffixes=('', '_mu'))\n",
    "era_mon_nigeria = pd.merge(era_mon_nigeria, σ_era_past, on=['grid_val', 'loc_key'], how='left', suffixes=('', '_sigma'))\n"
   ]
  },
  {
   "cell_type": "code",
   "execution_count": null,
   "metadata": {},
   "outputs": [],
   "source": [
    "gcm_mon_nigeria = pd.merge(gcm_mon_nigeria, μ_gcm_past, on=['grid_val', 'loc_key'], how='left', suffixes=('', '_mu'))\n",
    "gcm_mon_nigeria = pd.merge(gcm_mon_nigeria, σ_gcm_past, on=['grid_val', 'loc_key'], how='left', suffixes=('', '_sigma'))"
   ]
  },
  {
   "cell_type": "code",
   "execution_count": null,
   "metadata": {},
   "outputs": [],
   "source": [
    "era_mon_nigeria = era_mon_nigeria[era_mon_nigeria.grid_val!=25]\n",
    "era_mon_nigeria = era_mon_nigeria[era_mon_nigeria.grid_val!=8]\n",
    "gcm_mon_nigeria = gcm_mon_nigeria[gcm_mon_nigeria.grid_val!=25]"
   ]
  },
  {
   "cell_type": "code",
   "execution_count": null,
   "metadata": {},
   "outputs": [],
   "source": [
    "era_mon_nigeria['era_adj_tmax'] = (era_mon_nigeria.tmax - era_mon_nigeria.tmax_mu) / era_mon_nigeria.tmax_sigma \n",
    "gcm_mon_nigeria['gcm_adj_tasmax'] = (gcm_mon_nigeria.tasmax - gcm_mon_nigeria.tasmax_mu) / gcm_mon_nigeria.tasmax_sigma"
   ]
  },
  {
   "cell_type": "code",
   "execution_count": null,
   "metadata": {},
   "outputs": [
    {
     "data": {
      "text/html": [
       "<div>\n",
       "<style scoped>\n",
       "    .dataframe tbody tr th:only-of-type {\n",
       "        vertical-align: middle;\n",
       "    }\n",
       "\n",
       "    .dataframe tbody tr th {\n",
       "        vertical-align: top;\n",
       "    }\n",
       "\n",
       "    .dataframe thead th {\n",
       "        text-align: right;\n",
       "    }\n",
       "</style>\n",
       "<table border=\"1\" class=\"dataframe\">\n",
       "  <thead>\n",
       "    <tr style=\"text-align: right;\">\n",
       "      <th></th>\n",
       "      <th>grid_val</th>\n",
       "      <th>loc_key</th>\n",
       "      <th>t</th>\n",
       "      <th>lat</th>\n",
       "      <th>lon</th>\n",
       "      <th>year</th>\n",
       "      <th>month</th>\n",
       "      <th>day</th>\n",
       "      <th>tmax</th>\n",
       "      <th>tmax_mu</th>\n",
       "      <th>tmax_sigma</th>\n",
       "      <th>era_adj_tmax</th>\n",
       "    </tr>\n",
       "  </thead>\n",
       "  <tbody>\n",
       "    <tr>\n",
       "      <th>0</th>\n",
       "      <td>7</td>\n",
       "      <td>4</td>\n",
       "      <td>1948.000000</td>\n",
       "      <td>6.66657</td>\n",
       "      <td>5.625</td>\n",
       "      <td>1948.0</td>\n",
       "      <td>1.0</td>\n",
       "      <td>1.0</td>\n",
       "      <td>25.65000</td>\n",
       "      <td>25.736254</td>\n",
       "      <td>1.984310</td>\n",
       "      <td>-0.043468</td>\n",
       "    </tr>\n",
       "    <tr>\n",
       "      <th>1</th>\n",
       "      <td>7</td>\n",
       "      <td>4</td>\n",
       "      <td>1948.002688</td>\n",
       "      <td>6.66657</td>\n",
       "      <td>5.625</td>\n",
       "      <td>1948.0</td>\n",
       "      <td>1.0</td>\n",
       "      <td>2.0</td>\n",
       "      <td>25.19998</td>\n",
       "      <td>25.736254</td>\n",
       "      <td>1.984310</td>\n",
       "      <td>-0.270257</td>\n",
       "    </tr>\n",
       "    <tr>\n",
       "      <th>2</th>\n",
       "      <td>7</td>\n",
       "      <td>4</td>\n",
       "      <td>1948.005376</td>\n",
       "      <td>6.66657</td>\n",
       "      <td>5.625</td>\n",
       "      <td>1948.0</td>\n",
       "      <td>1.0</td>\n",
       "      <td>3.0</td>\n",
       "      <td>25.85000</td>\n",
       "      <td>25.736254</td>\n",
       "      <td>1.984310</td>\n",
       "      <td>0.057322</td>\n",
       "    </tr>\n",
       "    <tr>\n",
       "      <th>3</th>\n",
       "      <td>7</td>\n",
       "      <td>4</td>\n",
       "      <td>1948.008065</td>\n",
       "      <td>6.66657</td>\n",
       "      <td>5.625</td>\n",
       "      <td>1948.0</td>\n",
       "      <td>1.0</td>\n",
       "      <td>4.0</td>\n",
       "      <td>26.82500</td>\n",
       "      <td>25.736254</td>\n",
       "      <td>1.984310</td>\n",
       "      <td>0.548677</td>\n",
       "    </tr>\n",
       "    <tr>\n",
       "      <th>4</th>\n",
       "      <td>7</td>\n",
       "      <td>4</td>\n",
       "      <td>1948.010753</td>\n",
       "      <td>6.66657</td>\n",
       "      <td>5.625</td>\n",
       "      <td>1948.0</td>\n",
       "      <td>1.0</td>\n",
       "      <td>5.0</td>\n",
       "      <td>26.47500</td>\n",
       "      <td>25.736254</td>\n",
       "      <td>1.984310</td>\n",
       "      <td>0.372293</td>\n",
       "    </tr>\n",
       "    <tr>\n",
       "      <th>...</th>\n",
       "      <td>...</td>\n",
       "      <td>...</td>\n",
       "      <td>...</td>\n",
       "      <td>...</td>\n",
       "      <td>...</td>\n",
       "      <td>...</td>\n",
       "      <td>...</td>\n",
       "      <td>...</td>\n",
       "      <td>...</td>\n",
       "      <td>...</td>\n",
       "      <td>...</td>\n",
       "      <td>...</td>\n",
       "    </tr>\n",
       "    <tr>\n",
       "      <th>367075</th>\n",
       "      <td>24</td>\n",
       "      <td>15</td>\n",
       "      <td>2014.986559</td>\n",
       "      <td>10.47604</td>\n",
       "      <td>11.250</td>\n",
       "      <td>2014.0</td>\n",
       "      <td>12.0</td>\n",
       "      <td>27.0</td>\n",
       "      <td>23.90000</td>\n",
       "      <td>28.372395</td>\n",
       "      <td>4.070516</td>\n",
       "      <td>-1.098729</td>\n",
       "    </tr>\n",
       "    <tr>\n",
       "      <th>367076</th>\n",
       "      <td>24</td>\n",
       "      <td>15</td>\n",
       "      <td>2014.989247</td>\n",
       "      <td>10.47604</td>\n",
       "      <td>11.250</td>\n",
       "      <td>2014.0</td>\n",
       "      <td>12.0</td>\n",
       "      <td>28.0</td>\n",
       "      <td>25.82500</td>\n",
       "      <td>28.372395</td>\n",
       "      <td>4.070516</td>\n",
       "      <td>-0.625816</td>\n",
       "    </tr>\n",
       "    <tr>\n",
       "      <th>367077</th>\n",
       "      <td>24</td>\n",
       "      <td>15</td>\n",
       "      <td>2014.991935</td>\n",
       "      <td>10.47604</td>\n",
       "      <td>11.250</td>\n",
       "      <td>2014.0</td>\n",
       "      <td>12.0</td>\n",
       "      <td>29.0</td>\n",
       "      <td>26.70000</td>\n",
       "      <td>28.372395</td>\n",
       "      <td>4.070516</td>\n",
       "      <td>-0.410856</td>\n",
       "    </tr>\n",
       "    <tr>\n",
       "      <th>367078</th>\n",
       "      <td>24</td>\n",
       "      <td>15</td>\n",
       "      <td>2014.994624</td>\n",
       "      <td>10.47604</td>\n",
       "      <td>11.250</td>\n",
       "      <td>2014.0</td>\n",
       "      <td>12.0</td>\n",
       "      <td>30.0</td>\n",
       "      <td>27.85000</td>\n",
       "      <td>28.372395</td>\n",
       "      <td>4.070516</td>\n",
       "      <td>-0.128336</td>\n",
       "    </tr>\n",
       "    <tr>\n",
       "      <th>367079</th>\n",
       "      <td>24</td>\n",
       "      <td>15</td>\n",
       "      <td>2014.997312</td>\n",
       "      <td>10.47604</td>\n",
       "      <td>11.250</td>\n",
       "      <td>2014.0</td>\n",
       "      <td>12.0</td>\n",
       "      <td>31.0</td>\n",
       "      <td>28.15000</td>\n",
       "      <td>28.372395</td>\n",
       "      <td>4.070516</td>\n",
       "      <td>-0.054636</td>\n",
       "    </tr>\n",
       "  </tbody>\n",
       "</table>\n",
       "<p>342608 rows × 12 columns</p>\n",
       "</div>"
      ],
      "text/plain": [
       "        grid_val  loc_key            t       lat     lon    year  month   day  \\\n",
       "0              7        4  1948.000000   6.66657   5.625  1948.0    1.0   1.0   \n",
       "1              7        4  1948.002688   6.66657   5.625  1948.0    1.0   2.0   \n",
       "2              7        4  1948.005376   6.66657   5.625  1948.0    1.0   3.0   \n",
       "3              7        4  1948.008065   6.66657   5.625  1948.0    1.0   4.0   \n",
       "4              7        4  1948.010753   6.66657   5.625  1948.0    1.0   5.0   \n",
       "...          ...      ...          ...       ...     ...     ...    ...   ...   \n",
       "367075        24       15  2014.986559  10.47604  11.250  2014.0   12.0  27.0   \n",
       "367076        24       15  2014.989247  10.47604  11.250  2014.0   12.0  28.0   \n",
       "367077        24       15  2014.991935  10.47604  11.250  2014.0   12.0  29.0   \n",
       "367078        24       15  2014.994624  10.47604  11.250  2014.0   12.0  30.0   \n",
       "367079        24       15  2014.997312  10.47604  11.250  2014.0   12.0  31.0   \n",
       "\n",
       "            tmax    tmax_mu  tmax_sigma  era_adj_tmax  \n",
       "0       25.65000  25.736254    1.984310     -0.043468  \n",
       "1       25.19998  25.736254    1.984310     -0.270257  \n",
       "2       25.85000  25.736254    1.984310      0.057322  \n",
       "3       26.82500  25.736254    1.984310      0.548677  \n",
       "4       26.47500  25.736254    1.984310      0.372293  \n",
       "...          ...        ...         ...           ...  \n",
       "367075  23.90000  28.372395    4.070516     -1.098729  \n",
       "367076  25.82500  28.372395    4.070516     -0.625816  \n",
       "367077  26.70000  28.372395    4.070516     -0.410856  \n",
       "367078  27.85000  28.372395    4.070516     -0.128336  \n",
       "367079  28.15000  28.372395    4.070516     -0.054636  \n",
       "\n",
       "[342608 rows x 12 columns]"
      ]
     },
     "execution_count": 15,
     "metadata": {},
     "output_type": "execute_result"
    }
   ],
   "source": [
    "era_mon_nigeria "
   ]
  },
  {
   "cell_type": "code",
   "execution_count": null,
   "metadata": {},
   "outputs": [
    {
     "data": {
      "image/png": "[encoded data removed]",
      "text/plain": [
       "<Figure size 432x288 with 1 Axes>"
      ]
     },
     "metadata": {
      "needs_background": "light"
     },
     "output_type": "display_data"
    }
   ],
   "source": [
    "\n",
    "a = era_mon_nigeria.groupby(['lat', 'lon']).mean().reset_index()\n",
    "b = gcm_mon_nigeria.groupby(['lat', 'lon']).mean().reset_index()\n",
    "plt.scatter(a['lat'], a['lon'], c='orange')\n",
    "plt.scatter(b['lat'], b['lon'], c='b') \n",
    "for i in range(a.shape[0]):\n",
    "    plt.text(a['lat'][i], a['lon'][i], str(a['grid_val'][i]), c='orange')\n",
    "for i in range(b.shape[0]):\n",
    "    plt.text(b['lat'][i], b['lon'][i], str(b['grid_val'][i]), c='b')"
   ]
  },
  {
   "cell_type": "code",
   "execution_count": null,
   "metadata": {},
   "outputs": [],
   "source": [
    "# prepare data for batcher_bc\n",
    "array = pd.merge(era_mon_nigeria, gcm_mon_nigeria, on=['grid_val', 't'], how='inner', suffixes=('', '_gcm'))\n",
    "### check if merge is correct\n",
    "# array.loc[array.grid_val==r_grid_val, ['loc_key', 'loc_key_gcm', 't', 'adj_tmax', 'adj_tasmax']]\n",
    "####"
   ]
  },
  {
   "cell_type": "code",
   "execution_count": null,
   "metadata": {},
   "outputs": [
    {
     "data": {
      "text/plain": [
       "(<tensorflow.python.training.tracking.util.Checkpoint at 0x3d817b910>,\n",
       " <tensorflow.python.training.checkpoint_management.CheckpointManager at 0x5873c12e0>)"
      ]
     },
     "execution_count": 27,
     "metadata": {},
     "output_type": "execute_result"
    }
   ],
   "source": [
    "m = model_init.model_init('leak', 2, 'forecasting/bc/', multiply = 2, bc=True, subsample = False)\n",
    "m.load_model()"
   ]
  },
  {
   "cell_type": "code",
   "execution_count": null,
   "metadata": {},
   "outputs": [],
   "source": [
    "r_grid_val = np.random.choice(np.unique(array.grid_val), 1)[0]\n",
    "r_loc_key = np.random.choice(np.unique(array.loc[array.grid_val==r_grid_val, ['loc_key_gcm']]), 1)[0]\n",
    "arr_temp = array.loc[(array.grid_val==r_grid_val) & (array.loc_key_gcm == r_loc_key), ['t', 'gcm_adj_tasmax', 'era_adj_tmax']].reset_index(drop=True)\n",
    "x, y = batcher.batcher_bc(np.array(arr_temp.reset_index(drop=True)), 180)"
   ]
  },
  {
   "cell_type": "code",
   "execution_count": null,
   "metadata": {},
   "outputs": [
    {
     "ename": "AttributeError",
     "evalue": "'atp_pipeline' object has no attribute 'MHAX_leakage'",
     "output_type": "error",
     "traceback": [
      "\u001b[0;31m---------------------------------------------------------------------------\u001b[0m",
      "\u001b[0;31mAttributeError\u001b[0m                            Traceback (most recent call last)",
      "\u001b[1;32m/Users/omernivron/Documents/ATP/bc_nigeria_24_05.ipynb Cell 20\u001b[0m in \u001b[0;36m<cell line: 1>\u001b[0;34m()\u001b[0m\n\u001b[0;32m----> <a href='vscode-notebook-cell:/Users/omernivron/Documents/ATP/bc_nigeria_24_05.ipynb#Y103sZmlsZQ%3D%3D?line=0'>1</a>\u001b[0m m\u001b[39m.\u001b[39;49mmodel\u001b[39m.\u001b[39;49mMHAX_leakage\n",
      "\u001b[0;31mAttributeError\u001b[0m: 'atp_pipeline' object has no attribute 'MHAX_leakage'"
     ]
    }
   ],
   "source": [
    "m.model.MHAX_leakage"
   ]
  },
  {
   "cell_type": "code",
   "execution_count": null,
   "metadata": {},
   "outputs": [
    {
     "name": "stdout",
     "output_type": "stream",
     "text": [
      "MHAX_leakage\n"
     ]
    }
   ],
   "source": [
    "m  = atp_pipeline.atp_pipeline(multiply=2, MHAX_leakage=True, subsample=False, bc=True)"
   ]
  },
  {
   "cell_type": "code",
   "execution_count": null,
   "metadata": {},
   "outputs": [
    {
     "data": {
      "text/plain": [
       "(<tf.Tensor: shape=(32, 0, 1), dtype=float32, numpy=array([], shape=(32, 0, 1), dtype=float32)>,\n",
       " <tf.Tensor: shape=(32, 0, 1), dtype=float32, numpy=array([], shape=(32, 0, 1), dtype=float32)>)"
      ]
     },
     "execution_count": 35,
     "metadata": {},
     "output_type": "execute_result"
    }
   ],
   "source": [
    "n_C = [180, 90]\n",
    "n_T = [0, 90]\n",
    "n_C_s = [0, 0]\n",
    "n_T_s = [0, 0]\n",
    "m([x[:, :, np.newaxis], y, n_C, n_T, True, n_C_s, n_T_s])"
   ]
  },
  {
   "cell_type": "code",
   "execution_count": 23,
   "metadata": {},
   "outputs": [
    {
     "data": {
      "text/plain": [
       "(32, 360)"
      ]
     },
     "execution_count": 23,
     "metadata": {},
     "output_type": "execute_result"
    }
   ],
   "source": [
    "x.shape"
   ]
  },
  {
   "cell_type": "code",
   "execution_count": 21,
   "metadata": {},
   "outputs": [],
   "source": [
    "        n_C = 90\n",
    "        n_T = 90\n",
    "        subsample = False\n",
    "        n_C_s, n_T_s  = 0, 0\n",
    "        x = x[:,:(n_C+n_T) * 2][:, :, np.newaxis]\n",
    "        y = y[:,:(n_C+n_T) * 2,:]"
   ]
  },
  {
   "cell_type": "code",
   "execution_count": 22,
   "metadata": {},
   "outputs": [],
   "source": [
    "    def concat_context_multi_ts(list_of_inputs, dim, n_C):\n",
    "        return tf.concat([list_of_inputs[i][dim][:, :n_C, :] for i in range(len(list_of_inputs))], axis=1)\n",
    "\n",
    "    def concat_target_multi_ts(list_of_inputs, dim, n_C, n_T, last_dim):\n",
    "        x = tf.concat([list_of_inputs[i][dim][:, n_C:n_C+n_T, :][:, :, tf.newaxis, :] for i in range(len(list_of_inputs))], axis=2)\n",
    "        x = tf.reshape(x, (x.shape[0], -1, last_dim))\n",
    "        return x"
   ]
  },
  {
   "cell_type": "code",
   "execution_count": 23,
   "metadata": {},
   "outputs": [],
   "source": [
    "from data_wrangler import feature_extractor"
   ]
  },
  {
   "cell_type": "code",
   "execution_count": 24,
   "metadata": {},
   "outputs": [],
   "source": [
    "f = feature_extractor.feature_wrapper()\n",
    "de = feature_extractor.DE()"
   ]
  },
  {
   "cell_type": "code",
   "execution_count": 25,
   "metadata": {},
   "outputs": [],
   "source": [
    "n_C = [180, 90]\n",
    "n_T = [0, 90]\n",
    "batch_size = x.shape[0]\n",
    "inputs_for_processing = []\n",
    "eye = tf.eye(2)\n",
    "for i in range(2):\n",
    "    # embed each ts separately and each dimension separately\n",
    "    ts_label = tf.reshape(tf.repeat(eye[:, i][tf.newaxis, :], batch_size*(n_C[i] + n_T[i]), axis=0), (batch_size, -1, 2)) # one hot encoding of the ts\n",
    "    ts_start = i*(n_C[i] + n_T[i])\n",
    "    ts_end = (i+1)*(n_C[i] + n_T[i])\n",
    "\n",
    "\n",
    "    x_temp = x[:, ts_start:ts_end, :]\n",
    "    y_temp = y[:, ts_start:ts_end, :]\n",
    "\n",
    "    x_emb = [tf.concat([f.PE([x_temp[:, :, dim_num][:, :, tf.newaxis], 10, 0.1, 2]), ts_label], axis=-1) for dim_num in range(x_temp.shape[-1])] \n",
    "    x_emb = tf.concat(x_emb, axis=-1) # (32, 30, 34)\n",
    "    # take derivative of each ts separately\n",
    "    y_diff, x_diff, d, x_n, y_n = de([y_temp, x_temp, n_C[i], n_T[i], True]) #  (32, 30, 1),  (32, 30, 1), (32, 30, 2), (32, 30, 1), (32, 30, 1)\n",
    "\n",
    "    inputs_for_processing.append([x_emb, y_temp, y_diff, x_diff, d, x_n, y_n])  \n",
    "\n"
   ]
  },
  {
   "cell_type": "code",
   "execution_count": 27,
   "metadata": {},
   "outputs": [],
   "source": [
    "context_list = [concat_context_multi_ts(inputs_for_processing, j, n_C[0] + n_T[0]) for j in range(7)]\n"
   ]
  },
  {
   "cell_type": "code",
   "execution_count": 29,
   "metadata": {},
   "outputs": [
    {
     "data": {
      "text/plain": [
       "270"
      ]
     },
     "execution_count": 29,
     "metadata": {},
     "output_type": "execute_result"
    }
   ],
   "source": [
    "context_list[0].shape\n",
    "n_C[0] + n_T[0] + n_C[1] "
   ]
  },
  {
   "cell_type": "code",
   "execution_count": 26,
   "metadata": {},
   "outputs": [
    {
     "data": {
      "text/plain": [
       "TensorShape([32, 180, 12])"
      ]
     },
     "execution_count": 26,
     "metadata": {},
     "output_type": "execute_result"
    }
   ],
   "source": [
    "inputs_for_processing[1][0].shape"
   ]
  },
  {
   "cell_type": "code",
   "execution_count": null,
   "metadata": {},
   "outputs": [],
   "source": [
    "# the end sequence will be (y_11,.., y_1n_C, y21, ..y_2n_C2, y1*, y1**, ...,y1****)\n"
   ]
  },
  {
   "cell_type": "code",
   "execution_count": null,
   "metadata": {},
   "outputs": [],
   "source": [
    "\n",
    "context_list = [self.concat_context_multi_ts(inputs_for_processing, j, n_C) for j in range(7)]\n",
    "target_list = [self.concat_target_multi_ts(inputs_for_processing, j, n_C, n_T, context_list[j].shape[-1]) for j in range(7)]\n",
    "x_emb, y, y_diff, x_diff, d, x_n, y_n = [tf.concat([context_list[j], target_list[j]], axis=1) for j in range(7)]"
   ]
  }
 ],
 "metadata": {
  "kernelspec": {
   "display_name": "tf_m1_n",
   "language": "python",
   "name": "python3"
  },
  "language_info": {
   "codemirror_mode": {
    "name": "ipython",
    "version": 3
   },
   "file_extension": ".py",
   "mimetype": "text/x-python",
   "name": "python",
   "nbconvert_exporter": "python",
   "pygments_lexer": "ipython3",
   "version": "3.8.13"
  },
  "orig_nbformat": 4
 },
 "nbformat": 4,
 "nbformat_minor": 2
}
