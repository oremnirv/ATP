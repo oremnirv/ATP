{
 "cells": [
  {
   "cell_type": "code",
   "execution_count": 1,
   "id": "a048a264-8339-41eb-b5d2-f9f07e0b48c4",
   "metadata": {},
   "outputs": [],
   "source": [
    "from model import atp_graph, losses\n",
    "from Tutorials.helper import batcher\n",
    "from data import synthetic_data_gen, feature_extractor\n",
    "import keras\n",
    "import matplotlib.pyplot as plt\n",
    "plt.style.use('ggplot')\n",
    "import numpy as np\n",
    "import pandas as pd\n",
    "import tensorflow as tf\n",
    "import IPython\n",
    "import time\n",
    "import os\n",
    "\n",
    "from model import atp_pipeline"
   ]
  },
  {
   "cell_type": "code",
   "execution_count": 6,
   "id": "08b62b90-1459-489a-86b9-9f8d9a01023b",
   "metadata": {},
   "outputs": [],
   "source": [
    "pd_array = pd.read_csv('datasets/traffic.csv')"
   ]
  },
  {
   "cell_type": "code",
   "execution_count": 17,
   "id": "476e6610-e9a9-4925-bb42-a4a52e1dcf3f",
   "metadata": {},
   "outputs": [
    {
     "data": {
      "text/plain": [
       "[<matplotlib.lines.Line2D at 0x2f35a8c40>]"
      ]
     },
     "execution_count": 17,
     "metadata": {},
     "output_type": "execute_result"
    },
    {
     "data": {
      "image/png": "[encoded data removed]",
      "text/plain": [
       "<Figure size 432x288 with 1 Axes>"
      ]
     },
     "metadata": {
      "needs_background": "light"
     },
     "output_type": "display_data"
    }
   ],
   "source": [
    "plt.plot(pd_array['2'])"
   ]
  },
  {
   "cell_type": "code",
   "execution_count": 7,
   "id": "3a7da2a7-90ab-438b-9e79-a3e25b167408",
   "metadata": {},
   "outputs": [],
   "source": [
    "data = np.array(pd_array)"
   ]
  },
  {
   "cell_type": "code",
   "execution_count": 9,
   "id": "fd4590ce-bf87-45e2-bf15-aac791957ace",
   "metadata": {},
   "outputs": [],
   "source": [
    "data[:,0] = np.linspace(-1,1,data.shape[0])"
   ]
  },
  {
   "cell_type": "code",
   "execution_count": 10,
   "id": "890c5836-a405-4e8b-b332-a32cf984d2bc",
   "metadata": {},
   "outputs": [],
   "source": [
    "data = data.astype(\"float32\")"
   ]
  },
  {
   "cell_type": "code",
   "execution_count": 12,
   "id": "4d77f7bb-874f-48a2-8041-687f5429f827",
   "metadata": {},
   "outputs": [],
   "source": [
    "training_data = data[:int(0.7*data.shape[0])]\n",
    "val_data = data[int(0.7*data.shape[0]):int(0.8*data.shape[0])]\n",
    "test_data = data[int(0.9*data.shape[0]):]"
   ]
  },
  {
   "cell_type": "code",
   "execution_count": 13,
   "id": "e0f2f89b-bbda-4891-b4f5-f29d9960e89f",
   "metadata": {},
   "outputs": [],
   "source": [
    "#scale\n",
    "\n",
    "training_data_scaled = (training_data - np.mean(training_data,axis=0))/np.std(training_data,axis=0)\n",
    "val_data_scaled = (val_data - np.mean(training_data,axis=0))/np.std(training_data,axis=0)\n",
    "test_data_scaled =  (test_data - np.mean(training_data,axis=0))/np.std(training_data,axis=0)"
   ]
  },
  {
   "cell_type": "code",
   "execution_count": 14,
   "id": "0de456f1-af9c-4514-9f63-07d0692d0593",
   "metadata": {},
   "outputs": [],
   "source": [
    "save_dir = \"weights/forecasting/traffic\""
   ]
  },
  {
   "cell_type": "code",
   "execution_count": null,
   "id": "3d824f92-dbc9-4d41-a4a4-44095183aac5",
   "metadata": {},
   "outputs": [],
   "source": [
    "tf.random.set_seed(442)\n",
    "opt = tf.keras.optimizers.Adam(3e-4)\n",
    "run=3; heads=2\n",
    "atp_model = atp_pipeline.atp_pipeline()\n",
    "EPOCHS = 2"
   ]
  },
  {
   "cell_type": "code",
   "execution_count": 15,
   "id": "11d78d64-fce8-42cb-9ca4-eb029e828dfb",
   "metadata": {},
   "outputs": [],
   "source": [
    "seq_l = 96+192;\n",
    "num_batches = 500\n",
    "batch_s=20\n",
    "mini = 50000\n",
    "n_C_te =5"
   ]
  },
  {
   "cell_type": "code",
   "execution_count": null,
   "id": "404b0963-3403-438a-baef-22e73b00263f",
   "metadata": {},
   "outputs": [],
   "source": [
    "step = 1\n",
    "tr_step = atp_graph.build_graph()\n",
    "\n",
    "name_comp = 'run_' + str(run)\n",
    "logdir = save_dir + '/logs/' + name_comp\n",
    "folder = save_dir + '/ckpt/check_' + name_comp\n",
    "\n",
    "if not os.path.exists(folder): os.mkdir(folder)\n",
    "ckpt = tf.train.Checkpoint(step=tf.Variable(1), optimizer=opt, net=atp_model)\n",
    "manager = tf.train.CheckpointManager(ckpt, folder, max_to_keep=1)\n",
    "ckpt.restore(manager.latest_checkpoint)"
   ]
  },
  {
   "cell_type": "code",
   "execution_count": null,
   "id": "07af8156-ecc0-4d78-b489-01b3e25f17b3",
   "metadata": {},
   "outputs": [],
   "source": [
    "for epoch in range(2):\n",
    "    print(\"epoch: \",+epoch)\n",
    "    start = time.time()\n",
    "    for batch_n in range(10):\n",
    "         \n",
    "        x,y = batcher(training_data_scaled[:,:1],training_data_scaled[:,-2:])\n",
    "        n_C = int(np.random.choice(np.arange(2, 20), 1))\n",
    "        n_T = 288 - n_C\n",
    "        y_tr = y\n",
    "        t_tr = x\n",
    "        _,_, nll_pp, msex = tr_step(atp_model, opt, t_tr,y_tr,n_C,n_T, training=True)\n",
    "\n",
    "        if ((batch_n % 2 == 0)):\n",
    "            \n",
    "            n_C = 10\n",
    "            n_T = 200 - n_C\n",
    "            t_te,y_te = batcher(val_data_scaled[:,:1], val_data_scaled[:,-2:],batch_s = 100)\n",
    "            μ, log_σ = atp_model([t_te, y_te, 10, 200, False])\n",
    "            _,_,_, nll_pp_te, msex_te = losses.nll(y_te[:, n_C:n_C+n_T], μ[:, n_C:], log_σ[:, n_C:])\n",
    "            \n",
    "        if nll_pp_te < mini:\n",
    "            mini = nll_pp_te\n",
    "            IPython.display.clear_output(wait=True)\n",
    "            print(\"epoch {} batch {} validation lik pp: {}\".format(epoch, batch_n, nll_pp)) \n",
    "            manager.save()\n",
    "            step += 1\n",
    "            ckpt.step.assign_add(1)\n",
    "    print ('Time taken for 1 epoch: {} secs\\n'.format(time.time() - start))"
   ]
  }
 ],
 "metadata": {
  "kernelspec": {
   "display_name": "Python 3 (ipykernel)",
   "language": "python",
   "name": "python3"
  },
  "language_info": {
   "codemirror_mode": {
    "name": "ipython",
    "version": 3
   },
   "file_extension": ".py",
   "mimetype": "text/x-python",
   "name": "python",
   "nbconvert_exporter": "python",
   "pygments_lexer": "ipython3",
   "version": "3.8.13"
  }
 },
 "nbformat": 4,
 "nbformat_minor": 5
}
